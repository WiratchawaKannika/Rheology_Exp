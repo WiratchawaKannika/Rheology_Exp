{
 "cells": [
  {
   "cell_type": "code",
   "execution_count": 1,
   "id": "statutory-bleeding",
   "metadata": {},
   "outputs": [],
   "source": [
    "import pandas as pd\n",
    "import numpy as np\n",
    "import os\n",
    "import glob\n",
    "import cv2\n",
    "import PIL\n",
    "from PIL import Image\n",
    "\n",
    "%matplotlib inline\n",
    "from matplotlib import pyplot as plt"
   ]
  },
  {
   "cell_type": "code",
   "execution_count": 2,
   "id": "radical-count",
   "metadata": {},
   "outputs": [
    {
     "name": "stdout",
     "output_type": "stream",
     "text": [
      "(168, 16)\n"
     ]
    },
    {
     "data": {
      "text/html": [
       "<div>\n",
       "<style scoped>\n",
       "    .dataframe tbody tr th:only-of-type {\n",
       "        vertical-align: middle;\n",
       "    }\n",
       "\n",
       "    .dataframe tbody tr th {\n",
       "        vertical-align: top;\n",
       "    }\n",
       "\n",
       "    .dataframe thead th {\n",
       "        text-align: right;\n",
       "    }\n",
       "</style>\n",
       "<table border=\"1\" class=\"dataframe\">\n",
       "  <thead>\n",
       "    <tr style=\"text-align: right;\">\n",
       "      <th></th>\n",
       "      <th>Unnamed: 0</th>\n",
       "      <th>Unnamed: 0.2</th>\n",
       "      <th>Unnamed: 0.1</th>\n",
       "      <th>Unnamed: 0.1.1</th>\n",
       "      <th>image_name</th>\n",
       "      <th>image_path</th>\n",
       "      <th>image_folder</th>\n",
       "      <th>folder_source</th>\n",
       "      <th>classes</th>\n",
       "      <th>Code</th>\n",
       "      <th>subclass</th>\n",
       "      <th>dt</th>\n",
       "      <th>classes_binary</th>\n",
       "      <th>typeBEvsBM</th>\n",
       "      <th>fold</th>\n",
       "      <th>typeBEvsBM_binary</th>\n",
       "    </tr>\n",
       "  </thead>\n",
       "  <tbody>\n",
       "    <tr>\n",
       "      <th>0</th>\n",
       "      <td>0</td>\n",
       "      <td>0</td>\n",
       "      <td>185</td>\n",
       "      <td>185</td>\n",
       "      <td>HN29_D0_30HZ_20XINF_UWELL_25660117_150029_dt2_...</td>\n",
       "      <td>/media/tohn/HDD/rheology2023/Blood_Viscosity_2...</td>\n",
       "      <td>HN29_D0_30HZ_20XINF_UWELL_25660117_150029</td>\n",
       "      <td>SSD_Backup</td>\n",
       "      <td>HN</td>\n",
       "      <td>HN29</td>\n",
       "      <td>No_Splenectomy</td>\n",
       "      <td>[2, 5, 7]</td>\n",
       "      <td>1</td>\n",
       "      <td>E</td>\n",
       "      <td>1</td>\n",
       "      <td>0</td>\n",
       "    </tr>\n",
       "    <tr>\n",
       "      <th>1</th>\n",
       "      <td>1</td>\n",
       "      <td>1</td>\n",
       "      <td>278</td>\n",
       "      <td>278</td>\n",
       "      <td>HN39_D0_30HZ_20XINF_UWELL_25660223_151435_dt2_...</td>\n",
       "      <td>/media/tohn/HDD/rheology2023/Blood_Viscosity_2...</td>\n",
       "      <td>HN39_D0_30HZ_20XINF_UWELL_25660223_151435</td>\n",
       "      <td>SSD_Backup</td>\n",
       "      <td>HN</td>\n",
       "      <td>HN39</td>\n",
       "      <td>Splenectomy</td>\n",
       "      <td>[2, 5, 7]</td>\n",
       "      <td>1</td>\n",
       "      <td>E</td>\n",
       "      <td>1</td>\n",
       "      <td>0</td>\n",
       "    </tr>\n",
       "    <tr>\n",
       "      <th>2</th>\n",
       "      <td>2</td>\n",
       "      <td>2</td>\n",
       "      <td>280</td>\n",
       "      <td>280</td>\n",
       "      <td>HN39_D0_30HZ_20XINF_UWELL_25660223_151842_dt2_...</td>\n",
       "      <td>/media/tohn/HDD/rheology2023/Blood_Viscosity_2...</td>\n",
       "      <td>HN39_D0_30HZ_20XINF_UWELL_25660223_151842</td>\n",
       "      <td>SSD_Backup</td>\n",
       "      <td>HN</td>\n",
       "      <td>HN39</td>\n",
       "      <td>Splenectomy</td>\n",
       "      <td>[2, 5, 7]</td>\n",
       "      <td>1</td>\n",
       "      <td>E</td>\n",
       "      <td>1</td>\n",
       "      <td>0</td>\n",
       "    </tr>\n",
       "    <tr>\n",
       "      <th>3</th>\n",
       "      <td>3</td>\n",
       "      <td>3</td>\n",
       "      <td>286</td>\n",
       "      <td>286</td>\n",
       "      <td>HN39_D0_30HZ_20XINF_UWELL_25660223_153102_dt2_...</td>\n",
       "      <td>/media/tohn/HDD/rheology2023/Blood_Viscosity_2...</td>\n",
       "      <td>HN39_D0_30HZ_20XINF_UWELL_25660223_153102</td>\n",
       "      <td>SSD_Backup</td>\n",
       "      <td>HN</td>\n",
       "      <td>HN39</td>\n",
       "      <td>Splenectomy</td>\n",
       "      <td>[2, 5, 7]</td>\n",
       "      <td>1</td>\n",
       "      <td>E</td>\n",
       "      <td>1</td>\n",
       "      <td>0</td>\n",
       "    </tr>\n",
       "    <tr>\n",
       "      <th>4</th>\n",
       "      <td>4</td>\n",
       "      <td>4</td>\n",
       "      <td>48</td>\n",
       "      <td>48</td>\n",
       "      <td>HN13_D0_30HZ_20XINF_UWELL_25651124_144313_dt2_...</td>\n",
       "      <td>/media/tohn/HDD/rheology2023/Blood_Viscosity_2...</td>\n",
       "      <td>HN13_D0_30HZ_20XINF_UWELL_25651124_144313</td>\n",
       "      <td>SSD_Backup</td>\n",
       "      <td>HN</td>\n",
       "      <td>HN13</td>\n",
       "      <td>Splenectomy</td>\n",
       "      <td>[2, 5, 7]</td>\n",
       "      <td>1</td>\n",
       "      <td>E</td>\n",
       "      <td>1</td>\n",
       "      <td>0</td>\n",
       "    </tr>\n",
       "  </tbody>\n",
       "</table>\n",
       "</div>"
      ],
      "text/plain": [
       "   Unnamed: 0  Unnamed: 0.2  Unnamed: 0.1  Unnamed: 0.1.1  \\\n",
       "0           0             0           185             185   \n",
       "1           1             1           278             278   \n",
       "2           2             2           280             280   \n",
       "3           3             3           286             286   \n",
       "4           4             4            48              48   \n",
       "\n",
       "                                          image_name  \\\n",
       "0  HN29_D0_30HZ_20XINF_UWELL_25660117_150029_dt2_...   \n",
       "1  HN39_D0_30HZ_20XINF_UWELL_25660223_151435_dt2_...   \n",
       "2  HN39_D0_30HZ_20XINF_UWELL_25660223_151842_dt2_...   \n",
       "3  HN39_D0_30HZ_20XINF_UWELL_25660223_153102_dt2_...   \n",
       "4  HN13_D0_30HZ_20XINF_UWELL_25651124_144313_dt2_...   \n",
       "\n",
       "                                          image_path  \\\n",
       "0  /media/tohn/HDD/rheology2023/Blood_Viscosity_2...   \n",
       "1  /media/tohn/HDD/rheology2023/Blood_Viscosity_2...   \n",
       "2  /media/tohn/HDD/rheology2023/Blood_Viscosity_2...   \n",
       "3  /media/tohn/HDD/rheology2023/Blood_Viscosity_2...   \n",
       "4  /media/tohn/HDD/rheology2023/Blood_Viscosity_2...   \n",
       "\n",
       "                                image_folder folder_source classes  Code  \\\n",
       "0  HN29_D0_30HZ_20XINF_UWELL_25660117_150029    SSD_Backup      HN  HN29   \n",
       "1  HN39_D0_30HZ_20XINF_UWELL_25660223_151435    SSD_Backup      HN  HN39   \n",
       "2  HN39_D0_30HZ_20XINF_UWELL_25660223_151842    SSD_Backup      HN  HN39   \n",
       "3  HN39_D0_30HZ_20XINF_UWELL_25660223_153102    SSD_Backup      HN  HN39   \n",
       "4  HN13_D0_30HZ_20XINF_UWELL_25651124_144313    SSD_Backup      HN  HN13   \n",
       "\n",
       "         subclass         dt  classes_binary typeBEvsBM  fold  \\\n",
       "0  No_Splenectomy  [2, 5, 7]               1          E     1   \n",
       "1     Splenectomy  [2, 5, 7]               1          E     1   \n",
       "2     Splenectomy  [2, 5, 7]               1          E     1   \n",
       "3     Splenectomy  [2, 5, 7]               1          E     1   \n",
       "4     Splenectomy  [2, 5, 7]               1          E     1   \n",
       "\n",
       "   typeBEvsBM_binary  \n",
       "0                  0  \n",
       "1                  0  \n",
       "2                  0  \n",
       "3                  0  \n",
       "4                  0  "
      ]
     },
     "execution_count": 2,
     "metadata": {},
     "output_type": "execute_result"
    }
   ],
   "source": [
    "df_2dFFT = pd.read_csv(\"/home/kannika/code/Rheology2023/Rheology_Blood/Dataset_Blood_Viscosity-2dFFTdataset-3channels-3Fold-EMClasses.csv\")\n",
    "#/home/kannika/code/Rheology2023/Rheology_Blood/Dataset_Blood_Viscosity-2dFFTdataset-3channels-3Fold-EMClasses.csv\n",
    "print(df_2dFFT.shape)\n",
    "df_2dFFT.head()"
   ]
  },
  {
   "cell_type": "code",
   "execution_count": 5,
   "id": "australian-florence",
   "metadata": {},
   "outputs": [
    {
     "name": "stdout",
     "output_type": "stream",
     "text": [
      "2\n",
      "[INFO]: ----- No_Splenectomy -----\n",
      "[INFO]: 65 images ==> 16 Cases\n",
      "*****************************************************************************************************************************\n",
      "[INFO]: ----- Splenectomy -----\n",
      "[INFO]: 103 images ==> 17 Cases\n",
      "*****************************************************************************************************************************\n"
     ]
    }
   ],
   "source": [
    "subclass = list(set(df_2dFFT[\"subclass\"]))\n",
    "print(len(subclass))\n",
    "subclass\n",
    "\n",
    "for sub_i in subclass:\n",
    "    print(f\"[INFO]: ----- {sub_i} -----\")\n",
    "    df_sub = df_2dFFT[df_2dFFT[\"subclass\"]==sub_i].reset_index(drop=True)\n",
    "    set_case = list(set(df_sub[\"Code\"]))\n",
    "    print(f\"[INFO]: {df_sub.shape[0]} images ==> {len(set_case)} Cases\")\n",
    "    print(\"*\"*125)"
   ]
  },
  {
   "cell_type": "code",
   "execution_count": null,
   "id": "bound-librarian",
   "metadata": {},
   "outputs": [],
   "source": []
  },
  {
   "cell_type": "code",
   "execution_count": 22,
   "id": "tender-heating",
   "metadata": {},
   "outputs": [
    {
     "name": "stdout",
     "output_type": "stream",
     "text": [
      "33\n",
      "[INFO]: Case: HN02 ==> len 4 images\n",
      "[INFO]: Case: HN23 ==> len 4 images\n",
      "[INFO]: Case: HN01 ==> len 5 images\n",
      "[INFO]: Case: HN36 ==> len 12 images\n",
      "[INFO]: Case: HN16 ==> len 4 images\n",
      "[INFO]: Case: HN29 ==> len 3 images\n",
      "[INFO]: Case: HN28 ==> len 8 images\n",
      "[INFO]: Case: HN14 ==> len 2 images\n",
      "[INFO]: Case: HN30 ==> len 2 images\n",
      "[INFO]: Case: HN32 ==> len 2 images\n",
      "[INFO]: Case: HN21 ==> len 1 images\n",
      "[INFO]: Case: HN19 ==> len 8 images\n",
      "[INFO]: Case: HN35 ==> len 3 images\n",
      "[INFO]: Case: HN22 ==> len 10 images\n",
      "[INFO]: Case: HN27 ==> len 3 images\n",
      "[INFO]: Case: HN24 ==> len 8 images\n",
      "[INFO]: Case: HN39 ==> len 6 images\n",
      "[INFO]: Case: HN31 ==> len 2 images\n",
      "[INFO]: Case: HN44 ==> len 1 images\n",
      "[INFO]: Case: HN25 ==> len 8 images\n",
      "[INFO]: Case: HN33 ==> len 2 images\n",
      "[INFO]: Case: HN40 ==> len 12 images\n",
      "[INFO]: Case: HN17 ==> len 6 images\n",
      "[INFO]: Case: HN12 ==> len 7 images\n",
      "[INFO]: Case: HN42 ==> len 2 images\n",
      "[INFO]: Case: HN38 ==> len 5 images\n",
      "[INFO]: Case: HN13 ==> len 5 images\n",
      "[INFO]: Case: HN41 ==> len 12 images\n",
      "[INFO]: Case: HN43 ==> len 6 images\n",
      "[INFO]: Case: HN20 ==> len 3 images\n",
      "[INFO]: Case: HN34 ==> len 5 images\n",
      "[INFO]: Case: HN26 ==> len 4 images\n",
      "[INFO]: Case: HN18 ==> len 3 images\n"
     ]
    }
   ],
   "source": [
    "df_l_len = []\n",
    "list_code =  list(set(df_2dFFT[\"Code\"]))\n",
    "print(len(list_code))\n",
    "#list_code\n",
    "for l in range(len(list_code)):\n",
    "    df_l = df_2dFFT[df_2dFFT[\"Code\"]==list_code[l]].reset_index(drop=True)\n",
    "    print(f\"[INFO]: Case: {list_code[l]} ==> len {df_l.shape[0]} images\")\n",
    "    df_l_len.append(df_l.shape[0])"
   ]
  },
  {
   "cell_type": "code",
   "execution_count": 24,
   "id": "authorized-webmaster",
   "metadata": {},
   "outputs": [
    {
     "name": "stdout",
     "output_type": "stream",
     "text": [
      "Min 1\n",
      "Max 12\n"
     ]
    }
   ],
   "source": [
    "print(\"Min:\" ,min(df_l_len))\n",
    "print(\"Max:\", max(df_l_len)) "
   ]
  },
  {
   "cell_type": "code",
   "execution_count": null,
   "id": "radical-start",
   "metadata": {},
   "outputs": [],
   "source": [
    "#grouped = .groupby([\"A\", \"B\"])"
   ]
  },
  {
   "cell_type": "code",
   "execution_count": 12,
   "id": "presidential-citizenship",
   "metadata": {},
   "outputs": [],
   "source": [
    "## Check\n",
    "def _(DataSet):\n",
    "    lst_fold = list(set(DataSet[\"fold\"]))\n",
    "    lst_fold.sort()\n",
    "    for j in range(len(lst_fold)):\n",
    "        df_classes = DataSet[DataSet[\"fold\"]==lst_fold[j]]\n",
    "        Class_folder = list(set(df_classes[\"image_folder\"]))\n",
    "        lst_folder = list(set(df_classes[\"fold\"]))\n",
    "        print(f\"[INFO]: [{j+1}].  Fold {lst_fold[j]} With Shape ==> {len(Class_folder)} Folder, {df_classes.shape}\")\n",
    "        print(\"Check 6-Fold With Class:\")\n",
    "        lst_cls = list(set(df_classes['typeBEvsBM']))\n",
    "        print(f\"Number of Classes {len(lst_cls)} Class ==> {lst_cls}\")\n",
    "        for m in lst_cls:\n",
    "            df_f =  df_classes[df_classes[\"typeBEvsBM\"]==m]\n",
    "            list_folder = list(set(df_f[\"image_folder\"]))\n",
    "            list_code =  list(set(df_f[\"Code\"]))\n",
    "            print(f\"[INFO]:  Classse {m} ==> With {len(list_folder)} Folder, {df_f.shape[0]} images!! ==> {len(list_code)} PerSon!!\")\n",
    "        print(\"=\"*100)\n",
    "    \n",
    "    \n",
    "    return"
   ]
  },
  {
   "cell_type": "code",
   "execution_count": 13,
   "id": "center-pleasure",
   "metadata": {},
   "outputs": [
    {
     "name": "stdout",
     "output_type": "stream",
     "text": [
      "[INFO]: [1].  Fold 1 With Shape ==> 56 Folder, (56, 16)\n",
      "Check 6-Fold With Class:\n",
      "Number of Classes 2 Class ==> ['E', 'M']\n",
      "[INFO]:  Classse E ==> With 28 Folder, 28 images!! ==> 8 PerSon!!\n",
      "[INFO]:  Classse M ==> With 28 Folder, 28 images!! ==> 3 PerSon!!\n",
      "====================================================================================================\n",
      "[INFO]: [2].  Fold 2 With Shape ==> 56 Folder, (56, 16)\n",
      "Check 6-Fold With Class:\n",
      "Number of Classes 2 Class ==> ['E', 'M']\n",
      "[INFO]:  Classse E ==> With 28 Folder, 28 images!! ==> 8 PerSon!!\n",
      "[INFO]:  Classse M ==> With 28 Folder, 28 images!! ==> 3 PerSon!!\n",
      "====================================================================================================\n",
      "[INFO]: [3].  Fold 3 With Shape ==> 56 Folder, (56, 16)\n",
      "Check 6-Fold With Class:\n",
      "Number of Classes 2 Class ==> ['E', 'M']\n",
      "[INFO]:  Classse E ==> With 28 Folder, 28 images!! ==> 8 PerSon!!\n",
      "[INFO]:  Classse M ==> With 28 Folder, 28 images!! ==> 3 PerSon!!\n",
      "====================================================================================================\n"
     ]
    }
   ],
   "source": [
    "_(df_2dFFT)"
   ]
  },
  {
   "cell_type": "code",
   "execution_count": null,
   "id": "advance-intelligence",
   "metadata": {},
   "outputs": [],
   "source": []
  },
  {
   "cell_type": "markdown",
   "id": "academic-vienna",
   "metadata": {},
   "source": [
    "------------------"
   ]
  },
  {
   "cell_type": "code",
   "execution_count": 25,
   "id": "colored-brazil",
   "metadata": {},
   "outputs": [],
   "source": [
    "dt_2 = 0.045344\n",
    "dt_5 = 0.122015\n",
    "dt_7 = 0.164181"
   ]
  },
  {
   "cell_type": "code",
   "execution_count": 26,
   "id": "immune-guide",
   "metadata": {},
   "outputs": [
    {
     "data": {
      "text/plain": [
       "0.042165999999999995"
      ]
     },
     "execution_count": 26,
     "metadata": {},
     "output_type": "execute_result"
    }
   ],
   "source": [
    "dt_7-dt_5"
   ]
  },
  {
   "cell_type": "code",
   "execution_count": 27,
   "id": "advised-purpose",
   "metadata": {},
   "outputs": [
    {
     "data": {
      "text/plain": [
       "0.07667099999999999"
      ]
     },
     "execution_count": 27,
     "metadata": {},
     "output_type": "execute_result"
    }
   ],
   "source": [
    "dt_5-dt_2"
   ]
  },
  {
   "cell_type": "code",
   "execution_count": null,
   "id": "fluid-episode",
   "metadata": {},
   "outputs": [],
   "source": []
  },
  {
   "cell_type": "code",
   "execution_count": null,
   "id": "instructional-ultimate",
   "metadata": {},
   "outputs": [],
   "source": []
  },
  {
   "cell_type": "code",
   "execution_count": null,
   "id": "banner-notification",
   "metadata": {},
   "outputs": [],
   "source": []
  },
  {
   "cell_type": "code",
   "execution_count": null,
   "id": "illegal-genealogy",
   "metadata": {},
   "outputs": [],
   "source": []
  }
 ],
 "metadata": {
  "kernelspec": {
   "display_name": "AI",
   "language": "python",
   "name": "ai"
  },
  "language_info": {
   "codemirror_mode": {
    "name": "ipython",
    "version": 3
   },
   "file_extension": ".py",
   "mimetype": "text/x-python",
   "name": "python",
   "nbconvert_exporter": "python",
   "pygments_lexer": "ipython3",
   "version": "3.6.9"
  }
 },
 "nbformat": 4,
 "nbformat_minor": 5
}
