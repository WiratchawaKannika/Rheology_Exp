{
 "cells": [
  {
   "cell_type": "code",
   "execution_count": 1,
   "id": "b4f48c51",
   "metadata": {},
   "outputs": [],
   "source": [
    "import json\n",
    "import pandas as pd\n",
    "import urllib.request\n",
    "import urllib.parse\n",
    "import urllib.error\n",
    "import os\n",
    "from IPython.display import Image\n",
    "import numpy as np\n",
    "import cv2\n",
    "import math"
   ]
  },
  {
   "cell_type": "markdown",
   "id": "ba9eae2d",
   "metadata": {},
   "source": [
    "# 📂 Import Dataset"
   ]
  },
  {
   "cell_type": "code",
   "execution_count": 3,
   "id": "e67aeabb",
   "metadata": {},
   "outputs": [
    {
     "name": "stdout",
     "output_type": "stream",
     "text": [
      "subclass:  {'Normal', 'No_Splenectomy', 'Splenectomy'}\n",
      "Source:  {'SSD_Backup'}\n",
      "Complete:  {'yes'}\n",
      "(1076538, 9)\n"
     ]
    },
    {
     "data": {
      "text/html": [
       "<div>\n",
       "<style scoped>\n",
       "    .dataframe tbody tr th:only-of-type {\n",
       "        vertical-align: middle;\n",
       "    }\n",
       "\n",
       "    .dataframe tbody tr th {\n",
       "        vertical-align: top;\n",
       "    }\n",
       "\n",
       "    .dataframe thead th {\n",
       "        text-align: right;\n",
       "    }\n",
       "</style>\n",
       "<table border=\"1\" class=\"dataframe\">\n",
       "  <thead>\n",
       "    <tr style=\"text-align: right;\">\n",
       "      <th></th>\n",
       "      <th>Unnamed: 0</th>\n",
       "      <th>image_name</th>\n",
       "      <th>image_path</th>\n",
       "      <th>image_folder</th>\n",
       "      <th>folder_source</th>\n",
       "      <th>classes</th>\n",
       "      <th>complete</th>\n",
       "      <th>Code</th>\n",
       "      <th>subclass</th>\n",
       "    </tr>\n",
       "  </thead>\n",
       "  <tbody>\n",
       "    <tr>\n",
       "      <th>0</th>\n",
       "      <td>0</td>\n",
       "      <td>HN34_D0_30HZ_20XINF_UWELL_25660131_155730_0000...</td>\n",
       "      <td>/media/HDD/rheology2023/Blood_Viscosity/SSD_Ba...</td>\n",
       "      <td>HN34_D0_30HZ_20XINF_UWELL_25660131_155730</td>\n",
       "      <td>SSD_Backup</td>\n",
       "      <td>HN</td>\n",
       "      <td>yes</td>\n",
       "      <td>HN34</td>\n",
       "      <td>No_Splenectomy</td>\n",
       "    </tr>\n",
       "    <tr>\n",
       "      <th>1</th>\n",
       "      <td>1</td>\n",
       "      <td>HN34_D0_30HZ_20XINF_UWELL_25660131_155730_0000...</td>\n",
       "      <td>/media/HDD/rheology2023/Blood_Viscosity/SSD_Ba...</td>\n",
       "      <td>HN34_D0_30HZ_20XINF_UWELL_25660131_155730</td>\n",
       "      <td>SSD_Backup</td>\n",
       "      <td>HN</td>\n",
       "      <td>yes</td>\n",
       "      <td>HN34</td>\n",
       "      <td>No_Splenectomy</td>\n",
       "    </tr>\n",
       "    <tr>\n",
       "      <th>2</th>\n",
       "      <td>2</td>\n",
       "      <td>HN34_D0_30HZ_20XINF_UWELL_25660131_155730_0000...</td>\n",
       "      <td>/media/HDD/rheology2023/Blood_Viscosity/SSD_Ba...</td>\n",
       "      <td>HN34_D0_30HZ_20XINF_UWELL_25660131_155730</td>\n",
       "      <td>SSD_Backup</td>\n",
       "      <td>HN</td>\n",
       "      <td>yes</td>\n",
       "      <td>HN34</td>\n",
       "      <td>No_Splenectomy</td>\n",
       "    </tr>\n",
       "    <tr>\n",
       "      <th>3</th>\n",
       "      <td>3</td>\n",
       "      <td>HN34_D0_30HZ_20XINF_UWELL_25660131_155730_0000...</td>\n",
       "      <td>/media/HDD/rheology2023/Blood_Viscosity/SSD_Ba...</td>\n",
       "      <td>HN34_D0_30HZ_20XINF_UWELL_25660131_155730</td>\n",
       "      <td>SSD_Backup</td>\n",
       "      <td>HN</td>\n",
       "      <td>yes</td>\n",
       "      <td>HN34</td>\n",
       "      <td>No_Splenectomy</td>\n",
       "    </tr>\n",
       "    <tr>\n",
       "      <th>4</th>\n",
       "      <td>4</td>\n",
       "      <td>HN34_D0_30HZ_20XINF_UWELL_25660131_155730_0000...</td>\n",
       "      <td>/media/HDD/rheology2023/Blood_Viscosity/SSD_Ba...</td>\n",
       "      <td>HN34_D0_30HZ_20XINF_UWELL_25660131_155730</td>\n",
       "      <td>SSD_Backup</td>\n",
       "      <td>HN</td>\n",
       "      <td>yes</td>\n",
       "      <td>HN34</td>\n",
       "      <td>No_Splenectomy</td>\n",
       "    </tr>\n",
       "  </tbody>\n",
       "</table>\n",
       "</div>"
      ],
      "text/plain": [
       "   Unnamed: 0                                         image_name  \\\n",
       "0           0  HN34_D0_30HZ_20XINF_UWELL_25660131_155730_0000...   \n",
       "1           1  HN34_D0_30HZ_20XINF_UWELL_25660131_155730_0000...   \n",
       "2           2  HN34_D0_30HZ_20XINF_UWELL_25660131_155730_0000...   \n",
       "3           3  HN34_D0_30HZ_20XINF_UWELL_25660131_155730_0000...   \n",
       "4           4  HN34_D0_30HZ_20XINF_UWELL_25660131_155730_0000...   \n",
       "\n",
       "                                          image_path  \\\n",
       "0  /media/HDD/rheology2023/Blood_Viscosity/SSD_Ba...   \n",
       "1  /media/HDD/rheology2023/Blood_Viscosity/SSD_Ba...   \n",
       "2  /media/HDD/rheology2023/Blood_Viscosity/SSD_Ba...   \n",
       "3  /media/HDD/rheology2023/Blood_Viscosity/SSD_Ba...   \n",
       "4  /media/HDD/rheology2023/Blood_Viscosity/SSD_Ba...   \n",
       "\n",
       "                                image_folder folder_source classes complete  \\\n",
       "0  HN34_D0_30HZ_20XINF_UWELL_25660131_155730    SSD_Backup      HN      yes   \n",
       "1  HN34_D0_30HZ_20XINF_UWELL_25660131_155730    SSD_Backup      HN      yes   \n",
       "2  HN34_D0_30HZ_20XINF_UWELL_25660131_155730    SSD_Backup      HN      yes   \n",
       "3  HN34_D0_30HZ_20XINF_UWELL_25660131_155730    SSD_Backup      HN      yes   \n",
       "4  HN34_D0_30HZ_20XINF_UWELL_25660131_155730    SSD_Backup      HN      yes   \n",
       "\n",
       "   Code        subclass  \n",
       "0  HN34  No_Splenectomy  \n",
       "1  HN34  No_Splenectomy  \n",
       "2  HN34  No_Splenectomy  \n",
       "3  HN34  No_Splenectomy  \n",
       "4  HN34  No_Splenectomy  "
      ]
     },
     "execution_count": 3,
     "metadata": {},
     "output_type": "execute_result"
    }
   ],
   "source": [
    "'''\n",
    "1. Dataframe for train\n",
    "'''\n",
    "\n",
    "DataSet = pd.read_csv(\"/home/kannika/codes_AI/Rheology_Blood/Dataset_Rheology_Blood_Viscosity_HN_NBL-Dataset-yes-Dropdup.csv\")\n",
    "print(\"subclass: \", set(DataSet[\"subclass\"]))\n",
    "print(\"Source: \", set(DataSet[\"folder_source\"]))\n",
    "print(\"Complete: \", set(DataSet[\"complete\"]))\n",
    "print(DataSet.shape)\n",
    "DataSet.head()"
   ]
  },
  {
   "cell_type": "code",
   "execution_count": 4,
   "id": "b21607ac",
   "metadata": {},
   "outputs": [
    {
     "name": "stdout",
     "output_type": "stream",
     "text": [
      "(53, 4)\n"
     ]
    },
    {
     "data": {
      "text/html": [
       "<div>\n",
       "<style scoped>\n",
       "    .dataframe tbody tr th:only-of-type {\n",
       "        vertical-align: middle;\n",
       "    }\n",
       "\n",
       "    .dataframe tbody tr th {\n",
       "        vertical-align: top;\n",
       "    }\n",
       "\n",
       "    .dataframe thead th {\n",
       "        text-align: right;\n",
       "    }\n",
       "</style>\n",
       "<table border=\"1\" class=\"dataframe\">\n",
       "  <thead>\n",
       "    <tr style=\"text-align: right;\">\n",
       "      <th></th>\n",
       "      <th>Unnamed: 0</th>\n",
       "      <th>classes</th>\n",
       "      <th>Code</th>\n",
       "      <th>NumFolder</th>\n",
       "    </tr>\n",
       "  </thead>\n",
       "  <tbody>\n",
       "    <tr>\n",
       "      <th>0</th>\n",
       "      <td>0</td>\n",
       "      <td>No_Splenectomy</td>\n",
       "      <td>HN38</td>\n",
       "      <td>12</td>\n",
       "    </tr>\n",
       "    <tr>\n",
       "      <th>1</th>\n",
       "      <td>1</td>\n",
       "      <td>No_Splenectomy</td>\n",
       "      <td>HN18</td>\n",
       "      <td>8</td>\n",
       "    </tr>\n",
       "    <tr>\n",
       "      <th>2</th>\n",
       "      <td>2</td>\n",
       "      <td>No_Splenectomy</td>\n",
       "      <td>HN33</td>\n",
       "      <td>8</td>\n",
       "    </tr>\n",
       "    <tr>\n",
       "      <th>3</th>\n",
       "      <td>3</td>\n",
       "      <td>No_Splenectomy</td>\n",
       "      <td>HN35</td>\n",
       "      <td>8</td>\n",
       "    </tr>\n",
       "    <tr>\n",
       "      <th>4</th>\n",
       "      <td>4</td>\n",
       "      <td>No_Splenectomy</td>\n",
       "      <td>HN22</td>\n",
       "      <td>12</td>\n",
       "    </tr>\n",
       "  </tbody>\n",
       "</table>\n",
       "</div>"
      ],
      "text/plain": [
       "   Unnamed: 0         classes  Code  NumFolder\n",
       "0           0  No_Splenectomy  HN38         12\n",
       "1           1  No_Splenectomy  HN18          8\n",
       "2           2  No_Splenectomy  HN33          8\n",
       "3           3  No_Splenectomy  HN35          8\n",
       "4           4  No_Splenectomy  HN22         12"
      ]
     },
     "execution_count": 4,
     "metadata": {},
     "output_type": "execute_result"
    }
   ],
   "source": [
    "'''\n",
    "2. DataFrame for summarize cap code&classes\n",
    "'''\n",
    "\n",
    "df_patien = pd.read_csv(\"/home/kannika/codes_AI/Rheology_Blood/Dataset_Rheology_Blood_Viscosity_HN_NBL-SummarizeFolder.csv\")\n",
    "print(df_patien.shape)\n",
    "df_patien.head()"
   ]
  },
  {
   "cell_type": "code",
   "execution_count": null,
   "id": "03c50059",
   "metadata": {},
   "outputs": [],
   "source": []
  },
  {
   "cell_type": "markdown",
   "id": "f0063a38",
   "metadata": {},
   "source": [
    "## 💾 Split 6-Fold"
   ]
  },
  {
   "cell_type": "code",
   "execution_count": 48,
   "id": "564f0fc2",
   "metadata": {},
   "outputs": [
    {
     "name": "stdout",
     "output_type": "stream",
     "text": [
      "['No_Splenectomy', 'Splenectomy', 'Normal']\n",
      "[INFO]: [1].  For Classes No_Splenectomy With Shape ==> (17, 4)\n",
      "[INFO]: [2].  For Classes Splenectomy With Shape ==> (18, 4)\n",
      "[INFO]: [3].  For Classes Normal With Shape ==> (18, 4)\n"
     ]
    },
    {
     "name": "stderr",
     "output_type": "stream",
     "text": [
      "/tmp/ipykernel_3033/1428967412.py:14: SettingWithCopyWarning: \n",
      "A value is trying to be set on a copy of a slice from a DataFrame\n",
      "\n",
      "See the caveats in the documentation: https://pandas.pydata.org/pandas-docs/stable/user_guide/indexing.html#returning-a-view-versus-a-copy\n",
      "  df_classes.drop(index=df_classes_ran.index, inplace=True)\n",
      "/tmp/ipykernel_3033/1428967412.py:18: FutureWarning: The frame.append method is deprecated and will be removed from pandas in a future version. Use pandas.concat instead.\n",
      "  DF_fold = DF_fold.append(df_classes_ran)\n",
      "/tmp/ipykernel_3033/1428967412.py:14: SettingWithCopyWarning: \n",
      "A value is trying to be set on a copy of a slice from a DataFrame\n",
      "\n",
      "See the caveats in the documentation: https://pandas.pydata.org/pandas-docs/stable/user_guide/indexing.html#returning-a-view-versus-a-copy\n",
      "  df_classes.drop(index=df_classes_ran.index, inplace=True)\n",
      "/tmp/ipykernel_3033/1428967412.py:18: FutureWarning: The frame.append method is deprecated and will be removed from pandas in a future version. Use pandas.concat instead.\n",
      "  DF_fold = DF_fold.append(df_classes_ran)\n",
      "/tmp/ipykernel_3033/1428967412.py:14: SettingWithCopyWarning: \n",
      "A value is trying to be set on a copy of a slice from a DataFrame\n",
      "\n",
      "See the caveats in the documentation: https://pandas.pydata.org/pandas-docs/stable/user_guide/indexing.html#returning-a-view-versus-a-copy\n",
      "  df_classes.drop(index=df_classes_ran.index, inplace=True)\n",
      "/tmp/ipykernel_3033/1428967412.py:18: FutureWarning: The frame.append method is deprecated and will be removed from pandas in a future version. Use pandas.concat instead.\n",
      "  DF_fold = DF_fold.append(df_classes_ran)\n",
      "/tmp/ipykernel_3033/1428967412.py:14: SettingWithCopyWarning: \n",
      "A value is trying to be set on a copy of a slice from a DataFrame\n",
      "\n",
      "See the caveats in the documentation: https://pandas.pydata.org/pandas-docs/stable/user_guide/indexing.html#returning-a-view-versus-a-copy\n",
      "  df_classes.drop(index=df_classes_ran.index, inplace=True)\n",
      "/tmp/ipykernel_3033/1428967412.py:18: FutureWarning: The frame.append method is deprecated and will be removed from pandas in a future version. Use pandas.concat instead.\n",
      "  DF_fold = DF_fold.append(df_classes_ran)\n",
      "/tmp/ipykernel_3033/1428967412.py:14: SettingWithCopyWarning: \n",
      "A value is trying to be set on a copy of a slice from a DataFrame\n",
      "\n",
      "See the caveats in the documentation: https://pandas.pydata.org/pandas-docs/stable/user_guide/indexing.html#returning-a-view-versus-a-copy\n",
      "  df_classes.drop(index=df_classes_ran.index, inplace=True)\n",
      "/tmp/ipykernel_3033/1428967412.py:18: FutureWarning: The frame.append method is deprecated and will be removed from pandas in a future version. Use pandas.concat instead.\n",
      "  DF_fold = DF_fold.append(df_classes_ran)\n",
      "/tmp/ipykernel_3033/1428967412.py:22: SettingWithCopyWarning: \n",
      "A value is trying to be set on a copy of a slice from a DataFrame.\n",
      "Try using .loc[row_indexer,col_indexer] = value instead\n",
      "\n",
      "See the caveats in the documentation: https://pandas.pydata.org/pandas-docs/stable/user_guide/indexing.html#returning-a-view-versus-a-copy\n",
      "  df_classes[\"fold\"] = 6\n",
      "/tmp/ipykernel_3033/1428967412.py:23: FutureWarning: The frame.append method is deprecated and will be removed from pandas in a future version. Use pandas.concat instead.\n",
      "  DF_fold = DF_fold.append(df_classes)\n",
      "/tmp/ipykernel_3033/1428967412.py:14: SettingWithCopyWarning: \n",
      "A value is trying to be set on a copy of a slice from a DataFrame\n",
      "\n",
      "See the caveats in the documentation: https://pandas.pydata.org/pandas-docs/stable/user_guide/indexing.html#returning-a-view-versus-a-copy\n",
      "  df_classes.drop(index=df_classes_ran.index, inplace=True)\n",
      "/tmp/ipykernel_3033/1428967412.py:18: FutureWarning: The frame.append method is deprecated and will be removed from pandas in a future version. Use pandas.concat instead.\n",
      "  DF_fold = DF_fold.append(df_classes_ran)\n",
      "/tmp/ipykernel_3033/1428967412.py:14: SettingWithCopyWarning: \n",
      "A value is trying to be set on a copy of a slice from a DataFrame\n",
      "\n",
      "See the caveats in the documentation: https://pandas.pydata.org/pandas-docs/stable/user_guide/indexing.html#returning-a-view-versus-a-copy\n",
      "  df_classes.drop(index=df_classes_ran.index, inplace=True)\n",
      "/tmp/ipykernel_3033/1428967412.py:18: FutureWarning: The frame.append method is deprecated and will be removed from pandas in a future version. Use pandas.concat instead.\n",
      "  DF_fold = DF_fold.append(df_classes_ran)\n",
      "/tmp/ipykernel_3033/1428967412.py:14: SettingWithCopyWarning: \n",
      "A value is trying to be set on a copy of a slice from a DataFrame\n",
      "\n",
      "See the caveats in the documentation: https://pandas.pydata.org/pandas-docs/stable/user_guide/indexing.html#returning-a-view-versus-a-copy\n",
      "  df_classes.drop(index=df_classes_ran.index, inplace=True)\n",
      "/tmp/ipykernel_3033/1428967412.py:18: FutureWarning: The frame.append method is deprecated and will be removed from pandas in a future version. Use pandas.concat instead.\n",
      "  DF_fold = DF_fold.append(df_classes_ran)\n",
      "/tmp/ipykernel_3033/1428967412.py:14: SettingWithCopyWarning: \n",
      "A value is trying to be set on a copy of a slice from a DataFrame\n",
      "\n",
      "See the caveats in the documentation: https://pandas.pydata.org/pandas-docs/stable/user_guide/indexing.html#returning-a-view-versus-a-copy\n",
      "  df_classes.drop(index=df_classes_ran.index, inplace=True)\n",
      "/tmp/ipykernel_3033/1428967412.py:18: FutureWarning: The frame.append method is deprecated and will be removed from pandas in a future version. Use pandas.concat instead.\n",
      "  DF_fold = DF_fold.append(df_classes_ran)\n",
      "/tmp/ipykernel_3033/1428967412.py:14: SettingWithCopyWarning: \n",
      "A value is trying to be set on a copy of a slice from a DataFrame\n",
      "\n",
      "See the caveats in the documentation: https://pandas.pydata.org/pandas-docs/stable/user_guide/indexing.html#returning-a-view-versus-a-copy\n",
      "  df_classes.drop(index=df_classes_ran.index, inplace=True)\n",
      "/tmp/ipykernel_3033/1428967412.py:18: FutureWarning: The frame.append method is deprecated and will be removed from pandas in a future version. Use pandas.concat instead.\n",
      "  DF_fold = DF_fold.append(df_classes_ran)\n",
      "/tmp/ipykernel_3033/1428967412.py:14: SettingWithCopyWarning: \n",
      "A value is trying to be set on a copy of a slice from a DataFrame\n",
      "\n",
      "See the caveats in the documentation: https://pandas.pydata.org/pandas-docs/stable/user_guide/indexing.html#returning-a-view-versus-a-copy\n",
      "  df_classes.drop(index=df_classes_ran.index, inplace=True)\n",
      "/tmp/ipykernel_3033/1428967412.py:18: FutureWarning: The frame.append method is deprecated and will be removed from pandas in a future version. Use pandas.concat instead.\n",
      "  DF_fold = DF_fold.append(df_classes_ran)\n",
      "/tmp/ipykernel_3033/1428967412.py:23: FutureWarning: The frame.append method is deprecated and will be removed from pandas in a future version. Use pandas.concat instead.\n",
      "  DF_fold = DF_fold.append(df_classes)\n",
      "/tmp/ipykernel_3033/1428967412.py:14: SettingWithCopyWarning: \n",
      "A value is trying to be set on a copy of a slice from a DataFrame\n",
      "\n",
      "See the caveats in the documentation: https://pandas.pydata.org/pandas-docs/stable/user_guide/indexing.html#returning-a-view-versus-a-copy\n",
      "  df_classes.drop(index=df_classes_ran.index, inplace=True)\n",
      "/tmp/ipykernel_3033/1428967412.py:18: FutureWarning: The frame.append method is deprecated and will be removed from pandas in a future version. Use pandas.concat instead.\n",
      "  DF_fold = DF_fold.append(df_classes_ran)\n",
      "/tmp/ipykernel_3033/1428967412.py:14: SettingWithCopyWarning: \n",
      "A value is trying to be set on a copy of a slice from a DataFrame\n",
      "\n",
      "See the caveats in the documentation: https://pandas.pydata.org/pandas-docs/stable/user_guide/indexing.html#returning-a-view-versus-a-copy\n",
      "  df_classes.drop(index=df_classes_ran.index, inplace=True)\n",
      "/tmp/ipykernel_3033/1428967412.py:18: FutureWarning: The frame.append method is deprecated and will be removed from pandas in a future version. Use pandas.concat instead.\n",
      "  DF_fold = DF_fold.append(df_classes_ran)\n",
      "/tmp/ipykernel_3033/1428967412.py:14: SettingWithCopyWarning: \n",
      "A value is trying to be set on a copy of a slice from a DataFrame\n",
      "\n",
      "See the caveats in the documentation: https://pandas.pydata.org/pandas-docs/stable/user_guide/indexing.html#returning-a-view-versus-a-copy\n",
      "  df_classes.drop(index=df_classes_ran.index, inplace=True)\n",
      "/tmp/ipykernel_3033/1428967412.py:18: FutureWarning: The frame.append method is deprecated and will be removed from pandas in a future version. Use pandas.concat instead.\n",
      "  DF_fold = DF_fold.append(df_classes_ran)\n",
      "/tmp/ipykernel_3033/1428967412.py:14: SettingWithCopyWarning: \n",
      "A value is trying to be set on a copy of a slice from a DataFrame\n",
      "\n",
      "See the caveats in the documentation: https://pandas.pydata.org/pandas-docs/stable/user_guide/indexing.html#returning-a-view-versus-a-copy\n",
      "  df_classes.drop(index=df_classes_ran.index, inplace=True)\n",
      "/tmp/ipykernel_3033/1428967412.py:18: FutureWarning: The frame.append method is deprecated and will be removed from pandas in a future version. Use pandas.concat instead.\n",
      "  DF_fold = DF_fold.append(df_classes_ran)\n",
      "/tmp/ipykernel_3033/1428967412.py:14: SettingWithCopyWarning: \n",
      "A value is trying to be set on a copy of a slice from a DataFrame\n",
      "\n",
      "See the caveats in the documentation: https://pandas.pydata.org/pandas-docs/stable/user_guide/indexing.html#returning-a-view-versus-a-copy\n",
      "  df_classes.drop(index=df_classes_ran.index, inplace=True)\n",
      "/tmp/ipykernel_3033/1428967412.py:18: FutureWarning: The frame.append method is deprecated and will be removed from pandas in a future version. Use pandas.concat instead.\n",
      "  DF_fold = DF_fold.append(df_classes_ran)\n",
      "/tmp/ipykernel_3033/1428967412.py:14: SettingWithCopyWarning: \n",
      "A value is trying to be set on a copy of a slice from a DataFrame\n",
      "\n",
      "See the caveats in the documentation: https://pandas.pydata.org/pandas-docs/stable/user_guide/indexing.html#returning-a-view-versus-a-copy\n",
      "  df_classes.drop(index=df_classes_ran.index, inplace=True)\n",
      "/tmp/ipykernel_3033/1428967412.py:18: FutureWarning: The frame.append method is deprecated and will be removed from pandas in a future version. Use pandas.concat instead.\n",
      "  DF_fold = DF_fold.append(df_classes_ran)\n",
      "/tmp/ipykernel_3033/1428967412.py:23: FutureWarning: The frame.append method is deprecated and will be removed from pandas in a future version. Use pandas.concat instead.\n",
      "  DF_fold = DF_fold.append(df_classes)\n"
     ]
    }
   ],
   "source": [
    "import random\n",
    "\n",
    "lst_sheet = list(set(df_patien[\"classes\"]))\n",
    "#print(len(lst_sheet))\n",
    "print(lst_sheet)\n",
    "n = 3\n",
    "DF_fold = pd.DataFrame(columns=list(df_patien.columns))\n",
    "\n",
    "for j in range(len(lst_sheet)):\n",
    "    df_classes = df_patien[df_patien[\"classes\"]==lst_sheet[j]]\n",
    "    print(f\"[INFO]: [{j+1}].  For Classes {lst_sheet[j]} With Shape ==> {df_classes.shape}\")\n",
    "    for i in range(1, 7):\n",
    "        df_classes_ran = df_classes.sample(n, replace=False)\n",
    "        df_classes.drop(index=df_classes_ran.index, inplace=True)\n",
    "        #df_patien.drop(index=df_classes_ran.index, inplace=True)\n",
    "        #random.shuffle(lst_fold)\n",
    "        df_classes_ran[\"fold\"] = i\n",
    "        DF_fold = DF_fold.append(df_classes_ran)\n",
    "        if df_classes.shape[0] < 3:\n",
    "            #print(df_classes.shape[0])\n",
    "            break\n",
    "    df_classes[\"fold\"] = 6\n",
    "    DF_fold = DF_fold.append(df_classes)"
   ]
  },
  {
   "cell_type": "code",
   "execution_count": 50,
   "id": "8612e51c",
   "metadata": {},
   "outputs": [
    {
     "name": "stdout",
     "output_type": "stream",
     "text": [
      "(53, 5)\n"
     ]
    },
    {
     "data": {
      "text/html": [
       "<div>\n",
       "<style scoped>\n",
       "    .dataframe tbody tr th:only-of-type {\n",
       "        vertical-align: middle;\n",
       "    }\n",
       "\n",
       "    .dataframe tbody tr th {\n",
       "        vertical-align: top;\n",
       "    }\n",
       "\n",
       "    .dataframe thead th {\n",
       "        text-align: right;\n",
       "    }\n",
       "</style>\n",
       "<table border=\"1\" class=\"dataframe\">\n",
       "  <thead>\n",
       "    <tr style=\"text-align: right;\">\n",
       "      <th></th>\n",
       "      <th>Unnamed: 0</th>\n",
       "      <th>classes</th>\n",
       "      <th>Code</th>\n",
       "      <th>NumFolder</th>\n",
       "      <th>fold</th>\n",
       "    </tr>\n",
       "  </thead>\n",
       "  <tbody>\n",
       "    <tr>\n",
       "      <th>0</th>\n",
       "      <td>0</td>\n",
       "      <td>No_Splenectomy</td>\n",
       "      <td>HN38</td>\n",
       "      <td>12</td>\n",
       "      <td>1</td>\n",
       "    </tr>\n",
       "    <tr>\n",
       "      <th>1</th>\n",
       "      <td>3</td>\n",
       "      <td>No_Splenectomy</td>\n",
       "      <td>HN35</td>\n",
       "      <td>8</td>\n",
       "      <td>1</td>\n",
       "    </tr>\n",
       "    <tr>\n",
       "      <th>2</th>\n",
       "      <td>11</td>\n",
       "      <td>No_Splenectomy</td>\n",
       "      <td>HN43</td>\n",
       "      <td>8</td>\n",
       "      <td>1</td>\n",
       "    </tr>\n",
       "    <tr>\n",
       "      <th>3</th>\n",
       "      <td>2</td>\n",
       "      <td>No_Splenectomy</td>\n",
       "      <td>HN33</td>\n",
       "      <td>8</td>\n",
       "      <td>2</td>\n",
       "    </tr>\n",
       "    <tr>\n",
       "      <th>4</th>\n",
       "      <td>13</td>\n",
       "      <td>No_Splenectomy</td>\n",
       "      <td>HN34</td>\n",
       "      <td>8</td>\n",
       "      <td>2</td>\n",
       "    </tr>\n",
       "  </tbody>\n",
       "</table>\n",
       "</div>"
      ],
      "text/plain": [
       "  Unnamed: 0         classes  Code NumFolder  fold\n",
       "0          0  No_Splenectomy  HN38        12     1\n",
       "1          3  No_Splenectomy  HN35         8     1\n",
       "2         11  No_Splenectomy  HN43         8     1\n",
       "3          2  No_Splenectomy  HN33         8     2\n",
       "4         13  No_Splenectomy  HN34         8     2"
      ]
     },
     "execution_count": 50,
     "metadata": {},
     "output_type": "execute_result"
    }
   ],
   "source": [
    "DF_fold = DF_fold.reset_index(drop=True)\n",
    "print(DF_fold.shape)\n",
    "DF_fold['fold'] = DF_fold['fold'].astype(int)\n",
    "DF_fold.head()"
   ]
  },
  {
   "cell_type": "code",
   "execution_count": 54,
   "id": "a657d6f8",
   "metadata": {},
   "outputs": [
    {
     "data": {
      "text/plain": [
       "0"
      ]
     },
     "execution_count": 54,
     "metadata": {},
     "output_type": "execute_result"
    }
   ],
   "source": [
    "DF_fold['fold'].isnull().sum()"
   ]
  },
  {
   "cell_type": "code",
   "execution_count": 51,
   "id": "531503a4",
   "metadata": {},
   "outputs": [
    {
     "name": "stdout",
     "output_type": "stream",
     "text": [
      "[INFO]: [1].  For Classes No_Splenectomy With Shape ==> (17, 5)\n",
      "Check 6-Fold\n",
      "Number of Fold 6 ==> [1, 2, 3, 4, 5, 6]\n",
      "[INFO]: FOR Fold 1 ==> With 3 Person!!\n",
      "[INFO]: FOR Fold 2 ==> With 3 Person!!\n",
      "[INFO]: FOR Fold 3 ==> With 3 Person!!\n",
      "[INFO]: FOR Fold 4 ==> With 3 Person!!\n",
      "[INFO]: FOR Fold 5 ==> With 3 Person!!\n",
      "[INFO]: FOR Fold 6 ==> With 2 Person!!\n",
      "=============================================================================================================================\n",
      "[INFO]: [2].  For Classes Splenectomy With Shape ==> (18, 5)\n",
      "Check 6-Fold\n",
      "Number of Fold 6 ==> [1, 2, 3, 4, 5, 6]\n",
      "[INFO]: FOR Fold 1 ==> With 3 Person!!\n",
      "[INFO]: FOR Fold 2 ==> With 3 Person!!\n",
      "[INFO]: FOR Fold 3 ==> With 3 Person!!\n",
      "[INFO]: FOR Fold 4 ==> With 3 Person!!\n",
      "[INFO]: FOR Fold 5 ==> With 3 Person!!\n",
      "[INFO]: FOR Fold 6 ==> With 3 Person!!\n",
      "=============================================================================================================================\n",
      "[INFO]: [3].  For Classes Normal With Shape ==> (18, 5)\n",
      "Check 6-Fold\n",
      "Number of Fold 6 ==> [1, 2, 3, 4, 5, 6]\n",
      "[INFO]: FOR Fold 1 ==> With 3 Person!!\n",
      "[INFO]: FOR Fold 2 ==> With 3 Person!!\n",
      "[INFO]: FOR Fold 3 ==> With 3 Person!!\n",
      "[INFO]: FOR Fold 4 ==> With 3 Person!!\n",
      "[INFO]: FOR Fold 5 ==> With 3 Person!!\n",
      "[INFO]: FOR Fold 6 ==> With 3 Person!!\n",
      "=============================================================================================================================\n"
     ]
    }
   ],
   "source": [
    "## Check\n",
    "for j in range(len(lst_sheet)):\n",
    "    df_classes = DF_fold[DF_fold[\"classes\"]==lst_sheet[j]]\n",
    "    print(f\"[INFO]: [{j+1}].  For Classes {lst_sheet[j]} With Shape ==> {df_classes.shape}\")\n",
    "    print(\"Check 6-Fold\")\n",
    "    lst_fold = list(set(df_classes[\"fold\"]))\n",
    "    print(f\"Number of Fold {len(lst_fold)} ==> {lst_fold}\")\n",
    "    for F in lst_fold:\n",
    "        df_f =  df_classes[df_classes[\"fold\"]==F]\n",
    "        print(f\"[INFO]: FOR Fold {F} ==> With {df_f.shape[0]} Person!!\")\n",
    "    print(\"=\"*125)"
   ]
  },
  {
   "cell_type": "code",
   "execution_count": 52,
   "id": "8edc7b0d",
   "metadata": {},
   "outputs": [
    {
     "name": "stdout",
     "output_type": "stream",
     "text": [
      "[INFO]: [1].  For fold 1 With Shape ==> (9, 5)\n",
      "Check 6-Fold\n",
      "[INFO]: 9 ==> PerSon!!!\n",
      "=============================================================================================================================\n",
      "[INFO]: [2].  For fold 2 With Shape ==> (9, 5)\n",
      "Check 6-Fold\n",
      "[INFO]: 9 ==> PerSon!!!\n",
      "=============================================================================================================================\n",
      "[INFO]: [3].  For fold 3 With Shape ==> (9, 5)\n",
      "Check 6-Fold\n",
      "[INFO]: 9 ==> PerSon!!!\n",
      "=============================================================================================================================\n",
      "[INFO]: [4].  For fold 4 With Shape ==> (9, 5)\n",
      "Check 6-Fold\n",
      "[INFO]: 9 ==> PerSon!!!\n",
      "=============================================================================================================================\n",
      "[INFO]: [5].  For fold 5 With Shape ==> (9, 5)\n",
      "Check 6-Fold\n",
      "[INFO]: 9 ==> PerSon!!!\n",
      "=============================================================================================================================\n",
      "[INFO]: [6].  For fold 6 With Shape ==> (8, 5)\n",
      "Check 6-Fold\n",
      "[INFO]: 8 ==> PerSon!!!\n",
      "=============================================================================================================================\n"
     ]
    }
   ],
   "source": [
    "## Check\n",
    "lst_fold = list(set(DF_fold[\"fold\"]))\n",
    "\n",
    "for j in range(len(lst_fold)):\n",
    "    df_classes = DF_fold[DF_fold[\"fold\"]==lst_fold[j]]\n",
    "    print(f\"[INFO]: [{j+1}].  For fold {lst_fold[j]} With Shape ==> {df_classes.shape}\")\n",
    "    print(\"Check 6-Fold\")\n",
    "    lst_person = list(set(df_classes[\"Code\"]))\n",
    "    print(f\"[INFO]: {len(lst_person)} ==> PerSon!!!\")\n",
    "    print(\"=\"*125)"
   ]
  },
  {
   "cell_type": "markdown",
   "id": "2cf6f2b4",
   "metadata": {},
   "source": [
    "--------------------------------------------------------------------------------------------------------------------------------"
   ]
  },
  {
   "cell_type": "code",
   "execution_count": 53,
   "id": "d0fa3b69",
   "metadata": {},
   "outputs": [],
   "source": [
    "DF_fold.to_csv(\"/home/kannika/codes_AI/Rheology_Blood/Dataset_Rheology_Blood_Viscosity_HN_NBL-SummarizeFolder_Fold.csv\")"
   ]
  },
  {
   "cell_type": "code",
   "execution_count": null,
   "id": "6adda376",
   "metadata": {},
   "outputs": [],
   "source": []
  },
  {
   "cell_type": "markdown",
   "id": "96b910cd",
   "metadata": {},
   "source": [
    "--------------------------------------------------------------------------------------------------------------------------------"
   ]
  },
  {
   "cell_type": "markdown",
   "id": "0d7b78af",
   "metadata": {},
   "source": [
    "# Defind Fold in DataFrame"
   ]
  },
  {
   "cell_type": "code",
   "execution_count": 55,
   "id": "0428d22d",
   "metadata": {},
   "outputs": [
    {
     "name": "stdout",
     "output_type": "stream",
     "text": [
      "{'HN38': 1, 'HN35': 1, 'HN43': 1, 'HN33': 2, 'HN34': 2, 'HN14': 2, 'HN21': 3, 'HN20': 3, 'HN22': 3, 'HN41': 4, 'HN42': 4, 'HN30': 4, 'HN31': 5, 'HN18': 5, 'HN15': 5, 'HN29': 6, 'HN26': 6, 'HN17': 1, 'HN13': 1, 'HN12': 1, 'HN32': 2, 'HN19': 2, 'HN28': 2, 'HN37': 3, 'HN25': 3, 'HN02': 3, 'HN24': 4, 'HN40': 4, 'HN27': 4, 'HN16': 5, 'HN36': 5, 'HN44': 5, 'HN01': 6, 'HN39': 6, 'HN23': 6, 'NBL15': 1, 'NBL14': 1, 'NBL23': 1, 'NBL01': 2, 'NBL00': 2, 'NBL19': 2, 'NBL20': 3, 'NBL21': 3, 'NBL16': 3, 'NBL10': 4, 'NBL08': 4, 'NBL13': 4, 'NBL11': 5, 'NBL22': 5, 'NBL12': 5, 'NBL09': 6, 'NBL18': 6, 'NBL17': 6}\n"
     ]
    }
   ],
   "source": [
    "## 1. Create Dict\n",
    "lst_Code = DF_fold[\"Code\"].tolist()\n",
    "lst_fold = DF_fold[\"fold\"].tolist()\n",
    "dict_code = zip(lst_Code, lst_fold)\n",
    "output_dict = dict(dict_code)\n",
    "print(output_dict)"
   ]
  },
  {
   "cell_type": "code",
   "execution_count": 56,
   "id": "da751ed1",
   "metadata": {},
   "outputs": [
    {
     "name": "stdout",
     "output_type": "stream",
     "text": [
      "(1076538, 10)\n"
     ]
    },
    {
     "data": {
      "text/html": [
       "<div>\n",
       "<style scoped>\n",
       "    .dataframe tbody tr th:only-of-type {\n",
       "        vertical-align: middle;\n",
       "    }\n",
       "\n",
       "    .dataframe tbody tr th {\n",
       "        vertical-align: top;\n",
       "    }\n",
       "\n",
       "    .dataframe thead th {\n",
       "        text-align: right;\n",
       "    }\n",
       "</style>\n",
       "<table border=\"1\" class=\"dataframe\">\n",
       "  <thead>\n",
       "    <tr style=\"text-align: right;\">\n",
       "      <th></th>\n",
       "      <th>Unnamed: 0</th>\n",
       "      <th>image_name</th>\n",
       "      <th>image_path</th>\n",
       "      <th>image_folder</th>\n",
       "      <th>folder_source</th>\n",
       "      <th>classes</th>\n",
       "      <th>complete</th>\n",
       "      <th>Code</th>\n",
       "      <th>subclass</th>\n",
       "      <th>fold</th>\n",
       "    </tr>\n",
       "  </thead>\n",
       "  <tbody>\n",
       "    <tr>\n",
       "      <th>0</th>\n",
       "      <td>0</td>\n",
       "      <td>HN34_D0_30HZ_20XINF_UWELL_25660131_155730_0000...</td>\n",
       "      <td>/media/HDD/rheology2023/Blood_Viscosity/SSD_Ba...</td>\n",
       "      <td>HN34_D0_30HZ_20XINF_UWELL_25660131_155730</td>\n",
       "      <td>SSD_Backup</td>\n",
       "      <td>HN</td>\n",
       "      <td>yes</td>\n",
       "      <td>HN34</td>\n",
       "      <td>No_Splenectomy</td>\n",
       "      <td>2</td>\n",
       "    </tr>\n",
       "    <tr>\n",
       "      <th>1</th>\n",
       "      <td>1</td>\n",
       "      <td>HN34_D0_30HZ_20XINF_UWELL_25660131_155730_0000...</td>\n",
       "      <td>/media/HDD/rheology2023/Blood_Viscosity/SSD_Ba...</td>\n",
       "      <td>HN34_D0_30HZ_20XINF_UWELL_25660131_155730</td>\n",
       "      <td>SSD_Backup</td>\n",
       "      <td>HN</td>\n",
       "      <td>yes</td>\n",
       "      <td>HN34</td>\n",
       "      <td>No_Splenectomy</td>\n",
       "      <td>2</td>\n",
       "    </tr>\n",
       "    <tr>\n",
       "      <th>2</th>\n",
       "      <td>2</td>\n",
       "      <td>HN34_D0_30HZ_20XINF_UWELL_25660131_155730_0000...</td>\n",
       "      <td>/media/HDD/rheology2023/Blood_Viscosity/SSD_Ba...</td>\n",
       "      <td>HN34_D0_30HZ_20XINF_UWELL_25660131_155730</td>\n",
       "      <td>SSD_Backup</td>\n",
       "      <td>HN</td>\n",
       "      <td>yes</td>\n",
       "      <td>HN34</td>\n",
       "      <td>No_Splenectomy</td>\n",
       "      <td>2</td>\n",
       "    </tr>\n",
       "    <tr>\n",
       "      <th>3</th>\n",
       "      <td>3</td>\n",
       "      <td>HN34_D0_30HZ_20XINF_UWELL_25660131_155730_0000...</td>\n",
       "      <td>/media/HDD/rheology2023/Blood_Viscosity/SSD_Ba...</td>\n",
       "      <td>HN34_D0_30HZ_20XINF_UWELL_25660131_155730</td>\n",
       "      <td>SSD_Backup</td>\n",
       "      <td>HN</td>\n",
       "      <td>yes</td>\n",
       "      <td>HN34</td>\n",
       "      <td>No_Splenectomy</td>\n",
       "      <td>2</td>\n",
       "    </tr>\n",
       "    <tr>\n",
       "      <th>4</th>\n",
       "      <td>4</td>\n",
       "      <td>HN34_D0_30HZ_20XINF_UWELL_25660131_155730_0000...</td>\n",
       "      <td>/media/HDD/rheology2023/Blood_Viscosity/SSD_Ba...</td>\n",
       "      <td>HN34_D0_30HZ_20XINF_UWELL_25660131_155730</td>\n",
       "      <td>SSD_Backup</td>\n",
       "      <td>HN</td>\n",
       "      <td>yes</td>\n",
       "      <td>HN34</td>\n",
       "      <td>No_Splenectomy</td>\n",
       "      <td>2</td>\n",
       "    </tr>\n",
       "  </tbody>\n",
       "</table>\n",
       "</div>"
      ],
      "text/plain": [
       "   Unnamed: 0                                         image_name  \\\n",
       "0           0  HN34_D0_30HZ_20XINF_UWELL_25660131_155730_0000...   \n",
       "1           1  HN34_D0_30HZ_20XINF_UWELL_25660131_155730_0000...   \n",
       "2           2  HN34_D0_30HZ_20XINF_UWELL_25660131_155730_0000...   \n",
       "3           3  HN34_D0_30HZ_20XINF_UWELL_25660131_155730_0000...   \n",
       "4           4  HN34_D0_30HZ_20XINF_UWELL_25660131_155730_0000...   \n",
       "\n",
       "                                          image_path  \\\n",
       "0  /media/HDD/rheology2023/Blood_Viscosity/SSD_Ba...   \n",
       "1  /media/HDD/rheology2023/Blood_Viscosity/SSD_Ba...   \n",
       "2  /media/HDD/rheology2023/Blood_Viscosity/SSD_Ba...   \n",
       "3  /media/HDD/rheology2023/Blood_Viscosity/SSD_Ba...   \n",
       "4  /media/HDD/rheology2023/Blood_Viscosity/SSD_Ba...   \n",
       "\n",
       "                                image_folder folder_source classes complete  \\\n",
       "0  HN34_D0_30HZ_20XINF_UWELL_25660131_155730    SSD_Backup      HN      yes   \n",
       "1  HN34_D0_30HZ_20XINF_UWELL_25660131_155730    SSD_Backup      HN      yes   \n",
       "2  HN34_D0_30HZ_20XINF_UWELL_25660131_155730    SSD_Backup      HN      yes   \n",
       "3  HN34_D0_30HZ_20XINF_UWELL_25660131_155730    SSD_Backup      HN      yes   \n",
       "4  HN34_D0_30HZ_20XINF_UWELL_25660131_155730    SSD_Backup      HN      yes   \n",
       "\n",
       "   Code        subclass  fold  \n",
       "0  HN34  No_Splenectomy     2  \n",
       "1  HN34  No_Splenectomy     2  \n",
       "2  HN34  No_Splenectomy     2  \n",
       "3  HN34  No_Splenectomy     2  \n",
       "4  HN34  No_Splenectomy     2  "
      ]
     },
     "execution_count": 56,
     "metadata": {},
     "output_type": "execute_result"
    }
   ],
   "source": [
    "## 2. Map fold\n",
    "DataSet[\"fold\"]= DataSet['Code'].map(output_dict)\n",
    "print(DataSet.shape)\n",
    "DataSet.head()"
   ]
  },
  {
   "cell_type": "code",
   "execution_count": 57,
   "id": "866163f7",
   "metadata": {},
   "outputs": [
    {
     "data": {
      "text/plain": [
       "0"
      ]
     },
     "execution_count": 57,
     "metadata": {},
     "output_type": "execute_result"
    }
   ],
   "source": [
    "DataSet['fold'].isnull().sum()"
   ]
  },
  {
   "cell_type": "code",
   "execution_count": 58,
   "id": "73fba76c",
   "metadata": {},
   "outputs": [
    {
     "data": {
      "text/plain": [
       "{1, 2, 3, 4, 5, 6}"
      ]
     },
     "execution_count": 58,
     "metadata": {},
     "output_type": "execute_result"
    }
   ],
   "source": [
    "set(DataSet['fold'])"
   ]
  },
  {
   "cell_type": "code",
   "execution_count": 79,
   "id": "9a33fbbc",
   "metadata": {},
   "outputs": [],
   "source": [
    "## Check\n",
    "def _(DataSet):\n",
    "    lst_fold = list(set(DataSet[\"fold\"]))\n",
    "    for j in range(len(lst_sheet)):\n",
    "        df_classes = DataSet[DataSet[\"subclass\"]==lst_sheet[j]]\n",
    "        Class_folder = list(set(df_classes[\"image_folder\"]))\n",
    "        print(f\"[INFO]: [{j+1}].  For Classes {lst_sheet[j]} With Shape ==> {len(Class_folder)} Folder, {df_classes.shape}\")\n",
    "        print(\"Check 6-Fold\")\n",
    "        lst_fold = list(set(df_classes[\"fold\"]))\n",
    "        print(f\"Number of Fold {len(lst_fold)} ==> {lst_fold}\")\n",
    "        for F in lst_fold:\n",
    "            df_f =  df_classes[df_classes[\"fold\"]==F]\n",
    "            list_folder = list(set(df_f[\"image_folder\"]))\n",
    "            list_code =  list(set(df_f[\"Code\"]))\n",
    "            print(f\"[INFO]: FOR Fold {F} ==> With {len(list_folder)} Folder, {df_f.shape[0]} images!! ==> {len(list_code)} PerSon!!\")\n",
    "        print(\"=\"*125)\n",
    "    \n",
    "    return"
   ]
  },
  {
   "cell_type": "code",
   "execution_count": 80,
   "id": "15c87612",
   "metadata": {},
   "outputs": [
    {
     "name": "stdout",
     "output_type": "stream",
     "text": [
      "[INFO]: [1].  For Classes No_Splenectomy With Shape ==> 152 Folder, (304152, 10)\n",
      "Check 6-Fold\n",
      "Number of Fold 6 ==> [1, 2, 3, 4, 5, 6]\n",
      "[INFO]: FOR Fold 1 ==> With 28 Folder, 56028 images!! ==> 3 PerSon!!\n",
      "[INFO]: FOR Fold 2 ==> With 24 Folder, 48024 images!! ==> 3 PerSon!!\n",
      "[INFO]: FOR Fold 3 ==> With 28 Folder, 56028 images!! ==> 3 PerSon!!\n",
      "[INFO]: FOR Fold 4 ==> With 32 Folder, 64032 images!! ==> 3 PerSon!!\n",
      "[INFO]: FOR Fold 5 ==> With 24 Folder, 48024 images!! ==> 3 PerSon!!\n",
      "[INFO]: FOR Fold 6 ==> With 16 Folder, 32016 images!! ==> 2 PerSon!!\n",
      "=============================================================================================================================\n",
      "[INFO]: [2].  For Classes Splenectomy With Shape ==> 185 Folder, (370185, 10)\n",
      "Check 6-Fold\n",
      "Number of Fold 6 ==> [1, 2, 3, 4, 5, 6]\n",
      "[INFO]: FOR Fold 1 ==> With 32 Folder, 64032 images!! ==> 3 PerSon!!\n",
      "[INFO]: FOR Fold 2 ==> With 24 Folder, 48024 images!! ==> 3 PerSon!!\n",
      "[INFO]: FOR Fold 3 ==> With 26 Folder, 52026 images!! ==> 3 PerSon!!\n",
      "[INFO]: FOR Fold 4 ==> With 28 Folder, 56028 images!! ==> 3 PerSon!!\n",
      "[INFO]: FOR Fold 5 ==> With 28 Folder, 56028 images!! ==> 3 PerSon!!\n",
      "[INFO]: FOR Fold 6 ==> With 47 Folder, 94047 images!! ==> 3 PerSon!!\n",
      "=============================================================================================================================\n",
      "[INFO]: [3].  For Classes Normal With Shape ==> 201 Folder, (402201, 10)\n",
      "Check 6-Fold\n",
      "Number of Fold 6 ==> [1, 2, 3, 4, 5, 6]\n",
      "[INFO]: FOR Fold 1 ==> With 32 Folder, 64032 images!! ==> 3 PerSon!!\n",
      "[INFO]: FOR Fold 2 ==> With 47 Folder, 94047 images!! ==> 3 PerSon!!\n",
      "[INFO]: FOR Fold 3 ==> With 34 Folder, 68034 images!! ==> 3 PerSon!!\n",
      "[INFO]: FOR Fold 4 ==> With 28 Folder, 56028 images!! ==> 3 PerSon!!\n",
      "[INFO]: FOR Fold 5 ==> With 36 Folder, 72036 images!! ==> 3 PerSon!!\n",
      "[INFO]: FOR Fold 6 ==> With 24 Folder, 48024 images!! ==> 3 PerSon!!\n",
      "=============================================================================================================================\n"
     ]
    }
   ],
   "source": [
    "_(DataSet)"
   ]
  },
  {
   "cell_type": "code",
   "execution_count": 66,
   "id": "1a6d22c9",
   "metadata": {},
   "outputs": [
    {
     "data": {
      "text/plain": [
       "1076538"
      ]
     },
     "execution_count": 66,
     "metadata": {},
     "output_type": "execute_result"
    }
   ],
   "source": [
    "304152+370185+402201"
   ]
  },
  {
   "cell_type": "code",
   "execution_count": 81,
   "id": "1436f982",
   "metadata": {},
   "outputs": [
    {
     "data": {
      "text/plain": [
       "37122.0"
      ]
     },
     "execution_count": 81,
     "metadata": {},
     "output_type": "execute_result"
    }
   ],
   "source": [
    "1076538/29"
   ]
  },
  {
   "cell_type": "code",
   "execution_count": 76,
   "id": "87351118",
   "metadata": {},
   "outputs": [],
   "source": [
    "DataSet.to_csv(\"/home/kannika/codes_AI/Rheology_Blood/Dataset_Rheology_Blood_Viscosity_HN_NBL-Dataset-6Fold.csv\")"
   ]
  },
  {
   "cell_type": "code",
   "execution_count": null,
   "id": "b0706d91",
   "metadata": {},
   "outputs": [],
   "source": []
  },
  {
   "cell_type": "code",
   "execution_count": null,
   "id": "d803e388",
   "metadata": {},
   "outputs": [],
   "source": []
  },
  {
   "cell_type": "code",
   "execution_count": null,
   "id": "68879f9f",
   "metadata": {},
   "outputs": [],
   "source": []
  }
 ],
 "metadata": {
  "kernelspec": {
   "display_name": "tfNetV2",
   "language": "python",
   "name": "tfnetv2"
  },
  "language_info": {
   "codemirror_mode": {
    "name": "ipython",
    "version": 3
   },
   "file_extension": ".py",
   "mimetype": "text/x-python",
   "name": "python",
   "nbconvert_exporter": "python",
   "pygments_lexer": "ipython3",
   "version": "3.9.15"
  }
 },
 "nbformat": 4,
 "nbformat_minor": 5
}
