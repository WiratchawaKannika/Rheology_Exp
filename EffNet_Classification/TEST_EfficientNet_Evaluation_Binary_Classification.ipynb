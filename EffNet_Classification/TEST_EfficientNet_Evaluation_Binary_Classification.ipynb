{
 "cells": [
  {
   "cell_type": "code",
   "execution_count": 11,
   "id": "cc6bb0e2",
   "metadata": {},
   "outputs": [],
   "source": [
    "import os\n",
    "import numpy as np\n",
    "import efficientnet.tfkeras\n",
    "from tensorflow.keras.models import load_model\n",
    "import tensorflow as tf\n",
    "import pandas as pd"
   ]
  },
  {
   "cell_type": "code",
   "execution_count": 7,
   "id": "6ae9bc2f",
   "metadata": {},
   "outputs": [
    {
     "name": "stdout",
     "output_type": "stream",
     "text": [
      "Num GPUs: 1\n"
     ]
    }
   ],
   "source": [
    "## set gpu\n",
    "gpu = 0\n",
    "os.environ[\"CUDA_DEVICE_ORDER\"]=\"PCI_BUS_ID\"   \n",
    "os.environ[\"CUDA_VISIBLE_DEVICES\"] = f\"{gpu}\" \n",
    "physical_devices = tf.config.list_physical_devices('GPU') \n",
    "print(\"Num GPUs:\", len(physical_devices))"
   ]
  },
  {
   "cell_type": "markdown",
   "id": "18c646fb",
   "metadata": {},
   "source": [
    "# Load model"
   ]
  },
  {
   "cell_type": "code",
   "execution_count": 8,
   "id": "d33b63c4",
   "metadata": {},
   "outputs": [
    {
     "name": "stderr",
     "output_type": "stream",
     "text": [
      "2023-09-26 12:03:19.230502: I tensorflow/compiler/jit/xla_gpu_device.cc:99] Not creating XLA devices, tf_xla_enable_xla_devices not set\n",
      "2023-09-26 12:03:19.231101: I tensorflow/core/common_runtime/gpu/gpu_device.cc:1720] Found device 0 with properties: \n",
      "pciBusID: 0000:17:00.0 name: NVIDIA GeForce RTX 2080 Ti computeCapability: 7.5\n",
      "coreClock: 1.65GHz coreCount: 68 deviceMemorySize: 10.76GiB deviceMemoryBandwidth: 573.69GiB/s\n",
      "2023-09-26 12:03:19.231153: I tensorflow/stream_executor/platform/default/dso_loader.cc:49] Successfully opened dynamic library libcudart.so.11.0\n",
      "2023-09-26 12:03:19.231175: I tensorflow/stream_executor/platform/default/dso_loader.cc:49] Successfully opened dynamic library libcublas.so.11\n",
      "2023-09-26 12:03:19.231182: I tensorflow/stream_executor/platform/default/dso_loader.cc:49] Successfully opened dynamic library libcublasLt.so.11\n",
      "2023-09-26 12:03:19.231190: I tensorflow/stream_executor/platform/default/dso_loader.cc:49] Successfully opened dynamic library libcufft.so.10\n",
      "2023-09-26 12:03:19.231198: I tensorflow/stream_executor/platform/default/dso_loader.cc:49] Successfully opened dynamic library libcurand.so.10\n",
      "2023-09-26 12:03:19.231205: I tensorflow/stream_executor/platform/default/dso_loader.cc:49] Successfully opened dynamic library libcusolver.so.10\n",
      "2023-09-26 12:03:19.231213: I tensorflow/stream_executor/platform/default/dso_loader.cc:49] Successfully opened dynamic library libcusparse.so.11\n",
      "2023-09-26 12:03:19.231221: I tensorflow/stream_executor/platform/default/dso_loader.cc:49] Successfully opened dynamic library libcudnn.so.8\n",
      "2023-09-26 12:03:19.231930: I tensorflow/core/common_runtime/gpu/gpu_device.cc:1862] Adding visible gpu devices: 0\n",
      "2023-09-26 12:03:19.662406: I tensorflow/core/common_runtime/gpu/gpu_device.cc:1261] Device interconnect StreamExecutor with strength 1 edge matrix:\n",
      "2023-09-26 12:03:19.662429: I tensorflow/core/common_runtime/gpu/gpu_device.cc:1267]      0 \n",
      "2023-09-26 12:03:19.662433: I tensorflow/core/common_runtime/gpu/gpu_device.cc:1280] 0:   N \n",
      "2023-09-26 12:03:19.663639: I tensorflow/core/common_runtime/gpu/gpu_device.cc:1406] Created TensorFlow device (/job:localhost/replica:0/task:0/device:GPU:0 with 10059 MB memory) -> physical GPU (device: 0, name: NVIDIA GeForce RTX 2080 Ti, pci bus id: 0000:17:00.0, compute capability: 7.5)\n"
     ]
    }
   ],
   "source": [
    "model_dir ='/media/SSD/rheology2023/EffNetB7Model/Regression/Blood_Viscosity/HN-NBL_classes/fold1/R1/models/EffNetB7_HN-NBL_Class_fold1_R1.h5' #แก้\n",
    "model = load_model(model_dir)\n",
    "height = width = model.input_shape[1]"
   ]
  },
  {
   "cell_type": "code",
   "execution_count": 9,
   "id": "e8771982",
   "metadata": {},
   "outputs": [
    {
     "name": "stdout",
     "output_type": "stream",
     "text": [
      "600 600\n"
     ]
    }
   ],
   "source": [
    "print(height, width)"
   ]
  },
  {
   "cell_type": "markdown",
   "id": "70260a83",
   "metadata": {},
   "source": [
    "## Select Data"
   ]
  },
  {
   "cell_type": "code",
   "execution_count": 13,
   "id": "e5fc55f4",
   "metadata": {},
   "outputs": [
    {
     "name": "stdout",
     "output_type": "stream",
     "text": [
      "Train set {2, 3, 4, 5, 6}\n",
      "(446, 12)\n",
      "Test set {1}\n",
      "(92, 12)\n"
     ]
    },
    {
     "data": {
      "text/html": [
       "<div>\n",
       "<style scoped>\n",
       "    .dataframe tbody tr th:only-of-type {\n",
       "        vertical-align: middle;\n",
       "    }\n",
       "\n",
       "    .dataframe tbody tr th {\n",
       "        vertical-align: top;\n",
       "    }\n",
       "\n",
       "    .dataframe thead th {\n",
       "        text-align: right;\n",
       "    }\n",
       "</style>\n",
       "<table border=\"1\" class=\"dataframe\">\n",
       "  <thead>\n",
       "    <tr style=\"text-align: right;\">\n",
       "      <th></th>\n",
       "      <th>Unnamed: 0</th>\n",
       "      <th>Unnamed: 0.1</th>\n",
       "      <th>image_name</th>\n",
       "      <th>image_path</th>\n",
       "      <th>image_folder</th>\n",
       "      <th>folder_source</th>\n",
       "      <th>classes</th>\n",
       "      <th>Code</th>\n",
       "      <th>subclass</th>\n",
       "      <th>fold</th>\n",
       "      <th>dt</th>\n",
       "      <th>classes_binary</th>\n",
       "    </tr>\n",
       "  </thead>\n",
       "  <tbody>\n",
       "    <tr>\n",
       "      <th>0</th>\n",
       "      <td>30</td>\n",
       "      <td>30</td>\n",
       "      <td>HN12_D0_30HZ_20XINF_UWELL_25651122_135932_dt2_...</td>\n",
       "      <td>/media/HDD/rheology2023/Blood_Viscosity_2dFFT/...</td>\n",
       "      <td>HN12_D0_30HZ_20XINF_UWELL_25651122_135932</td>\n",
       "      <td>SSD_Backup</td>\n",
       "      <td>HN</td>\n",
       "      <td>HN12</td>\n",
       "      <td>Splenectomy</td>\n",
       "      <td>1</td>\n",
       "      <td>[2, 5, 7]</td>\n",
       "      <td>1</td>\n",
       "    </tr>\n",
       "    <tr>\n",
       "      <th>1</th>\n",
       "      <td>31</td>\n",
       "      <td>31</td>\n",
       "      <td>HN12_D0_30HZ_20XINF_UWELL_25651122_140145_dt2_...</td>\n",
       "      <td>/media/HDD/rheology2023/Blood_Viscosity_2dFFT/...</td>\n",
       "      <td>HN12_D0_30HZ_20XINF_UWELL_25651122_140145</td>\n",
       "      <td>SSD_Backup</td>\n",
       "      <td>HN</td>\n",
       "      <td>HN12</td>\n",
       "      <td>Splenectomy</td>\n",
       "      <td>1</td>\n",
       "      <td>[2, 5, 7]</td>\n",
       "      <td>1</td>\n",
       "    </tr>\n",
       "    <tr>\n",
       "      <th>2</th>\n",
       "      <td>32</td>\n",
       "      <td>32</td>\n",
       "      <td>HN12_D0_30HZ_20XINF_UWELL_25651122_140431_dt2_...</td>\n",
       "      <td>/media/HDD/rheology2023/Blood_Viscosity_2dFFT/...</td>\n",
       "      <td>HN12_D0_30HZ_20XINF_UWELL_25651122_140431</td>\n",
       "      <td>SSD_Backup</td>\n",
       "      <td>HN</td>\n",
       "      <td>HN12</td>\n",
       "      <td>Splenectomy</td>\n",
       "      <td>1</td>\n",
       "      <td>[2, 5, 7]</td>\n",
       "      <td>1</td>\n",
       "    </tr>\n",
       "    <tr>\n",
       "      <th>3</th>\n",
       "      <td>33</td>\n",
       "      <td>33</td>\n",
       "      <td>HN12_D0_30HZ_20XINF_UWELL_25651122_140721_dt2_...</td>\n",
       "      <td>/media/HDD/rheology2023/Blood_Viscosity_2dFFT/...</td>\n",
       "      <td>HN12_D0_30HZ_20XINF_UWELL_25651122_140721</td>\n",
       "      <td>SSD_Backup</td>\n",
       "      <td>HN</td>\n",
       "      <td>HN12</td>\n",
       "      <td>Splenectomy</td>\n",
       "      <td>1</td>\n",
       "      <td>[2, 5, 7]</td>\n",
       "      <td>1</td>\n",
       "    </tr>\n",
       "    <tr>\n",
       "      <th>4</th>\n",
       "      <td>34</td>\n",
       "      <td>34</td>\n",
       "      <td>HN12_D0_30HZ_20XINF_UWELL_25651122_141024_dt2_...</td>\n",
       "      <td>/media/HDD/rheology2023/Blood_Viscosity_2dFFT/...</td>\n",
       "      <td>HN12_D0_30HZ_20XINF_UWELL_25651122_141024</td>\n",
       "      <td>SSD_Backup</td>\n",
       "      <td>HN</td>\n",
       "      <td>HN12</td>\n",
       "      <td>Splenectomy</td>\n",
       "      <td>1</td>\n",
       "      <td>[2, 5, 7]</td>\n",
       "      <td>1</td>\n",
       "    </tr>\n",
       "  </tbody>\n",
       "</table>\n",
       "</div>"
      ],
      "text/plain": [
       "   Unnamed: 0  Unnamed: 0.1  \\\n",
       "0          30            30   \n",
       "1          31            31   \n",
       "2          32            32   \n",
       "3          33            33   \n",
       "4          34            34   \n",
       "\n",
       "                                          image_name  \\\n",
       "0  HN12_D0_30HZ_20XINF_UWELL_25651122_135932_dt2_...   \n",
       "1  HN12_D0_30HZ_20XINF_UWELL_25651122_140145_dt2_...   \n",
       "2  HN12_D0_30HZ_20XINF_UWELL_25651122_140431_dt2_...   \n",
       "3  HN12_D0_30HZ_20XINF_UWELL_25651122_140721_dt2_...   \n",
       "4  HN12_D0_30HZ_20XINF_UWELL_25651122_141024_dt2_...   \n",
       "\n",
       "                                          image_path  \\\n",
       "0  /media/HDD/rheology2023/Blood_Viscosity_2dFFT/...   \n",
       "1  /media/HDD/rheology2023/Blood_Viscosity_2dFFT/...   \n",
       "2  /media/HDD/rheology2023/Blood_Viscosity_2dFFT/...   \n",
       "3  /media/HDD/rheology2023/Blood_Viscosity_2dFFT/...   \n",
       "4  /media/HDD/rheology2023/Blood_Viscosity_2dFFT/...   \n",
       "\n",
       "                                image_folder folder_source classes  Code  \\\n",
       "0  HN12_D0_30HZ_20XINF_UWELL_25651122_135932    SSD_Backup      HN  HN12   \n",
       "1  HN12_D0_30HZ_20XINF_UWELL_25651122_140145    SSD_Backup      HN  HN12   \n",
       "2  HN12_D0_30HZ_20XINF_UWELL_25651122_140431    SSD_Backup      HN  HN12   \n",
       "3  HN12_D0_30HZ_20XINF_UWELL_25651122_140721    SSD_Backup      HN  HN12   \n",
       "4  HN12_D0_30HZ_20XINF_UWELL_25651122_141024    SSD_Backup      HN  HN12   \n",
       "\n",
       "      subclass  fold         dt  classes_binary  \n",
       "0  Splenectomy     1  [2, 5, 7]               1  \n",
       "1  Splenectomy     1  [2, 5, 7]               1  \n",
       "2  Splenectomy     1  [2, 5, 7]               1  \n",
       "3  Splenectomy     1  [2, 5, 7]               1  \n",
       "4  Splenectomy     1  [2, 5, 7]               1  "
      ]
     },
     "execution_count": 13,
     "metadata": {},
     "output_type": "execute_result"
    }
   ],
   "source": [
    "df_2dFFT = pd.read_csv(\"/home/kannika/codes_AI/Rheology_Blood/Dataset_Rheology_Blood_Viscosity_HN_NBL-2dFFTdataset-3channels-6Fold.csv\")\n",
    "train_2dFFT = df_2dFFT[df_2dFFT['fold']!=1].reset_index(drop=True)\n",
    "print(\"Train set\", set(train_2dFFT['fold']))\n",
    "print(train_2dFFT.shape)\n",
    "\n",
    "test_2dFFT = df_2dFFT[df_2dFFT['fold']==1].reset_index(drop=True)\n",
    "print(\"Test set\", set(test_2dFFT['fold']))\n",
    "print(test_2dFFT.shape)\n",
    "\n",
    "test_2dFFT.head()"
   ]
  },
  {
   "cell_type": "code",
   "execution_count": 18,
   "id": "19f6d3c4",
   "metadata": {},
   "outputs": [
    {
     "name": "stdout",
     "output_type": "stream",
     "text": [
      "Found 446 validated image filenames belonging to 2 classes.\n",
      "{0: 'HN', 1: 'NBL'}\n"
     ]
    }
   ],
   "source": [
    "from tensorflow.keras.preprocessing.image import ImageDataGenerator\n",
    "\n",
    "IMAGE_SIZE = (height, width)\n",
    "BATCH_SIZE = 16\n",
    "\n",
    "### Get data Loder\n",
    "train_datagen = ImageDataGenerator(\n",
    "                    rescale = 1./255,\n",
    "                    rotation_range=20,\n",
    "                    brightness_range=[0.5, 1.5],\n",
    "                    shear_range=0.5,\n",
    "                    horizontal_flip = False,\n",
    "                    fill_mode = 'nearest')\n",
    "\n",
    "train_generator = train_datagen.flow_from_dataframe(\n",
    "        dataframe = train_2dFFT,\n",
    "        directory = None,\n",
    "        x_col = 'image_path',\n",
    "        y_col = 'classes',\n",
    "        target_size = (height, width),\n",
    "        batch_size=BATCH_SIZE,\n",
    "        color_mode= 'rgb',\n",
    "        class_mode='categorical')\n",
    "\n",
    "\n",
    "#label\n",
    "labels = (train_generator.class_indices)\n",
    "labels = dict((v,k.replace(\"C\",\"\")) for k,v in labels.items())\n",
    "print(labels)"
   ]
  },
  {
   "cell_type": "markdown",
   "id": "11932927",
   "metadata": {},
   "source": [
    "## Prediction"
   ]
  },
  {
   "cell_type": "code",
   "execution_count": 19,
   "id": "12e727f3",
   "metadata": {},
   "outputs": [],
   "source": [
    "from tensorflow.keras.preprocessing import image\n",
    "\n",
    "def predict_image(img_path):\n",
    "    # Read the image and resize it\n",
    "    img = image.load_img(img_path, target_size=(height, width))\n",
    "    # Convert it to a Numpy array with target shape.\n",
    "    x = image.img_to_array(img)\n",
    "    # Reshape\n",
    "    x = x.reshape((1,) + x.shape)\n",
    "    x /= 255.\n",
    "    result = model.predict([x])\n",
    "    \n",
    "    return result[0]"
   ]
  },
  {
   "cell_type": "code",
   "execution_count": 20,
   "id": "2b8f6d11",
   "metadata": {},
   "outputs": [
    {
     "name": "stderr",
     "output_type": "stream",
     "text": [
      "2023-09-26 12:15:37.161220: I tensorflow/compiler/mlir/mlir_graph_optimization_pass.cc:116] None of the MLIR optimization passes are enabled (registered 2)\n",
      "2023-09-26 12:15:37.180737: I tensorflow/core/platform/profile_utils/cpu_utils.cc:112] CPU Frequency: 3699850000 Hz\n",
      "2023-09-26 12:15:39.879076: I tensorflow/stream_executor/platform/default/dso_loader.cc:49] Successfully opened dynamic library libcublas.so.11\n",
      "2023-09-26 12:15:40.233522: I tensorflow/stream_executor/platform/default/dso_loader.cc:49] Successfully opened dynamic library libcublasLt.so.11\n",
      "2023-09-26 12:15:40.240226: I tensorflow/stream_executor/platform/default/dso_loader.cc:49] Successfully opened dynamic library libcudnn.so.8\n",
      "2023-09-26 12:15:41.374449: W tensorflow/stream_executor/gpu/asm_compiler.cc:63] Running ptxas --version returned 256\n",
      "2023-09-26 12:15:41.476516: W tensorflow/stream_executor/gpu/redzone_allocator.cc:314] Internal: ptxas exited with non-zero error code 256, output: \n",
      "Relying on driver to perform ptx compilation. \n",
      "Modify $PATH to customize ptxas location.\n",
      "This message will be only logged once.\n"
     ]
    }
   ],
   "source": [
    "#Predict\n",
    "pred_list = list()\n",
    "prob_list = list()\n",
    "img_path=test_2dFFT['image_path'].tolist()\n",
    "for i in range(0,len(img_path)):\n",
    "    predict = predict_image(img_path[i])\n",
    "    result = np.argmax(predict)\n",
    "    pred_list.append(labels[result])\n",
    "    prob_list.append(predict[result])"
   ]
  },
  {
   "cell_type": "code",
   "execution_count": 24,
   "id": "775bd6f8",
   "metadata": {},
   "outputs": [
    {
     "data": {
      "text/plain": [
       "array([0.6193466 , 0.38065335], dtype=float32)"
      ]
     },
     "execution_count": 24,
     "metadata": {},
     "output_type": "execute_result"
    }
   ],
   "source": [
    "predict"
   ]
  },
  {
   "cell_type": "code",
   "execution_count": 23,
   "id": "b3a76d44",
   "metadata": {},
   "outputs": [
    {
     "name": "stdout",
     "output_type": "stream",
     "text": [
      "92\n",
      "92\n"
     ]
    },
    {
     "data": {
      "text/html": [
       "<div>\n",
       "<style scoped>\n",
       "    .dataframe tbody tr th:only-of-type {\n",
       "        vertical-align: middle;\n",
       "    }\n",
       "\n",
       "    .dataframe tbody tr th {\n",
       "        vertical-align: top;\n",
       "    }\n",
       "\n",
       "    .dataframe thead th {\n",
       "        text-align: right;\n",
       "    }\n",
       "</style>\n",
       "<table border=\"1\" class=\"dataframe\">\n",
       "  <thead>\n",
       "    <tr style=\"text-align: right;\">\n",
       "      <th></th>\n",
       "      <th>Unnamed: 0</th>\n",
       "      <th>Unnamed: 0.1</th>\n",
       "      <th>image_name</th>\n",
       "      <th>image_path</th>\n",
       "      <th>image_folder</th>\n",
       "      <th>folder_source</th>\n",
       "      <th>classes</th>\n",
       "      <th>Code</th>\n",
       "      <th>subclass</th>\n",
       "      <th>fold</th>\n",
       "      <th>dt</th>\n",
       "      <th>classes_binary</th>\n",
       "      <th>category</th>\n",
       "      <th>Prob</th>\n",
       "    </tr>\n",
       "  </thead>\n",
       "  <tbody>\n",
       "    <tr>\n",
       "      <th>0</th>\n",
       "      <td>30</td>\n",
       "      <td>30</td>\n",
       "      <td>HN12_D0_30HZ_20XINF_UWELL_25651122_135932_dt2_...</td>\n",
       "      <td>/media/HDD/rheology2023/Blood_Viscosity_2dFFT/...</td>\n",
       "      <td>HN12_D0_30HZ_20XINF_UWELL_25651122_135932</td>\n",
       "      <td>SSD_Backup</td>\n",
       "      <td>HN</td>\n",
       "      <td>HN12</td>\n",
       "      <td>Splenectomy</td>\n",
       "      <td>1</td>\n",
       "      <td>[2, 5, 7]</td>\n",
       "      <td>1</td>\n",
       "      <td>HN</td>\n",
       "      <td>0.616190</td>\n",
       "    </tr>\n",
       "    <tr>\n",
       "      <th>1</th>\n",
       "      <td>31</td>\n",
       "      <td>31</td>\n",
       "      <td>HN12_D0_30HZ_20XINF_UWELL_25651122_140145_dt2_...</td>\n",
       "      <td>/media/HDD/rheology2023/Blood_Viscosity_2dFFT/...</td>\n",
       "      <td>HN12_D0_30HZ_20XINF_UWELL_25651122_140145</td>\n",
       "      <td>SSD_Backup</td>\n",
       "      <td>HN</td>\n",
       "      <td>HN12</td>\n",
       "      <td>Splenectomy</td>\n",
       "      <td>1</td>\n",
       "      <td>[2, 5, 7]</td>\n",
       "      <td>1</td>\n",
       "      <td>HN</td>\n",
       "      <td>0.616163</td>\n",
       "    </tr>\n",
       "    <tr>\n",
       "      <th>2</th>\n",
       "      <td>32</td>\n",
       "      <td>32</td>\n",
       "      <td>HN12_D0_30HZ_20XINF_UWELL_25651122_140431_dt2_...</td>\n",
       "      <td>/media/HDD/rheology2023/Blood_Viscosity_2dFFT/...</td>\n",
       "      <td>HN12_D0_30HZ_20XINF_UWELL_25651122_140431</td>\n",
       "      <td>SSD_Backup</td>\n",
       "      <td>HN</td>\n",
       "      <td>HN12</td>\n",
       "      <td>Splenectomy</td>\n",
       "      <td>1</td>\n",
       "      <td>[2, 5, 7]</td>\n",
       "      <td>1</td>\n",
       "      <td>HN</td>\n",
       "      <td>0.621684</td>\n",
       "    </tr>\n",
       "    <tr>\n",
       "      <th>3</th>\n",
       "      <td>33</td>\n",
       "      <td>33</td>\n",
       "      <td>HN12_D0_30HZ_20XINF_UWELL_25651122_140721_dt2_...</td>\n",
       "      <td>/media/HDD/rheology2023/Blood_Viscosity_2dFFT/...</td>\n",
       "      <td>HN12_D0_30HZ_20XINF_UWELL_25651122_140721</td>\n",
       "      <td>SSD_Backup</td>\n",
       "      <td>HN</td>\n",
       "      <td>HN12</td>\n",
       "      <td>Splenectomy</td>\n",
       "      <td>1</td>\n",
       "      <td>[2, 5, 7]</td>\n",
       "      <td>1</td>\n",
       "      <td>HN</td>\n",
       "      <td>0.623521</td>\n",
       "    </tr>\n",
       "    <tr>\n",
       "      <th>4</th>\n",
       "      <td>34</td>\n",
       "      <td>34</td>\n",
       "      <td>HN12_D0_30HZ_20XINF_UWELL_25651122_141024_dt2_...</td>\n",
       "      <td>/media/HDD/rheology2023/Blood_Viscosity_2dFFT/...</td>\n",
       "      <td>HN12_D0_30HZ_20XINF_UWELL_25651122_141024</td>\n",
       "      <td>SSD_Backup</td>\n",
       "      <td>HN</td>\n",
       "      <td>HN12</td>\n",
       "      <td>Splenectomy</td>\n",
       "      <td>1</td>\n",
       "      <td>[2, 5, 7]</td>\n",
       "      <td>1</td>\n",
       "      <td>HN</td>\n",
       "      <td>0.619231</td>\n",
       "    </tr>\n",
       "  </tbody>\n",
       "</table>\n",
       "</div>"
      ],
      "text/plain": [
       "   Unnamed: 0  Unnamed: 0.1  \\\n",
       "0          30            30   \n",
       "1          31            31   \n",
       "2          32            32   \n",
       "3          33            33   \n",
       "4          34            34   \n",
       "\n",
       "                                          image_name  \\\n",
       "0  HN12_D0_30HZ_20XINF_UWELL_25651122_135932_dt2_...   \n",
       "1  HN12_D0_30HZ_20XINF_UWELL_25651122_140145_dt2_...   \n",
       "2  HN12_D0_30HZ_20XINF_UWELL_25651122_140431_dt2_...   \n",
       "3  HN12_D0_30HZ_20XINF_UWELL_25651122_140721_dt2_...   \n",
       "4  HN12_D0_30HZ_20XINF_UWELL_25651122_141024_dt2_...   \n",
       "\n",
       "                                          image_path  \\\n",
       "0  /media/HDD/rheology2023/Blood_Viscosity_2dFFT/...   \n",
       "1  /media/HDD/rheology2023/Blood_Viscosity_2dFFT/...   \n",
       "2  /media/HDD/rheology2023/Blood_Viscosity_2dFFT/...   \n",
       "3  /media/HDD/rheology2023/Blood_Viscosity_2dFFT/...   \n",
       "4  /media/HDD/rheology2023/Blood_Viscosity_2dFFT/...   \n",
       "\n",
       "                                image_folder folder_source classes  Code  \\\n",
       "0  HN12_D0_30HZ_20XINF_UWELL_25651122_135932    SSD_Backup      HN  HN12   \n",
       "1  HN12_D0_30HZ_20XINF_UWELL_25651122_140145    SSD_Backup      HN  HN12   \n",
       "2  HN12_D0_30HZ_20XINF_UWELL_25651122_140431    SSD_Backup      HN  HN12   \n",
       "3  HN12_D0_30HZ_20XINF_UWELL_25651122_140721    SSD_Backup      HN  HN12   \n",
       "4  HN12_D0_30HZ_20XINF_UWELL_25651122_141024    SSD_Backup      HN  HN12   \n",
       "\n",
       "      subclass  fold         dt  classes_binary category      Prob  \n",
       "0  Splenectomy     1  [2, 5, 7]               1       HN  0.616190  \n",
       "1  Splenectomy     1  [2, 5, 7]               1       HN  0.616163  \n",
       "2  Splenectomy     1  [2, 5, 7]               1       HN  0.621684  \n",
       "3  Splenectomy     1  [2, 5, 7]               1       HN  0.623521  \n",
       "4  Splenectomy     1  [2, 5, 7]               1       HN  0.619231  "
      ]
     },
     "execution_count": 23,
     "metadata": {},
     "output_type": "execute_result"
    }
   ],
   "source": [
    "print(len(pred_list))\n",
    "print(len(prob_list))\n",
    "\n",
    "test_2dFFT['category'] = pred_list\n",
    "test_2dFFT['Prob'] = prob_list\n",
    "test_2dFFT.head()"
   ]
  },
  {
   "cell_type": "code",
   "execution_count": 27,
   "id": "b9d19359",
   "metadata": {},
   "outputs": [
    {
     "name": "stdout",
     "output_type": "stream",
     "text": [
      "classifier accuracy = 65.21739130434783%\n",
      "              precision    recall  f1-score   support\n",
      "\n",
      "          HN       0.65      1.00      0.79        60\n",
      "         NBL       0.00      0.00      0.00        32\n",
      "\n",
      "    accuracy                           0.65        92\n",
      "   macro avg       0.33      0.50      0.39        92\n",
      "weighted avg       0.43      0.65      0.51        92\n",
      "\n"
     ]
    },
    {
     "name": "stderr",
     "output_type": "stream",
     "text": [
      "/home/kannika/miniconda3/envs/tf24EffNetV2py37/lib/python3.7/site-packages/sklearn/metrics/_classification.py:1318: UndefinedMetricWarning: Precision and F-score are ill-defined and being set to 0.0 in labels with no predicted samples. Use `zero_division` parameter to control this behavior.\n",
      "  _warn_prf(average, modifier, msg_start, len(result))\n",
      "/home/kannika/miniconda3/envs/tf24EffNetV2py37/lib/python3.7/site-packages/sklearn/metrics/_classification.py:1318: UndefinedMetricWarning: Precision and F-score are ill-defined and being set to 0.0 in labels with no predicted samples. Use `zero_division` parameter to control this behavior.\n",
      "  _warn_prf(average, modifier, msg_start, len(result))\n",
      "/home/kannika/miniconda3/envs/tf24EffNetV2py37/lib/python3.7/site-packages/sklearn/metrics/_classification.py:1318: UndefinedMetricWarning: Precision and F-score are ill-defined and being set to 0.0 in labels with no predicted samples. Use `zero_division` parameter to control this behavior.\n",
      "  _warn_prf(average, modifier, msg_start, len(result))\n"
     ]
    }
   ],
   "source": [
    "import numpy as np\n",
    "from sklearn.metrics import confusion_matrix\n",
    "\n",
    "act = test_2dFFT['classes'].array\n",
    "pred = test_2dFFT['category'].array\n",
    "\n",
    "cmat = confusion_matrix(act, pred)\n",
    "print('classifier accuracy = {}%'.format((100.*np.trace(cmat))/(np.sum(cmat))))\n",
    "\n",
    "#Marking the Confusion Matrix\n",
    "from sklearn.metrics import classification_report,confusion_matrix\n",
    "print(classification_report(act, pred))#performance"
   ]
  },
  {
   "cell_type": "markdown",
   "id": "151574b7",
   "metadata": {},
   "source": [
    "### Confusion matrix"
   ]
  },
  {
   "cell_type": "code",
   "execution_count": 28,
   "id": "34e144f9",
   "metadata": {},
   "outputs": [
    {
     "data": {
      "text/plain": [
       "Text(0.5, 21.249999999999993, 'Predicted label')"
      ]
     },
     "execution_count": 28,
     "metadata": {},
     "output_type": "execute_result"
    },
    {
     "data": {
      "image/png": "[encoded data removed]",
      "text/plain": [
       "<Figure size 800x500 with 2 Axes>"
      ]
     },
     "metadata": {},
     "output_type": "display_data"
    }
   ],
   "source": [
    "#create CF \n",
    "data = {'Actual': act,'Predicted' : pred,}\n",
    "df = pd.DataFrame(data, columns=['Actual','Predicted'])\n",
    "conf_mat = pd.crosstab(df['Actual'],df['Predicted'],rownames=['Actual'],colnames=['Predicted'])\n",
    "\n",
    "#Confusion matrix\n",
    "from sklearn.metrics import confusion_matrix\n",
    "import matplotlib.pyplot as plt\n",
    "cm = confusion_matrix(act, pred)\n",
    "\n",
    "#plot Confusion matrix\n",
    "import seaborn as sns\n",
    "sns.set()\n",
    "fig, ax = plt.subplots(figsize=(8, 5))\n",
    "\n",
    "ax = sns.heatmap(conf_mat, annot=True, fmt=\"d\", cmap=\"YlGnBu\") #Blues,Oranges,Reds\n",
    "ax.set_title('Confusion matrix',fontsize=20)\n",
    "ax.set_ylabel('True label',fontsize=18)\n",
    "ax.set_xlabel('Predicted label',fontsize=18)"
   ]
  },
  {
   "cell_type": "code",
   "execution_count": null,
   "id": "83314678",
   "metadata": {},
   "outputs": [],
   "source": []
  },
  {
   "cell_type": "code",
   "execution_count": null,
   "id": "408d01bb",
   "metadata": {},
   "outputs": [],
   "source": []
  },
  {
   "cell_type": "code",
   "execution_count": null,
   "id": "03b15f0a",
   "metadata": {},
   "outputs": [],
   "source": []
  },
  {
   "cell_type": "code",
   "execution_count": null,
   "id": "22966d95",
   "metadata": {},
   "outputs": [],
   "source": []
  },
  {
   "cell_type": "code",
   "execution_count": null,
   "id": "67bb8384",
   "metadata": {},
   "outputs": [],
   "source": []
  },
  {
   "cell_type": "code",
   "execution_count": null,
   "id": "cb8d51af",
   "metadata": {},
   "outputs": [],
   "source": []
  }
 ],
 "metadata": {
  "kernelspec": {
   "display_name": "tf24EffNetV2py37",
   "language": "python",
   "name": "tf24effnetv2py37"
  },
  "language_info": {
   "codemirror_mode": {
    "name": "ipython",
    "version": 3
   },
   "file_extension": ".py",
   "mimetype": "text/x-python",
   "name": "python",
   "nbconvert_exporter": "python",
   "pygments_lexer": "ipython3",
   "version": "3.7.15"
  }
 },
 "nbformat": 4,
 "nbformat_minor": 5
}
