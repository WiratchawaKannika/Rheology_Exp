{
 "cells": [
  {
   "cell_type": "code",
   "execution_count": 1,
   "id": "optical-archive",
   "metadata": {},
   "outputs": [],
   "source": [
    "import pandas as pd\n",
    "import os\n",
    "from sklearn.metrics import precision_recall_fscore_support \n",
    "from sklearn.metrics import accuracy_score\n",
    "from xgboost import XGBClassifier\n",
    "from sklearn.model_selection import cross_validate"
   ]
  },
  {
   "cell_type": "markdown",
   "id": "lightweight-thing",
   "metadata": {},
   "source": [
    "# 📂DATA : 3 Classes"
   ]
  },
  {
   "cell_type": "code",
   "execution_count": 2,
   "id": "featured-washington",
   "metadata": {},
   "outputs": [],
   "source": [
    "fold = 1"
   ]
  },
  {
   "cell_type": "code",
   "execution_count": 4,
   "id": "ignored-science",
   "metadata": {},
   "outputs": [
    {
     "name": "stdout",
     "output_type": "stream",
     "text": [
      "(51, 9)\n",
      "----------------------------------------------------------------------------------------------------\n",
      "All Fold : {1, 2, 3}\n",
      "Train Set : Fold ==> {2, 3}\n",
      "Train =  (35, 9)\n",
      "Valiadtion Set : Fold ==> {1}\n",
      "Validation =  (16, 9)\n"
     ]
    },
    {
     "data": {
      "text/html": [
       "<div>\n",
       "<style scoped>\n",
       "    .dataframe tbody tr th:only-of-type {\n",
       "        vertical-align: middle;\n",
       "    }\n",
       "\n",
       "    .dataframe tbody tr th {\n",
       "        vertical-align: top;\n",
       "    }\n",
       "\n",
       "    .dataframe thead th {\n",
       "        text-align: right;\n",
       "    }\n",
       "</style>\n",
       "<table border=\"1\" class=\"dataframe\">\n",
       "  <thead>\n",
       "    <tr style=\"text-align: right;\">\n",
       "      <th></th>\n",
       "      <th>Unnamed: 0</th>\n",
       "      <th>Code</th>\n",
       "      <th>classes</th>\n",
       "      <th>subclass</th>\n",
       "      <th>fold</th>\n",
       "      <th>classes_binary</th>\n",
       "      <th>MCV</th>\n",
       "      <th>MCH</th>\n",
       "      <th>Hb</th>\n",
       "    </tr>\n",
       "  </thead>\n",
       "  <tbody>\n",
       "    <tr>\n",
       "      <th>0</th>\n",
       "      <td>0</td>\n",
       "      <td>HN35</td>\n",
       "      <td>HN</td>\n",
       "      <td>No_Splenectomy</td>\n",
       "      <td>1</td>\n",
       "      <td>1.0</td>\n",
       "      <td>74.3</td>\n",
       "      <td>23.4</td>\n",
       "      <td>7.1</td>\n",
       "    </tr>\n",
       "    <tr>\n",
       "      <th>1</th>\n",
       "      <td>1</td>\n",
       "      <td>HN38</td>\n",
       "      <td>HN</td>\n",
       "      <td>No_Splenectomy</td>\n",
       "      <td>1</td>\n",
       "      <td>1.0</td>\n",
       "      <td>72.9</td>\n",
       "      <td>22.6</td>\n",
       "      <td>8.0</td>\n",
       "    </tr>\n",
       "    <tr>\n",
       "      <th>2</th>\n",
       "      <td>2</td>\n",
       "      <td>HN43</td>\n",
       "      <td>HN</td>\n",
       "      <td>No_Splenectomy</td>\n",
       "      <td>1</td>\n",
       "      <td>1.0</td>\n",
       "      <td>57.4</td>\n",
       "      <td>17.7</td>\n",
       "      <td>4.4</td>\n",
       "    </tr>\n",
       "    <tr>\n",
       "      <th>3</th>\n",
       "      <td>3</td>\n",
       "      <td>NBL14</td>\n",
       "      <td>NBL</td>\n",
       "      <td>Normal</td>\n",
       "      <td>1</td>\n",
       "      <td>0.0</td>\n",
       "      <td>86.8</td>\n",
       "      <td>28.1</td>\n",
       "      <td>13.2</td>\n",
       "    </tr>\n",
       "    <tr>\n",
       "      <th>4</th>\n",
       "      <td>4</td>\n",
       "      <td>NBL23</td>\n",
       "      <td>NBL</td>\n",
       "      <td>Normal</td>\n",
       "      <td>1</td>\n",
       "      <td>0.0</td>\n",
       "      <td>66.5</td>\n",
       "      <td>20.3</td>\n",
       "      <td>13.0</td>\n",
       "    </tr>\n",
       "  </tbody>\n",
       "</table>\n",
       "</div>"
      ],
      "text/plain": [
       "   Unnamed: 0   Code classes        subclass  fold  classes_binary   MCV  \\\n",
       "0           0   HN35      HN  No_Splenectomy     1             1.0  74.3   \n",
       "1           1   HN38      HN  No_Splenectomy     1             1.0  72.9   \n",
       "2           2   HN43      HN  No_Splenectomy     1             1.0  57.4   \n",
       "3           3  NBL14     NBL          Normal     1             0.0  86.8   \n",
       "4           4  NBL23     NBL          Normal     1             0.0  66.5   \n",
       "\n",
       "    MCH    Hb  \n",
       "0  23.4   7.1  \n",
       "1  22.6   8.0  \n",
       "2  17.7   4.4  \n",
       "3  28.1  13.2  \n",
       "4  20.3  13.0  "
      ]
     },
     "execution_count": 4,
     "metadata": {},
     "output_type": "execute_result"
    }
   ],
   "source": [
    "path = \"/home/kannika/code/Rheology2023/Rheology_Blood/DataBlood_Viscosity_TrainML_3Fold_split3class.csv\"\n",
    "data_feature = pd.read_csv(path)\n",
    "print(data_feature.shape)\n",
    "print(\"-\"*100)\n",
    "print(f\"All Fold : {set(data_feature.fold)}\")\n",
    "## Split Train data Set\n",
    "feature_train = data_feature[data_feature[\"fold\"]!=fold].reset_index(drop=True)\n",
    "print(f\"Train Set : Fold ==> {set(feature_train.fold)}\")\n",
    "print(\"Train = \", feature_train.shape)\n",
    "## Split Valid data Set\n",
    "feature_valid = data_feature[data_feature[\"fold\"]==fold].reset_index(drop=True)\n",
    "print(f\"Valiadtion Set : Fold ==> {set(feature_valid.fold)}\")\n",
    "print(\"Validation = \", feature_valid.shape)\n",
    "## Print DataFrame\n",
    "feature_valid.head()"
   ]
  },
  {
   "cell_type": "code",
   "execution_count": 5,
   "id": "wound-japanese",
   "metadata": {},
   "outputs": [
    {
     "name": "stdout",
     "output_type": "stream",
     "text": [
      "(16, 3)\n",
      "(16,)\n",
      "No_Splenectomy\n"
     ]
    }
   ],
   "source": [
    "X_test = feature_valid[['MCV','MCH','Hb']]\n",
    "y_test = feature_valid[\"subclass\"]\n",
    "print(X_test.shape)\n",
    "print(y_test.shape)\n",
    "print(y_test[0])"
   ]
  },
  {
   "cell_type": "code",
   "execution_count": 6,
   "id": "respiratory-storm",
   "metadata": {},
   "outputs": [
    {
     "name": "stdout",
     "output_type": "stream",
     "text": [
      "3\n",
      "{'Normal', 'No_Splenectomy', 'Splenectomy'}\n"
     ]
    }
   ],
   "source": [
    "print(len(set(y_test)))\n",
    "print(set(y_test))"
   ]
  },
  {
   "cell_type": "markdown",
   "id": "hollywood-transportation",
   "metadata": {},
   "source": [
    "## 🚀Load Model"
   ]
  },
  {
   "cell_type": "code",
   "execution_count": 7,
   "id": "interim-armstrong",
   "metadata": {},
   "outputs": [],
   "source": [
    "#load model\n",
    "import pickle\n",
    "\n",
    "model_path = \"/media/tohn/HDD/rheology2023/ML_Model/Blood_Viscosity/_3Classes/fold1/Logis_Model_Blood3Class_fold1.pkl\"\n",
    "with open(model_path, 'rb') as file:\n",
    "    model = pickle.load(file)"
   ]
  },
  {
   "cell_type": "code",
   "execution_count": 8,
   "id": "owned-range",
   "metadata": {},
   "outputs": [
    {
     "name": "stdout",
     "output_type": "stream",
     "text": [
      "16\n",
      "['Splenectomy' 'Splenectomy' 'No_Splenectomy' 'Normal' 'Normal' 'Normal'\n",
      " 'Splenectomy' 'Splenectomy' 'Splenectomy' 'Splenectomy' 'Splenectomy'\n",
      " 'No_Splenectomy' 'Normal' 'Splenectomy' 'Splenectomy' 'Splenectomy']\n",
      "16\n"
     ]
    }
   ],
   "source": [
    "import numpy as np\n",
    "\n",
    "y_pred = model.predict(X_test)\n",
    "y_prob = model.predict_proba(X_test)\n",
    "print(len(y_pred))\n",
    "print(y_pred)\n",
    "\n",
    "prob_list = list()\n",
    "for i in range(0,len(y_prob)):\n",
    "    result = y_prob[i]\n",
    "    maxx = np.argmax(result)\n",
    "    prob_i = result[maxx]\n",
    "    prob_list.append(prob_i)\n",
    "print(len(prob_list))"
   ]
  },
  {
   "cell_type": "code",
   "execution_count": 9,
   "id": "accessory-thousand",
   "metadata": {},
   "outputs": [
    {
     "name": "stdout",
     "output_type": "stream",
     "text": [
      "[0.6423312720708857, 0.5859818843234567, 0.9047592434506173, 0.9396943050903882, 0.8185722607678771, 0.9653796890999312, 0.6391820308746391, 0.4689686228181019, 0.5682186463095598, 0.6312276962936942, 0.775509663229055, 0.8212564534384341, 0.9750401606715091, 0.47257035240328155, 0.6392338379242897, 0.6200853113316283]\n"
     ]
    }
   ],
   "source": [
    "print(prob_list)"
   ]
  },
  {
   "cell_type": "code",
   "execution_count": 10,
   "id": "emerging-signal",
   "metadata": {},
   "outputs": [
    {
     "data": {
      "text/html": [
       "<div>\n",
       "<style scoped>\n",
       "    .dataframe tbody tr th:only-of-type {\n",
       "        vertical-align: middle;\n",
       "    }\n",
       "\n",
       "    .dataframe tbody tr th {\n",
       "        vertical-align: top;\n",
       "    }\n",
       "\n",
       "    .dataframe thead th {\n",
       "        text-align: right;\n",
       "    }\n",
       "</style>\n",
       "<table border=\"1\" class=\"dataframe\">\n",
       "  <thead>\n",
       "    <tr style=\"text-align: right;\">\n",
       "      <th></th>\n",
       "      <th>Unnamed: 0</th>\n",
       "      <th>Code</th>\n",
       "      <th>classes</th>\n",
       "      <th>subclass</th>\n",
       "      <th>fold</th>\n",
       "      <th>classes_binary</th>\n",
       "      <th>MCV</th>\n",
       "      <th>MCH</th>\n",
       "      <th>Hb</th>\n",
       "      <th>Category</th>\n",
       "      <th>Prob</th>\n",
       "    </tr>\n",
       "  </thead>\n",
       "  <tbody>\n",
       "    <tr>\n",
       "      <th>0</th>\n",
       "      <td>0</td>\n",
       "      <td>HN35</td>\n",
       "      <td>HN</td>\n",
       "      <td>No_Splenectomy</td>\n",
       "      <td>1</td>\n",
       "      <td>1.0</td>\n",
       "      <td>74.3</td>\n",
       "      <td>23.4</td>\n",
       "      <td>7.1</td>\n",
       "      <td>Splenectomy</td>\n",
       "      <td>0.642331</td>\n",
       "    </tr>\n",
       "    <tr>\n",
       "      <th>1</th>\n",
       "      <td>1</td>\n",
       "      <td>HN38</td>\n",
       "      <td>HN</td>\n",
       "      <td>No_Splenectomy</td>\n",
       "      <td>1</td>\n",
       "      <td>1.0</td>\n",
       "      <td>72.9</td>\n",
       "      <td>22.6</td>\n",
       "      <td>8.0</td>\n",
       "      <td>Splenectomy</td>\n",
       "      <td>0.585982</td>\n",
       "    </tr>\n",
       "    <tr>\n",
       "      <th>2</th>\n",
       "      <td>2</td>\n",
       "      <td>HN43</td>\n",
       "      <td>HN</td>\n",
       "      <td>No_Splenectomy</td>\n",
       "      <td>1</td>\n",
       "      <td>1.0</td>\n",
       "      <td>57.4</td>\n",
       "      <td>17.7</td>\n",
       "      <td>4.4</td>\n",
       "      <td>No_Splenectomy</td>\n",
       "      <td>0.904759</td>\n",
       "    </tr>\n",
       "    <tr>\n",
       "      <th>3</th>\n",
       "      <td>3</td>\n",
       "      <td>NBL14</td>\n",
       "      <td>NBL</td>\n",
       "      <td>Normal</td>\n",
       "      <td>1</td>\n",
       "      <td>0.0</td>\n",
       "      <td>86.8</td>\n",
       "      <td>28.1</td>\n",
       "      <td>13.2</td>\n",
       "      <td>Normal</td>\n",
       "      <td>0.939694</td>\n",
       "    </tr>\n",
       "    <tr>\n",
       "      <th>4</th>\n",
       "      <td>4</td>\n",
       "      <td>NBL23</td>\n",
       "      <td>NBL</td>\n",
       "      <td>Normal</td>\n",
       "      <td>1</td>\n",
       "      <td>0.0</td>\n",
       "      <td>66.5</td>\n",
       "      <td>20.3</td>\n",
       "      <td>13.0</td>\n",
       "      <td>Normal</td>\n",
       "      <td>0.818572</td>\n",
       "    </tr>\n",
       "  </tbody>\n",
       "</table>\n",
       "</div>"
      ],
      "text/plain": [
       "   Unnamed: 0   Code classes        subclass  fold  classes_binary   MCV  \\\n",
       "0           0   HN35      HN  No_Splenectomy     1             1.0  74.3   \n",
       "1           1   HN38      HN  No_Splenectomy     1             1.0  72.9   \n",
       "2           2   HN43      HN  No_Splenectomy     1             1.0  57.4   \n",
       "3           3  NBL14     NBL          Normal     1             0.0  86.8   \n",
       "4           4  NBL23     NBL          Normal     1             0.0  66.5   \n",
       "\n",
       "    MCH    Hb        Category      Prob  \n",
       "0  23.4   7.1     Splenectomy  0.642331  \n",
       "1  22.6   8.0     Splenectomy  0.585982  \n",
       "2  17.7   4.4  No_Splenectomy  0.904759  \n",
       "3  28.1  13.2          Normal  0.939694  \n",
       "4  20.3  13.0          Normal  0.818572  "
      ]
     },
     "execution_count": 10,
     "metadata": {},
     "output_type": "execute_result"
    }
   ],
   "source": [
    "feature_valid['Category'] = y_pred\n",
    "feature_valid['Prob'] = prob_list\n",
    "feature_valid.head()"
   ]
  },
  {
   "cell_type": "code",
   "execution_count": 11,
   "id": "flexible-puppy",
   "metadata": {},
   "outputs": [
    {
     "name": "stdout",
     "output_type": "stream",
     "text": [
      "Classifier accuracy = 75.0%\n",
      "====================================================================================================\n",
      "                precision    recall  f1-score   support\n",
      "\n",
      "No_Splenectomy       1.00      0.33      0.50         6\n",
      "        Normal       1.00      1.00      1.00         4\n",
      "   Splenectomy       0.60      1.00      0.75         6\n",
      "\n",
      "      accuracy                           0.75        16\n",
      "     macro avg       0.87      0.78      0.75        16\n",
      "  weighted avg       0.85      0.75      0.72        16\n",
      "\n"
     ]
    }
   ],
   "source": [
    "act = feature_valid['subclass'].tolist()\n",
    "pred = feature_valid['Category'].tolist()\n",
    "#Marking the Confusion Matrix\n",
    "from sklearn.metrics import classification_report,confusion_matrix\n",
    "# confusion_matrix(act, pred)\n",
    "cmat = confusion_matrix(act, pred)\n",
    "print('Classifier accuracy = {}%'.format((100.*np.trace(cmat))/(np.sum(cmat))))\n",
    "print(\"=\"*100)\n",
    "print(classification_report(act, pred))#performance"
   ]
  },
  {
   "cell_type": "code",
   "execution_count": 12,
   "id": "regulated-answer",
   "metadata": {},
   "outputs": [
    {
     "data": {
      "text/plain": [
       "Text(0.5, 20.59375, 'Predicted label')"
      ]
     },
     "execution_count": 12,
     "metadata": {},
     "output_type": "execute_result"
    },
    {
     "data": {
      "image/png": "[encoded data removed]",
      "text/plain": [
       "<Figure size 576x360 with 2 Axes>"
      ]
     },
     "metadata": {},
     "output_type": "display_data"
    }
   ],
   "source": [
    "#create CF \n",
    "data = {'Actual': act,'Predicted' : pred,}\n",
    "df = pd.DataFrame(data, columns=['Actual','Predicted'])\n",
    "conf_mat = pd.crosstab(df['Actual'],df['Predicted'],rownames=['Actual'],colnames=['Predicted'])\n",
    "\n",
    "#Confusion matrix\n",
    "from sklearn.metrics import confusion_matrix\n",
    "import matplotlib.pyplot as plt\n",
    "cm = confusion_matrix(act, pred)\n",
    "\n",
    "#plot Confusion matrix\n",
    "import seaborn as sns\n",
    "sns.set()\n",
    "fig, ax = plt.subplots(figsize=(8, 5))\n",
    "\n",
    "ax = sns.heatmap(conf_mat, annot=True, fmt=\"d\", cmap=\"YlGnBu\") #Blues,Oranges,Reds\n",
    "ax.set_title('Confusion matrix',fontsize=20)\n",
    "ax.set_ylabel('True label',fontsize=18)\n",
    "ax.set_xlabel('Predicted label',fontsize=18)"
   ]
  },
  {
   "cell_type": "code",
   "execution_count": null,
   "id": "friendly-influence",
   "metadata": {},
   "outputs": [],
   "source": []
  },
  {
   "cell_type": "code",
   "execution_count": null,
   "id": "banner-executive",
   "metadata": {},
   "outputs": [],
   "source": []
  }
 ],
 "metadata": {
  "kernelspec": {
   "display_name": "AI",
   "language": "python",
   "name": "ai"
  },
  "language_info": {
   "codemirror_mode": {
    "name": "ipython",
    "version": 3
   },
   "file_extension": ".py",
   "mimetype": "text/x-python",
   "name": "python",
   "nbconvert_exporter": "python",
   "pygments_lexer": "ipython3",
   "version": "3.6.9"
  }
 },
 "nbformat": 4,
 "nbformat_minor": 5
}
