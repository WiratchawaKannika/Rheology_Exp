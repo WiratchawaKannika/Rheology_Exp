{
 "cells": [
  {
   "cell_type": "code",
   "execution_count": 8,
   "id": "moved-county",
   "metadata": {},
   "outputs": [],
   "source": [
    "# Import Library\n",
    "import pandas as pd\n",
    "import glob\n",
    "from sklearn.ensemble import RandomForestClassifier\n",
    "from sklearn.model_selection import GridSearchCV\n",
    "from sklearn.ensemble import BaggingClassifier\n",
    "from sklearn.metrics import precision_recall_fscore_support\n",
    "from sklearn.model_selection import train_test_split\n",
    "from sklearn.metrics import accuracy_score\n",
    "import random\n",
    "from sklearn import svm\n",
    "from sklearn.model_selection import cross_validate"
   ]
  },
  {
   "cell_type": "code",
   "execution_count": 9,
   "id": "vocational-compiler",
   "metadata": {},
   "outputs": [],
   "source": [
    "import os\n",
    "os.environ[\"CUDA_DEVICE_ORDER\"]=\"PCI_BUS_ID\"  \n",
    "os.environ[\"CUDA_VISIBLE_DEVICES\"]=\"1\""
   ]
  },
  {
   "cell_type": "markdown",
   "id": "average-microphone",
   "metadata": {},
   "source": [
    "# 📂DATA : 2 Classes"
   ]
  },
  {
   "cell_type": "code",
   "execution_count": 86,
   "id": "knowing-schema",
   "metadata": {},
   "outputs": [],
   "source": [
    "fold = 6"
   ]
  },
  {
   "cell_type": "code",
   "execution_count": 87,
   "id": "animal-bishop",
   "metadata": {},
   "outputs": [
    {
     "name": "stdout",
     "output_type": "stream",
     "text": [
      "(51, 9)\n",
      "----------------------------------------------------------------------------------------------------\n",
      "All Fold : {1, 2, 3, 4, 5, 6}\n",
      "Train Set : Fold ==> {1, 2, 3, 4, 5}\n",
      "Train =  (43, 9)\n",
      "Valiadtion Set : Fold ==> {6}\n",
      "Validation =  (8, 9)\n"
     ]
    },
    {
     "data": {
      "text/html": [
       "<div>\n",
       "<style scoped>\n",
       "    .dataframe tbody tr th:only-of-type {\n",
       "        vertical-align: middle;\n",
       "    }\n",
       "\n",
       "    .dataframe tbody tr th {\n",
       "        vertical-align: top;\n",
       "    }\n",
       "\n",
       "    .dataframe thead th {\n",
       "        text-align: right;\n",
       "    }\n",
       "</style>\n",
       "<table border=\"1\" class=\"dataframe\">\n",
       "  <thead>\n",
       "    <tr style=\"text-align: right;\">\n",
       "      <th></th>\n",
       "      <th>Unnamed: 0</th>\n",
       "      <th>Code</th>\n",
       "      <th>classes</th>\n",
       "      <th>subclass</th>\n",
       "      <th>fold</th>\n",
       "      <th>classes_binary</th>\n",
       "      <th>MCV</th>\n",
       "      <th>MCH</th>\n",
       "      <th>Hb</th>\n",
       "    </tr>\n",
       "  </thead>\n",
       "  <tbody>\n",
       "    <tr>\n",
       "      <th>0</th>\n",
       "      <td>0</td>\n",
       "      <td>HN35</td>\n",
       "      <td>HN</td>\n",
       "      <td>No_Splenectomy</td>\n",
       "      <td>1</td>\n",
       "      <td>1.0</td>\n",
       "      <td>74.3</td>\n",
       "      <td>23.4</td>\n",
       "      <td>7.1</td>\n",
       "    </tr>\n",
       "    <tr>\n",
       "      <th>1</th>\n",
       "      <td>1</td>\n",
       "      <td>HN43</td>\n",
       "      <td>HN</td>\n",
       "      <td>No_Splenectomy</td>\n",
       "      <td>1</td>\n",
       "      <td>1.0</td>\n",
       "      <td>57.4</td>\n",
       "      <td>17.7</td>\n",
       "      <td>4.4</td>\n",
       "    </tr>\n",
       "    <tr>\n",
       "      <th>2</th>\n",
       "      <td>2</td>\n",
       "      <td>HN38</td>\n",
       "      <td>HN</td>\n",
       "      <td>No_Splenectomy</td>\n",
       "      <td>1</td>\n",
       "      <td>1.0</td>\n",
       "      <td>72.9</td>\n",
       "      <td>22.6</td>\n",
       "      <td>8.0</td>\n",
       "    </tr>\n",
       "    <tr>\n",
       "      <th>3</th>\n",
       "      <td>3</td>\n",
       "      <td>NBL14</td>\n",
       "      <td>NBL</td>\n",
       "      <td>Normal</td>\n",
       "      <td>1</td>\n",
       "      <td>0.0</td>\n",
       "      <td>86.8</td>\n",
       "      <td>28.1</td>\n",
       "      <td>13.2</td>\n",
       "    </tr>\n",
       "    <tr>\n",
       "      <th>4</th>\n",
       "      <td>4</td>\n",
       "      <td>NBL15</td>\n",
       "      <td>NBL</td>\n",
       "      <td>Normal</td>\n",
       "      <td>1</td>\n",
       "      <td>0.0</td>\n",
       "      <td>88.2</td>\n",
       "      <td>27.9</td>\n",
       "      <td>13.9</td>\n",
       "    </tr>\n",
       "  </tbody>\n",
       "</table>\n",
       "</div>"
      ],
      "text/plain": [
       "   Unnamed: 0   Code classes        subclass  fold  classes_binary   MCV  \\\n",
       "0           0   HN35      HN  No_Splenectomy     1             1.0  74.3   \n",
       "1           1   HN43      HN  No_Splenectomy     1             1.0  57.4   \n",
       "2           2   HN38      HN  No_Splenectomy     1             1.0  72.9   \n",
       "3           3  NBL14     NBL          Normal     1             0.0  86.8   \n",
       "4           4  NBL15     NBL          Normal     1             0.0  88.2   \n",
       "\n",
       "    MCH    Hb  \n",
       "0  23.4   7.1  \n",
       "1  17.7   4.4  \n",
       "2  22.6   8.0  \n",
       "3  28.1  13.2  \n",
       "4  27.9  13.9  "
      ]
     },
     "execution_count": 87,
     "metadata": {},
     "output_type": "execute_result"
    }
   ],
   "source": [
    "path = \"/home/kannika/code/Rheology2023/Rheology_Blood/DataBlood_Viscosity_TrainML_6Fold_split2class.csv\"\n",
    "data_feature = pd.read_csv(path)\n",
    "print(data_feature.shape)\n",
    "print(\"-\"*100)\n",
    "print(f\"All Fold : {set(data_feature.fold)}\")\n",
    "## Split Train data Set\n",
    "feature_train = data_feature[data_feature[\"fold\"]!=fold].reset_index(drop=True)\n",
    "print(f\"Train Set : Fold ==> {set(feature_train.fold)}\")\n",
    "print(\"Train = \", feature_train.shape)\n",
    "## Split Valid data Set\n",
    "feature_test = data_feature[data_feature[\"fold\"]==fold].reset_index(drop=True)\n",
    "print(f\"Valiadtion Set : Fold ==> {set(feature_test.fold)}\")\n",
    "print(\"Validation = \", feature_test.shape)\n",
    "## Print DataFrame\n",
    "feature_train.head()"
   ]
  },
  {
   "cell_type": "code",
   "execution_count": 88,
   "id": "quantitative-tournament",
   "metadata": {},
   "outputs": [
    {
     "name": "stdout",
     "output_type": "stream",
     "text": [
      "(43, 3)\n",
      "(43,)\n",
      "HN\n"
     ]
    }
   ],
   "source": [
    "X_train = feature_train[['MCV','MCH','Hb']]\n",
    "y_train = feature_train[\"classes\"]\n",
    "print(X_train.shape)\n",
    "print(y_train.shape)\n",
    "print(y_train[0])"
   ]
  },
  {
   "cell_type": "code",
   "execution_count": 89,
   "id": "iraqi-garlic",
   "metadata": {
    "scrolled": true
   },
   "outputs": [
    {
     "name": "stdout",
     "output_type": "stream",
     "text": [
      "2\n",
      "{'HN', 'NBL'}\n"
     ]
    }
   ],
   "source": [
    "print(len(list(set(y_train))))\n",
    "print(set(y_train))"
   ]
  },
  {
   "cell_type": "markdown",
   "id": "careful-fiction",
   "metadata": {},
   "source": [
    "## 🩸 Parameter:  XGboost"
   ]
  },
  {
   "cell_type": "code",
   "execution_count": 90,
   "id": "intended-brooks",
   "metadata": {},
   "outputs": [],
   "source": [
    "from sklearn.model_selection import cross_val_score\n",
    "from sklearn.metrics import classification_report,confusion_matrix\n",
    "import warnings\n",
    "warnings.filterwarnings('ignore')"
   ]
  },
  {
   "cell_type": "code",
   "execution_count": 91,
   "id": "following-accent",
   "metadata": {},
   "outputs": [
    {
     "name": "stdout",
     "output_type": "stream",
     "text": [
      "[14:26:32] WARNING: ../src/learner.cc:1115: Starting in XGBoost 1.3.0, the default evaluation metric used with the objective 'binary:logistic' was changed from 'error' to 'logloss'. Explicitly set eval_metric if you'd like to restore the old behavior.\n"
     ]
    }
   ],
   "source": [
    "from xgboost import XGBClassifier\n",
    "\n",
    "## Seting parameter to find the best\n",
    "learning_rates=[0.01, 0.1]\n",
    "max_depths = [5, 10]\n",
    "gammas = [0, 0.5, 0.8]\n",
    "## Find optimiz paremeter \n",
    "#xgboost = XGBClassifier(n_estimator = 100, tree_method='gpu_hist', silent=True)\n",
    "xgboost = XGBClassifier(random_state = 1, tree_method='gpu_hist',  objective= 'binary:logistic')\n",
    "param_grid = {'gamma' : gammas, 'max_depth' : max_depths, 'learning_rate' : learning_rates}\n",
    "grid_search = GridSearchCV(xgboost, param_grid, cv=10, n_jobs=-1) \n",
    "XGboostModel = grid_search.fit(X_train, y_train)  ##print(bestF)"
   ]
  },
  {
   "cell_type": "code",
   "execution_count": 92,
   "id": "solid-change",
   "metadata": {
    "scrolled": true
   },
   "outputs": [
    {
     "data": {
      "text/html": [
       "<div>\n",
       "<style scoped>\n",
       "    .dataframe tbody tr th:only-of-type {\n",
       "        vertical-align: middle;\n",
       "    }\n",
       "\n",
       "    .dataframe tbody tr th {\n",
       "        vertical-align: top;\n",
       "    }\n",
       "\n",
       "    .dataframe thead th {\n",
       "        text-align: right;\n",
       "    }\n",
       "</style>\n",
       "<table border=\"1\" class=\"dataframe\">\n",
       "  <thead>\n",
       "    <tr style=\"text-align: right;\">\n",
       "      <th></th>\n",
       "      <th>rank_test_score</th>\n",
       "      <th>mean_test_score</th>\n",
       "      <th>std_test_score</th>\n",
       "      <th>params</th>\n",
       "    </tr>\n",
       "  </thead>\n",
       "  <tbody>\n",
       "    <tr>\n",
       "      <th>0</th>\n",
       "      <td>1</td>\n",
       "      <td>0.975</td>\n",
       "      <td>0.075</td>\n",
       "      <td>{'gamma': 0, 'learning_rate': 0.01, 'max_depth...</td>\n",
       "    </tr>\n",
       "    <tr>\n",
       "      <th>1</th>\n",
       "      <td>1</td>\n",
       "      <td>0.975</td>\n",
       "      <td>0.075</td>\n",
       "      <td>{'gamma': 0, 'learning_rate': 0.01, 'max_depth...</td>\n",
       "    </tr>\n",
       "    <tr>\n",
       "      <th>2</th>\n",
       "      <td>1</td>\n",
       "      <td>0.975</td>\n",
       "      <td>0.075</td>\n",
       "      <td>{'gamma': 0, 'learning_rate': 0.1, 'max_depth'...</td>\n",
       "    </tr>\n",
       "    <tr>\n",
       "      <th>3</th>\n",
       "      <td>1</td>\n",
       "      <td>0.975</td>\n",
       "      <td>0.075</td>\n",
       "      <td>{'gamma': 0, 'learning_rate': 0.1, 'max_depth'...</td>\n",
       "    </tr>\n",
       "    <tr>\n",
       "      <th>4</th>\n",
       "      <td>1</td>\n",
       "      <td>0.975</td>\n",
       "      <td>0.075</td>\n",
       "      <td>{'gamma': 0.5, 'learning_rate': 0.01, 'max_dep...</td>\n",
       "    </tr>\n",
       "  </tbody>\n",
       "</table>\n",
       "</div>"
      ],
      "text/plain": [
       "   rank_test_score  mean_test_score  std_test_score  \\\n",
       "0                1            0.975           0.075   \n",
       "1                1            0.975           0.075   \n",
       "2                1            0.975           0.075   \n",
       "3                1            0.975           0.075   \n",
       "4                1            0.975           0.075   \n",
       "\n",
       "                                              params  \n",
       "0  {'gamma': 0, 'learning_rate': 0.01, 'max_depth...  \n",
       "1  {'gamma': 0, 'learning_rate': 0.01, 'max_depth...  \n",
       "2  {'gamma': 0, 'learning_rate': 0.1, 'max_depth'...  \n",
       "3  {'gamma': 0, 'learning_rate': 0.1, 'max_depth'...  \n",
       "4  {'gamma': 0.5, 'learning_rate': 0.01, 'max_dep...  "
      ]
     },
     "execution_count": 92,
     "metadata": {},
     "output_type": "execute_result"
    }
   ],
   "source": [
    "# view the results as a pandas DataFrame\n",
    "best_xgboostdf = pd.DataFrame(XGboostModel.cv_results_)[['rank_test_score', 'mean_test_score', 'std_test_score', 'params']]\n",
    "best_xgboostdf = best_xgboostdf.sort_values(by='rank_test_score', ascending=True)\n",
    "best_xgboostdf = best_xgboostdf.reset_index(drop=True)\n",
    "best_xgboostdf.head()"
   ]
  },
  {
   "cell_type": "code",
   "execution_count": 93,
   "id": "academic-crest",
   "metadata": {},
   "outputs": [
    {
     "name": "stdout",
     "output_type": "stream",
     "text": [
      "**examine the first result \n",
      "\n",
      "{'gamma': 0, 'learning_rate': 0.01, 'max_depth': 5}\n",
      "0.975\n",
      "\n",
      " **print the array of mean scores only \n",
      "\n",
      "[0.975 0.975 0.975 0.975 0.975 0.975 0.975 0.975 0.975 0.975 0.975 0.975]\n",
      "\n",
      " **examine the best model \n",
      "\n",
      "0.975\n",
      "{'gamma': 0, 'learning_rate': 0.01, 'max_depth': 5}\n",
      "XGBClassifier(base_score=0.5, booster='gbtree', colsample_bylevel=1,\n",
      "              colsample_bynode=1, colsample_bytree=1, enable_categorical=False,\n",
      "              gamma=0, gpu_id=0, importance_type=None,\n",
      "              interaction_constraints='', learning_rate=0.01, max_delta_step=0,\n",
      "              max_depth=5, min_child_weight=1, missing=nan,\n",
      "              monotone_constraints='()', n_estimators=100, n_jobs=24,\n",
      "              num_parallel_tree=1, predictor='auto', random_state=1,\n",
      "              reg_alpha=0, reg_lambda=1, scale_pos_weight=1, subsample=1,\n",
      "              tree_method='gpu_hist', validate_parameters=1, verbosity=None)\n"
     ]
    }
   ],
   "source": [
    "# examine the first result\n",
    "print(\"**examine the first result\",\"\\n\")\n",
    "\n",
    "print(XGboostModel.cv_results_['params'][0])\n",
    "print(XGboostModel.cv_results_['mean_test_score'][0])\n",
    "\n",
    "# print the array of mean scores only\n",
    "print(\"\\n\",\"**print the array of mean scores only\",\"\\n\")\n",
    "\n",
    "grid_mean_scores = XGboostModel.cv_results_['mean_test_score']\n",
    "print(grid_mean_scores)\n",
    "\n",
    "# examine the best model\n",
    "print(\"\\n\",\"**examine the best model\",\"\\n\")\n",
    "\n",
    "print(XGboostModel.best_score_)\n",
    "print(XGboostModel.best_params_)\n",
    "print(XGboostModel.best_estimator_)"
   ]
  },
  {
   "cell_type": "code",
   "execution_count": 94,
   "id": "constant-haiti",
   "metadata": {},
   "outputs": [
    {
     "name": "stdout",
     "output_type": "stream",
     "text": [
      "Tuned Decision Tree Parameters: {'gamma': 0, 'learning_rate': 0.01, 'max_depth': 5}\n",
      "Best score is 0.975\n"
     ]
    }
   ],
   "source": [
    "#Print the tured parameters and score\n",
    "print(\"Tuned Decision Tree Parameters: {}\".format(XGboostModel.best_params_))\n",
    "print(\"Best score is {}\".format(XGboostModel.best_score_))"
   ]
  },
  {
   "cell_type": "code",
   "execution_count": 95,
   "id": "lovely-generation",
   "metadata": {},
   "outputs": [],
   "source": [
    "best_params_ =  XGboostModel.best_params_\n",
    "gamma_ = best_params_['gamma'] ##<--- best_params = gammas\n",
    "learning_rate_ = best_params_['learning_rate']  ##<--- best_params = learning_rate\n",
    "max_depth_ = best_params_['max_depth'] ##<--- best_params = max_depth    "
   ]
  },
  {
   "cell_type": "code",
   "execution_count": null,
   "id": "narrative-lightning",
   "metadata": {},
   "outputs": [],
   "source": []
  },
  {
   "cell_type": "markdown",
   "id": "overall-september",
   "metadata": {},
   "source": [
    "> ## 🚀 Fit Model and setting parameters"
   ]
  },
  {
   "cell_type": "code",
   "execution_count": 96,
   "id": "chronic-fellowship",
   "metadata": {},
   "outputs": [
    {
     "name": "stdout",
     "output_type": "stream",
     "text": [
      "[14:26:44] WARNING: ../src/learner.cc:1115: Starting in XGBoost 1.3.0, the default evaluation metric used with the objective 'binary:logistic' was changed from 'error' to 'logloss'. Explicitly set eval_metric if you'd like to restore the old behavior.\n"
     ]
    },
    {
     "data": {
      "text/plain": [
       "XGBClassifier(base_score=0.5, booster='gbtree', colsample_bylevel=1,\n",
       "              colsample_bynode=1, colsample_bytree=1, enable_categorical=False,\n",
       "              gamma=0, gpu_id=0, importance_type=None,\n",
       "              interaction_constraints='', learning_rate=0.01, max_delta_step=0,\n",
       "              max_depth=5, min_child_weight=1, missing=nan,\n",
       "              monotone_constraints='()', n_estimators=100, n_jobs=24,\n",
       "              num_parallel_tree=1, predictor='auto', random_state=1,\n",
       "              reg_alpha=0, reg_lambda=1, scale_pos_weight=1, subsample=1,\n",
       "              tree_method='gpu_hist', validate_parameters=1, verbosity=None)"
      ]
     },
     "execution_count": 96,
     "metadata": {},
     "output_type": "execute_result"
    }
   ],
   "source": [
    "## **- train Fit Model XGBOOST\n",
    "XGBOOST= XGBClassifier(random_state = 1,tree_method='gpu_hist', gamma=gamma_, learning_rate=learning_rate_, max_depth=max_depth_)\n",
    "modelXGBOOST= XGBOOST.fit(X_train, y_train) # train XGBOOST model\n",
    "modelXGBOOST"
   ]
  },
  {
   "cell_type": "code",
   "execution_count": 97,
   "id": "chinese-citizen",
   "metadata": {},
   "outputs": [
    {
     "name": "stdout",
     "output_type": "stream",
     "text": [
      "{'objective': 'binary:logistic', 'use_label_encoder': True, 'base_score': 0.5, 'booster': 'gbtree', 'colsample_bylevel': 1, 'colsample_bynode': 1, 'colsample_bytree': 1, 'enable_categorical': False, 'gamma': 0, 'gpu_id': 0, 'importance_type': None, 'interaction_constraints': '', 'learning_rate': 0.01, 'max_delta_step': 0, 'max_depth': 5, 'min_child_weight': 1, 'missing': nan, 'monotone_constraints': '()', 'n_estimators': 100, 'n_jobs': 24, 'num_parallel_tree': 1, 'predictor': 'auto', 'random_state': 1, 'reg_alpha': 0, 'reg_lambda': 1, 'scale_pos_weight': 1, 'subsample': 1, 'tree_method': 'gpu_hist', 'validate_parameters': 1, 'verbosity': None}\n"
     ]
    }
   ],
   "source": [
    "### Testing Check Parameter\n",
    "print(modelXGBOOST.get_params())"
   ]
  },
  {
   "cell_type": "markdown",
   "id": "black-brunswick",
   "metadata": {},
   "source": [
    "> ## #️⃣ Save model"
   ]
  },
  {
   "cell_type": "code",
   "execution_count": 98,
   "id": "italian-melbourne",
   "metadata": {},
   "outputs": [],
   "source": [
    "numclass = 2"
   ]
  },
  {
   "cell_type": "code",
   "execution_count": 99,
   "id": "palestinian-visibility",
   "metadata": {},
   "outputs": [
    {
     "name": "stdout",
     "output_type": "stream",
     "text": [
      "[INFO]: Done!! Save Model as : /media/tohn/HDD/rheology2023/ML_Model/Blood_Viscosity/_2Classes/fold6/XGboost_Model_Blood2Class_fold6.pkl\n"
     ]
    }
   ],
   "source": [
    "#Save Model\n",
    "import os\n",
    "import pickle\n",
    "import imageio\n",
    "\n",
    "save_pathimg = f'/media/tohn/HDD/rheology2023/ML_Model/Blood_Viscosity/_{numclass}Classes/fold{fold}'\n",
    "##**Mkdir Directory \n",
    "os.makedirs(save_pathimg, exist_ok=True)     \n",
    "filename = f\"XGboost_Model_Blood{numclass}Class_fold{fold}.pkl\"\n",
    "Model2Save =  f\"{save_pathimg}/{filename}\"\n",
    "print(f\"[INFO]: Done!! Save Model as : {Model2Save}\")\n",
    "\n",
    "with open(Model2Save, 'wb') as file:\n",
    "    pickle.dump(modelXGBOOST, file)"
   ]
  },
  {
   "cell_type": "code",
   "execution_count": null,
   "id": "chinese-student",
   "metadata": {},
   "outputs": [],
   "source": []
  },
  {
   "cell_type": "code",
   "execution_count": null,
   "id": "russian-wallet",
   "metadata": {},
   "outputs": [],
   "source": []
  },
  {
   "cell_type": "code",
   "execution_count": null,
   "id": "aquatic-filter",
   "metadata": {},
   "outputs": [],
   "source": []
  }
 ],
 "metadata": {
  "kernelspec": {
   "display_name": "AI",
   "language": "python",
   "name": "ai"
  },
  "language_info": {
   "codemirror_mode": {
    "name": "ipython",
    "version": 3
   },
   "file_extension": ".py",
   "mimetype": "text/x-python",
   "name": "python",
   "nbconvert_exporter": "python",
   "pygments_lexer": "ipython3",
   "version": "3.6.9"
  }
 },
 "nbformat": 4,
 "nbformat_minor": 5
}
