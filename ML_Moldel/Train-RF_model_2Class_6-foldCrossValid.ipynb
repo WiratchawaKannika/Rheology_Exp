{
 "cells": [
  {
   "cell_type": "code",
   "execution_count": 19,
   "id": "moved-county",
   "metadata": {},
   "outputs": [],
   "source": [
    "import pandas as pd\n",
    "import os\n",
    "from sklearn.ensemble import RandomForestClassifier\n",
    "from sklearn.model_selection import GridSearchCV\n",
    "from sklearn.ensemble import BaggingClassifier\n",
    "from sklearn.metrics import precision_recall_fscore_support\n",
    "from sklearn.model_selection import train_test_split\n",
    "from sklearn.metrics import accuracy_score"
   ]
  },
  {
   "cell_type": "markdown",
   "id": "average-microphone",
   "metadata": {},
   "source": [
    "# 📂DATA : 2 Classes"
   ]
  },
  {
   "cell_type": "code",
   "execution_count": 64,
   "id": "knowing-schema",
   "metadata": {},
   "outputs": [],
   "source": [
    "fold = 6"
   ]
  },
  {
   "cell_type": "code",
   "execution_count": 65,
   "id": "animal-bishop",
   "metadata": {},
   "outputs": [
    {
     "name": "stdout",
     "output_type": "stream",
     "text": [
      "(51, 9)\n",
      "----------------------------------------------------------------------------------------------------\n",
      "All Fold : {1, 2, 3, 4, 5, 6}\n",
      "Train Set : Fold ==> {1, 2, 3, 4, 5}\n",
      "Train =  (43, 9)\n",
      "Valiadtion Set : Fold ==> {6}\n",
      "Validation =  (8, 9)\n"
     ]
    },
    {
     "data": {
      "text/html": [
       "<div>\n",
       "<style scoped>\n",
       "    .dataframe tbody tr th:only-of-type {\n",
       "        vertical-align: middle;\n",
       "    }\n",
       "\n",
       "    .dataframe tbody tr th {\n",
       "        vertical-align: top;\n",
       "    }\n",
       "\n",
       "    .dataframe thead th {\n",
       "        text-align: right;\n",
       "    }\n",
       "</style>\n",
       "<table border=\"1\" class=\"dataframe\">\n",
       "  <thead>\n",
       "    <tr style=\"text-align: right;\">\n",
       "      <th></th>\n",
       "      <th>Unnamed: 0</th>\n",
       "      <th>Code</th>\n",
       "      <th>classes</th>\n",
       "      <th>subclass</th>\n",
       "      <th>fold</th>\n",
       "      <th>classes_binary</th>\n",
       "      <th>MCV</th>\n",
       "      <th>MCH</th>\n",
       "      <th>Hb</th>\n",
       "    </tr>\n",
       "  </thead>\n",
       "  <tbody>\n",
       "    <tr>\n",
       "      <th>0</th>\n",
       "      <td>0</td>\n",
       "      <td>HN35</td>\n",
       "      <td>HN</td>\n",
       "      <td>No_Splenectomy</td>\n",
       "      <td>1</td>\n",
       "      <td>1.0</td>\n",
       "      <td>74.3</td>\n",
       "      <td>23.4</td>\n",
       "      <td>7.1</td>\n",
       "    </tr>\n",
       "    <tr>\n",
       "      <th>1</th>\n",
       "      <td>1</td>\n",
       "      <td>HN43</td>\n",
       "      <td>HN</td>\n",
       "      <td>No_Splenectomy</td>\n",
       "      <td>1</td>\n",
       "      <td>1.0</td>\n",
       "      <td>57.4</td>\n",
       "      <td>17.7</td>\n",
       "      <td>4.4</td>\n",
       "    </tr>\n",
       "    <tr>\n",
       "      <th>2</th>\n",
       "      <td>2</td>\n",
       "      <td>HN38</td>\n",
       "      <td>HN</td>\n",
       "      <td>No_Splenectomy</td>\n",
       "      <td>1</td>\n",
       "      <td>1.0</td>\n",
       "      <td>72.9</td>\n",
       "      <td>22.6</td>\n",
       "      <td>8.0</td>\n",
       "    </tr>\n",
       "    <tr>\n",
       "      <th>3</th>\n",
       "      <td>3</td>\n",
       "      <td>NBL14</td>\n",
       "      <td>NBL</td>\n",
       "      <td>Normal</td>\n",
       "      <td>1</td>\n",
       "      <td>0.0</td>\n",
       "      <td>86.8</td>\n",
       "      <td>28.1</td>\n",
       "      <td>13.2</td>\n",
       "    </tr>\n",
       "    <tr>\n",
       "      <th>4</th>\n",
       "      <td>4</td>\n",
       "      <td>NBL15</td>\n",
       "      <td>NBL</td>\n",
       "      <td>Normal</td>\n",
       "      <td>1</td>\n",
       "      <td>0.0</td>\n",
       "      <td>88.2</td>\n",
       "      <td>27.9</td>\n",
       "      <td>13.9</td>\n",
       "    </tr>\n",
       "  </tbody>\n",
       "</table>\n",
       "</div>"
      ],
      "text/plain": [
       "   Unnamed: 0   Code classes        subclass  fold  classes_binary   MCV  \\\n",
       "0           0   HN35      HN  No_Splenectomy     1             1.0  74.3   \n",
       "1           1   HN43      HN  No_Splenectomy     1             1.0  57.4   \n",
       "2           2   HN38      HN  No_Splenectomy     1             1.0  72.9   \n",
       "3           3  NBL14     NBL          Normal     1             0.0  86.8   \n",
       "4           4  NBL15     NBL          Normal     1             0.0  88.2   \n",
       "\n",
       "    MCH    Hb  \n",
       "0  23.4   7.1  \n",
       "1  17.7   4.4  \n",
       "2  22.6   8.0  \n",
       "3  28.1  13.2  \n",
       "4  27.9  13.9  "
      ]
     },
     "execution_count": 65,
     "metadata": {},
     "output_type": "execute_result"
    }
   ],
   "source": [
    "path = \"/home/kannika/code/Rheology2023/Rheology_Blood/DataBlood_Viscosity_TrainML_6Fold_split2class.csv\"\n",
    "data_feature = pd.read_csv(path)\n",
    "print(data_feature.shape)\n",
    "print(\"-\"*100)\n",
    "print(f\"All Fold : {set(data_feature.fold)}\")\n",
    "## Split Train data Set\n",
    "feature_train = data_feature[data_feature[\"fold\"]!=fold].reset_index(drop=True)\n",
    "print(f\"Train Set : Fold ==> {set(feature_train.fold)}\")\n",
    "print(\"Train = \", feature_train.shape)\n",
    "## Split Valid data Set\n",
    "feature_test = data_feature[data_feature[\"fold\"]==fold].reset_index(drop=True)\n",
    "print(f\"Valiadtion Set : Fold ==> {set(feature_test.fold)}\")\n",
    "print(\"Validation = \", feature_test.shape)\n",
    "## Print DataFrame\n",
    "feature_train.head()"
   ]
  },
  {
   "cell_type": "code",
   "execution_count": 66,
   "id": "quantitative-tournament",
   "metadata": {},
   "outputs": [
    {
     "name": "stdout",
     "output_type": "stream",
     "text": [
      "(43, 3)\n",
      "(43,)\n",
      "HN\n"
     ]
    }
   ],
   "source": [
    "X_train = feature_train[['MCV','MCH','Hb']]\n",
    "y_train = feature_train[\"classes\"]\n",
    "print(X_train.shape)\n",
    "print(y_train.shape)\n",
    "print(y_train[0])"
   ]
  },
  {
   "cell_type": "code",
   "execution_count": 67,
   "id": "iraqi-garlic",
   "metadata": {
    "scrolled": true
   },
   "outputs": [
    {
     "name": "stdout",
     "output_type": "stream",
     "text": [
      "2\n",
      "{'HN', 'NBL'}\n"
     ]
    }
   ],
   "source": [
    "y_train = feature_train[\"classes\"]\n",
    "print(len(list(set(y_train))))\n",
    "print(set(y_train))"
   ]
  },
  {
   "cell_type": "markdown",
   "id": "careful-fiction",
   "metadata": {},
   "source": [
    "## 🩸 Parameter:  Random Forest"
   ]
  },
  {
   "cell_type": "code",
   "execution_count": 68,
   "id": "intended-brooks",
   "metadata": {},
   "outputs": [],
   "source": [
    "from sklearn.model_selection import cross_val_score\n",
    "from sklearn.metrics import classification_report,confusion_matrix\n",
    "import warnings\n",
    "warnings.filterwarnings('ignore')"
   ]
  },
  {
   "cell_type": "code",
   "execution_count": 69,
   "id": "following-accent",
   "metadata": {},
   "outputs": [
    {
     "name": "stdout",
     "output_type": "stream",
     "text": [
      "Fitting 10 folds for each of 25 candidates, totalling 250 fits\n"
     ]
    }
   ],
   "source": [
    "n_estimators = [400]\n",
    "max_depth = [5, 8, 15, 25, 30]\n",
    "min_samples_split = [2, 5, 10, 15, 100] \n",
    "\n",
    "forest = RandomForestClassifier(random_state = 1)\n",
    "\n",
    "hyperF ={'n_estimators' : n_estimators, 'max_depth' : max_depth, 'min_samples_split' : min_samples_split}\n",
    "# hyperF ={'max_depth' : max_depth, 'min_samples_split' : min_samples_split}\n",
    "\n",
    "gridF = GridSearchCV(forest, hyperF, cv = 10, verbose = 1, n_jobs = -1)\n",
    "bestF = gridF.fit(X_train, y_train)"
   ]
  },
  {
   "cell_type": "code",
   "execution_count": 70,
   "id": "lovely-generation",
   "metadata": {},
   "outputs": [
    {
     "data": {
      "text/html": [
       "<div>\n",
       "<style scoped>\n",
       "    .dataframe tbody tr th:only-of-type {\n",
       "        vertical-align: middle;\n",
       "    }\n",
       "\n",
       "    .dataframe tbody tr th {\n",
       "        vertical-align: top;\n",
       "    }\n",
       "\n",
       "    .dataframe thead th {\n",
       "        text-align: right;\n",
       "    }\n",
       "</style>\n",
       "<table border=\"1\" class=\"dataframe\">\n",
       "  <thead>\n",
       "    <tr style=\"text-align: right;\">\n",
       "      <th></th>\n",
       "      <th>mean_test_score</th>\n",
       "      <th>std_test_score</th>\n",
       "      <th>params</th>\n",
       "    </tr>\n",
       "  </thead>\n",
       "  <tbody>\n",
       "    <tr>\n",
       "      <th>0</th>\n",
       "      <td>0.95</td>\n",
       "      <td>0.1</td>\n",
       "      <td>{'max_depth': 5, 'min_samples_split': 2, 'n_es...</td>\n",
       "    </tr>\n",
       "    <tr>\n",
       "      <th>1</th>\n",
       "      <td>0.95</td>\n",
       "      <td>0.1</td>\n",
       "      <td>{'max_depth': 5, 'min_samples_split': 5, 'n_es...</td>\n",
       "    </tr>\n",
       "    <tr>\n",
       "      <th>2</th>\n",
       "      <td>0.95</td>\n",
       "      <td>0.1</td>\n",
       "      <td>{'max_depth': 30, 'min_samples_split': 15, 'n_...</td>\n",
       "    </tr>\n",
       "    <tr>\n",
       "      <th>3</th>\n",
       "      <td>0.95</td>\n",
       "      <td>0.1</td>\n",
       "      <td>{'max_depth': 30, 'min_samples_split': 10, 'n_...</td>\n",
       "    </tr>\n",
       "    <tr>\n",
       "      <th>4</th>\n",
       "      <td>0.95</td>\n",
       "      <td>0.1</td>\n",
       "      <td>{'max_depth': 30, 'min_samples_split': 5, 'n_e...</td>\n",
       "    </tr>\n",
       "  </tbody>\n",
       "</table>\n",
       "</div>"
      ],
      "text/plain": [
       "   mean_test_score  std_test_score  \\\n",
       "0             0.95             0.1   \n",
       "1             0.95             0.1   \n",
       "2             0.95             0.1   \n",
       "3             0.95             0.1   \n",
       "4             0.95             0.1   \n",
       "\n",
       "                                              params  \n",
       "0  {'max_depth': 5, 'min_samples_split': 2, 'n_es...  \n",
       "1  {'max_depth': 5, 'min_samples_split': 5, 'n_es...  \n",
       "2  {'max_depth': 30, 'min_samples_split': 15, 'n_...  \n",
       "3  {'max_depth': 30, 'min_samples_split': 10, 'n_...  \n",
       "4  {'max_depth': 30, 'min_samples_split': 5, 'n_e...  "
      ]
     },
     "execution_count": 70,
     "metadata": {},
     "output_type": "execute_result"
    }
   ],
   "source": [
    "# view the results as a pandas DataFrame\n",
    "bestF_df = pd.DataFrame(bestF.cv_results_)[['mean_test_score', 'std_test_score', 'params']]\n",
    "bestF_df = bestF_df.sort_values(by='mean_test_score', ascending=False)\n",
    "bestF_df = bestF_df.reset_index(drop=True)\n",
    "bestF_df.head()"
   ]
  },
  {
   "cell_type": "code",
   "execution_count": 71,
   "id": "desperate-bristol",
   "metadata": {},
   "outputs": [
    {
     "name": "stdout",
     "output_type": "stream",
     "text": [
      "**examine the first result \n",
      "\n",
      "{'max_depth': 5, 'min_samples_split': 2, 'n_estimators': 400}\n",
      "0.95\n",
      "\n",
      " **print the array of mean scores only \n",
      "\n",
      "[0.95  0.95  0.95  0.95  0.705 0.95  0.95  0.95  0.95  0.705 0.95  0.95\n",
      " 0.95  0.95  0.705 0.95  0.95  0.95  0.95  0.705 0.95  0.95  0.95  0.95\n",
      " 0.705]\n",
      "\n",
      " **examine the best model \n",
      "\n",
      "0.95\n",
      "{'max_depth': 5, 'min_samples_split': 2, 'n_estimators': 400}\n",
      "RandomForestClassifier(max_depth=5, n_estimators=400, random_state=1)\n"
     ]
    }
   ],
   "source": [
    "# examine the first result\n",
    "print(\"**examine the first result\",\"\\n\")\n",
    "\n",
    "print(bestF.cv_results_['params'][0])\n",
    "print(bestF.cv_results_['mean_test_score'][0])\n",
    "\n",
    "# print the array of mean scores only\n",
    "print(\"\\n\",\"**print the array of mean scores only\",\"\\n\")\n",
    "\n",
    "grid_mean_scores = bestF.cv_results_['mean_test_score']\n",
    "print(grid_mean_scores)\n",
    "\n",
    "# examine the best model\n",
    "print(\"\\n\",\"**examine the best model\",\"\\n\")\n",
    "\n",
    "print(bestF.best_score_)\n",
    "print(bestF.best_params_)\n",
    "print(bestF.best_estimator_)"
   ]
  },
  {
   "cell_type": "code",
   "execution_count": 72,
   "id": "constant-haiti",
   "metadata": {},
   "outputs": [
    {
     "name": "stdout",
     "output_type": "stream",
     "text": [
      "Tuned Decision Tree Parameters: {'max_depth': 5, 'min_samples_split': 2, 'n_estimators': 400}\n",
      "Best score is 0.95\n"
     ]
    }
   ],
   "source": [
    "#Print the tured parameters and score\n",
    "print(\"Tuned Decision Tree Parameters: {}\".format(bestF.best_params_))\n",
    "print(\"Best score is {}\".format(bestF.best_score_))"
   ]
  },
  {
   "cell_type": "code",
   "execution_count": 73,
   "id": "sufficient-pillow",
   "metadata": {},
   "outputs": [],
   "source": [
    "depth = bestF.best_params_['max_depth']\n",
    "samples_split = bestF.best_params_['min_samples_split']\n",
    "estimators = bestF.best_params_['n_estimators']"
   ]
  },
  {
   "cell_type": "markdown",
   "id": "overall-september",
   "metadata": {},
   "source": [
    "> ## 🚀 Fit Model and setting parameters"
   ]
  },
  {
   "cell_type": "code",
   "execution_count": 74,
   "id": "chronic-fellowship",
   "metadata": {},
   "outputs": [],
   "source": [
    "forestOpt = RandomForestClassifier(random_state=1, max_depth=depth, n_estimators=estimators, min_samples_split=samples_split)\n",
    "modelOpt = forestOpt.fit(X_train, y_train)#"
   ]
  },
  {
   "cell_type": "code",
   "execution_count": 75,
   "id": "chinese-citizen",
   "metadata": {},
   "outputs": [
    {
     "name": "stdout",
     "output_type": "stream",
     "text": [
      "{'bootstrap': True, 'ccp_alpha': 0.0, 'class_weight': None, 'criterion': 'gini', 'max_depth': 5, 'max_features': 'auto', 'max_leaf_nodes': None, 'max_samples': None, 'min_impurity_decrease': 0.0, 'min_impurity_split': None, 'min_samples_leaf': 1, 'min_samples_split': 2, 'min_weight_fraction_leaf': 0.0, 'n_estimators': 400, 'n_jobs': None, 'oob_score': False, 'random_state': 1, 'verbose': 0, 'warm_start': False}\n"
     ]
    }
   ],
   "source": [
    "### Testing Check Parameter\n",
    "params = modelOpt.get_params()\n",
    "print(params)"
   ]
  },
  {
   "cell_type": "markdown",
   "id": "black-brunswick",
   "metadata": {},
   "source": [
    "> ## #️⃣ Save model"
   ]
  },
  {
   "cell_type": "code",
   "execution_count": 76,
   "id": "italian-melbourne",
   "metadata": {},
   "outputs": [],
   "source": [
    "numclass = 2"
   ]
  },
  {
   "cell_type": "code",
   "execution_count": 77,
   "id": "palestinian-visibility",
   "metadata": {},
   "outputs": [
    {
     "name": "stdout",
     "output_type": "stream",
     "text": [
      "[INFO]: Save Nodel as : [/media/tohn/HDD/rheology2023/ML_Model/Blood_Viscosity/_2Classes/fold6/RFModel_Blood2Class_fold6.pkl]\n"
     ]
    }
   ],
   "source": [
    "#Save Model\n",
    "\n",
    "import pickle\n",
    "import imageio\n",
    "\n",
    "save_pathimg = f'/media/tohn/HDD/rheology2023/ML_Model/Blood_Viscosity/_{numclass}Classes/fold{fold}'\n",
    "##**Mkdir Directory \n",
    "os.makedirs(save_pathimg, exist_ok=True)     \n",
    "filename = f\"RFModel_Blood{numclass}Class_fold{fold}.pkl\"\n",
    "Model2Save =  f\"{save_pathimg}/{filename}\"\n",
    "print(f\"[INFO]: Save Nodel as : [{Model2Save}]\")\n",
    "\n",
    "with open(Model2Save, 'wb') as file:\n",
    "    pickle.dump(modelOpt, file)"
   ]
  },
  {
   "cell_type": "code",
   "execution_count": null,
   "id": "chinese-student",
   "metadata": {},
   "outputs": [],
   "source": []
  },
  {
   "cell_type": "code",
   "execution_count": null,
   "id": "russian-wallet",
   "metadata": {},
   "outputs": [],
   "source": []
  },
  {
   "cell_type": "code",
   "execution_count": null,
   "id": "aquatic-filter",
   "metadata": {},
   "outputs": [],
   "source": []
  }
 ],
 "metadata": {
  "kernelspec": {
   "display_name": "AI",
   "language": "python",
   "name": "ai"
  },
  "language_info": {
   "codemirror_mode": {
    "name": "ipython",
    "version": 3
   },
   "file_extension": ".py",
   "mimetype": "text/x-python",
   "name": "python",
   "nbconvert_exporter": "python",
   "pygments_lexer": "ipython3",
   "version": "3.6.9"
  }
 },
 "nbformat": 4,
 "nbformat_minor": 5
}
