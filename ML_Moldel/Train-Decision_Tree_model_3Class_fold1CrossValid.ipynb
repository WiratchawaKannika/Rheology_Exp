{
 "cells": [
  {
   "cell_type": "code",
   "execution_count": 1,
   "id": "moved-county",
   "metadata": {},
   "outputs": [],
   "source": [
    "import os\n",
    "import pandas as pd \n",
    "import numpy as np \n",
    "import scipy as scp\n",
    "import sklearn\n",
    "\n",
    "from sklearn.model_selection import train_test_split\n",
    "from sklearn.linear_model import LogisticRegression\n",
    "from sklearn.metrics import classification_report\n",
    "from sklearn import metrics \n",
    "from sklearn.metrics import confusion_matrix\n",
    "\n",
    "import statsmodels.api as sm\n",
    "import matplotlib.pyplot as plt\n",
    "\n",
    "#from sklearn.grid_search import GridSearchCV\n",
    "from sklearn.model_selection import GridSearchCV\n",
    "from sklearn.tree import DecisionTreeClassifier"
   ]
  },
  {
   "cell_type": "code",
   "execution_count": 2,
   "id": "vocational-compiler",
   "metadata": {},
   "outputs": [],
   "source": [
    "import os\n",
    "os.environ[\"CUDA_DEVICE_ORDER\"]=\"PCI_BUS_ID\"  \n",
    "os.environ[\"CUDA_VISIBLE_DEVICES\"]= \"\""
   ]
  },
  {
   "cell_type": "markdown",
   "id": "average-microphone",
   "metadata": {},
   "source": [
    "# 📂DATA : 3 Classes"
   ]
  },
  {
   "cell_type": "code",
   "execution_count": 3,
   "id": "knowing-schema",
   "metadata": {},
   "outputs": [],
   "source": [
    "fold = 1"
   ]
  },
  {
   "cell_type": "code",
   "execution_count": 4,
   "id": "animal-bishop",
   "metadata": {},
   "outputs": [
    {
     "name": "stdout",
     "output_type": "stream",
     "text": [
      "(51, 9)\n",
      "----------------------------------------------------------------------------------------------------\n",
      "All Fold : {1, 2, 3}\n",
      "Train Set : Fold ==> {2, 3}\n",
      "Train =  (35, 9)\n",
      "Valiadtion Set : Fold ==> {1}\n",
      "Validation =  (16, 9)\n"
     ]
    },
    {
     "data": {
      "text/html": [
       "<div>\n",
       "<style scoped>\n",
       "    .dataframe tbody tr th:only-of-type {\n",
       "        vertical-align: middle;\n",
       "    }\n",
       "\n",
       "    .dataframe tbody tr th {\n",
       "        vertical-align: top;\n",
       "    }\n",
       "\n",
       "    .dataframe thead th {\n",
       "        text-align: right;\n",
       "    }\n",
       "</style>\n",
       "<table border=\"1\" class=\"dataframe\">\n",
       "  <thead>\n",
       "    <tr style=\"text-align: right;\">\n",
       "      <th></th>\n",
       "      <th>Unnamed: 0</th>\n",
       "      <th>Code</th>\n",
       "      <th>classes</th>\n",
       "      <th>subclass</th>\n",
       "      <th>fold</th>\n",
       "      <th>classes_binary</th>\n",
       "      <th>MCV</th>\n",
       "      <th>MCH</th>\n",
       "      <th>Hb</th>\n",
       "    </tr>\n",
       "  </thead>\n",
       "  <tbody>\n",
       "    <tr>\n",
       "      <th>0</th>\n",
       "      <td>16</td>\n",
       "      <td>HN22</td>\n",
       "      <td>HN</td>\n",
       "      <td>No_Splenectomy</td>\n",
       "      <td>2</td>\n",
       "      <td>1.0</td>\n",
       "      <td>65.6</td>\n",
       "      <td>20.2</td>\n",
       "      <td>7.5</td>\n",
       "    </tr>\n",
       "    <tr>\n",
       "      <th>1</th>\n",
       "      <td>17</td>\n",
       "      <td>HN21</td>\n",
       "      <td>HN</td>\n",
       "      <td>No_Splenectomy</td>\n",
       "      <td>2</td>\n",
       "      <td>1.0</td>\n",
       "      <td>64.8</td>\n",
       "      <td>19.7</td>\n",
       "      <td>6.5</td>\n",
       "    </tr>\n",
       "    <tr>\n",
       "      <th>2</th>\n",
       "      <td>18</td>\n",
       "      <td>HN20</td>\n",
       "      <td>HN</td>\n",
       "      <td>No_Splenectomy</td>\n",
       "      <td>2</td>\n",
       "      <td>1.0</td>\n",
       "      <td>69.5</td>\n",
       "      <td>20.5</td>\n",
       "      <td>6.1</td>\n",
       "    </tr>\n",
       "    <tr>\n",
       "      <th>3</th>\n",
       "      <td>19</td>\n",
       "      <td>NBL16</td>\n",
       "      <td>NBL</td>\n",
       "      <td>Normal</td>\n",
       "      <td>2</td>\n",
       "      <td>0.0</td>\n",
       "      <td>79.6</td>\n",
       "      <td>24.9</td>\n",
       "      <td>13.2</td>\n",
       "    </tr>\n",
       "    <tr>\n",
       "      <th>4</th>\n",
       "      <td>20</td>\n",
       "      <td>NBL21</td>\n",
       "      <td>NBL</td>\n",
       "      <td>Normal</td>\n",
       "      <td>2</td>\n",
       "      <td>0.0</td>\n",
       "      <td>74.9</td>\n",
       "      <td>23.9</td>\n",
       "      <td>14.5</td>\n",
       "    </tr>\n",
       "  </tbody>\n",
       "</table>\n",
       "</div>"
      ],
      "text/plain": [
       "   Unnamed: 0   Code classes        subclass  fold  classes_binary   MCV  \\\n",
       "0          16   HN22      HN  No_Splenectomy     2             1.0  65.6   \n",
       "1          17   HN21      HN  No_Splenectomy     2             1.0  64.8   \n",
       "2          18   HN20      HN  No_Splenectomy     2             1.0  69.5   \n",
       "3          19  NBL16     NBL          Normal     2             0.0  79.6   \n",
       "4          20  NBL21     NBL          Normal     2             0.0  74.9   \n",
       "\n",
       "    MCH    Hb  \n",
       "0  20.2   7.5  \n",
       "1  19.7   6.5  \n",
       "2  20.5   6.1  \n",
       "3  24.9  13.2  \n",
       "4  23.9  14.5  "
      ]
     },
     "execution_count": 4,
     "metadata": {},
     "output_type": "execute_result"
    }
   ],
   "source": [
    "path = \"/home/kannika/code/Rheology2023/Rheology_Blood/DataBlood_Viscosity_TrainML_3Fold_split3class.csv\"\n",
    "data_feature = pd.read_csv(path)\n",
    "print(data_feature.shape)\n",
    "print(\"-\"*100)\n",
    "print(f\"All Fold : {set(data_feature.fold)}\")\n",
    "## Split Train data Set\n",
    "feature_train = data_feature[data_feature[\"fold\"]!=fold].reset_index(drop=True)\n",
    "print(f\"Train Set : Fold ==> {set(feature_train.fold)}\")\n",
    "print(\"Train = \", feature_train.shape)\n",
    "## Split Valid data Set\n",
    "feature_test = data_feature[data_feature[\"fold\"]==fold].reset_index(drop=True)\n",
    "print(f\"Valiadtion Set : Fold ==> {set(feature_test.fold)}\")\n",
    "print(\"Validation = \", feature_test.shape)\n",
    "## Print DataFrame\n",
    "feature_train.head()"
   ]
  },
  {
   "cell_type": "code",
   "execution_count": 7,
   "id": "quantitative-tournament",
   "metadata": {},
   "outputs": [
    {
     "name": "stdout",
     "output_type": "stream",
     "text": [
      "(35, 3)\n",
      "(35,)\n",
      "No_Splenectomy\n"
     ]
    }
   ],
   "source": [
    "X_train = feature_train[['MCV','MCH','Hb']]\n",
    "y_train = feature_train[\"subclass\"]\n",
    "print(X_train.shape)\n",
    "print(y_train.shape)\n",
    "print(y_train[0])"
   ]
  },
  {
   "cell_type": "code",
   "execution_count": 8,
   "id": "iraqi-garlic",
   "metadata": {
    "scrolled": true
   },
   "outputs": [
    {
     "name": "stdout",
     "output_type": "stream",
     "text": [
      "3\n",
      "{'Normal', 'No_Splenectomy', 'Splenectomy'}\n"
     ]
    }
   ],
   "source": [
    "print(len(list(set(y_train))))\n",
    "print(set(y_train))"
   ]
  },
  {
   "cell_type": "markdown",
   "id": "careful-fiction",
   "metadata": {},
   "source": [
    "## 🩸 Parameter: Decision Tree"
   ]
  },
  {
   "cell_type": "code",
   "execution_count": 9,
   "id": "intended-brooks",
   "metadata": {},
   "outputs": [],
   "source": [
    "from sklearn.model_selection import cross_val_score\n",
    "from sklearn.metrics import classification_report,confusion_matrix\n",
    "import warnings\n",
    "warnings.filterwarnings('ignore')"
   ]
  },
  {
   "cell_type": "code",
   "execution_count": 10,
   "id": "following-accent",
   "metadata": {},
   "outputs": [
    {
     "name": "stdout",
     "output_type": "stream",
     "text": [
      "Fitting 10 folds for each of 1400 candidates, totalling 14000 fits\n"
     ]
    }
   ],
   "source": [
    "Dtree = DecisionTreeClassifier(random_state=1)\n",
    "\n",
    "params = {\"splitter\":[\"best\",\"random\"],\n",
    "          'max_depth': np.linspace(1, 7, 7, endpoint=True),\n",
    "          'min_samples_leaf':  np.linspace(0.1, 0.5, 5, endpoint=True),\n",
    "          'min_samples_split': np.linspace(0.1, 1.0, 10, endpoint=True),\n",
    "          'criterion': [\"gini\", \"entropy\"]}\n",
    "\n",
    "tuning_Dtree = GridSearchCV(estimator=Dtree, param_grid=params, cv=10, n_jobs=-1, verbose=1, scoring = \"accuracy\")\n",
    "\n",
    "# fitting the model for grid search \n",
    "best_Dtree = tuning_Dtree.fit(X_train, y_train)"
   ]
  },
  {
   "cell_type": "code",
   "execution_count": 11,
   "id": "solid-change",
   "metadata": {
    "scrolled": true
   },
   "outputs": [
    {
     "data": {
      "text/html": [
       "<div>\n",
       "<style scoped>\n",
       "    .dataframe tbody tr th:only-of-type {\n",
       "        vertical-align: middle;\n",
       "    }\n",
       "\n",
       "    .dataframe tbody tr th {\n",
       "        vertical-align: top;\n",
       "    }\n",
       "\n",
       "    .dataframe thead th {\n",
       "        text-align: right;\n",
       "    }\n",
       "</style>\n",
       "<table border=\"1\" class=\"dataframe\">\n",
       "  <thead>\n",
       "    <tr style=\"text-align: right;\">\n",
       "      <th></th>\n",
       "      <th>rank_test_score</th>\n",
       "      <th>mean_test_score</th>\n",
       "      <th>std_test_score</th>\n",
       "      <th>params</th>\n",
       "    </tr>\n",
       "  </thead>\n",
       "  <tbody>\n",
       "    <tr>\n",
       "      <th>0</th>\n",
       "      <td>1</td>\n",
       "      <td>0.8</td>\n",
       "      <td>0.230338</td>\n",
       "      <td>{'criterion': 'gini', 'max_depth': 6.0, 'min_s...</td>\n",
       "    </tr>\n",
       "    <tr>\n",
       "      <th>1</th>\n",
       "      <td>1</td>\n",
       "      <td>0.8</td>\n",
       "      <td>0.230338</td>\n",
       "      <td>{'criterion': 'entropy', 'max_depth': 5.0, 'mi...</td>\n",
       "    </tr>\n",
       "    <tr>\n",
       "      <th>2</th>\n",
       "      <td>1</td>\n",
       "      <td>0.8</td>\n",
       "      <td>0.230338</td>\n",
       "      <td>{'criterion': 'gini', 'max_depth': 5.0, 'min_s...</td>\n",
       "    </tr>\n",
       "    <tr>\n",
       "      <th>3</th>\n",
       "      <td>1</td>\n",
       "      <td>0.8</td>\n",
       "      <td>0.230338</td>\n",
       "      <td>{'criterion': 'gini', 'max_depth': 7.0, 'min_s...</td>\n",
       "    </tr>\n",
       "    <tr>\n",
       "      <th>4</th>\n",
       "      <td>1</td>\n",
       "      <td>0.8</td>\n",
       "      <td>0.230338</td>\n",
       "      <td>{'criterion': 'gini', 'max_depth': 5.0, 'min_s...</td>\n",
       "    </tr>\n",
       "  </tbody>\n",
       "</table>\n",
       "</div>"
      ],
      "text/plain": [
       "   rank_test_score  mean_test_score  std_test_score  \\\n",
       "0                1              0.8        0.230338   \n",
       "1                1              0.8        0.230338   \n",
       "2                1              0.8        0.230338   \n",
       "3                1              0.8        0.230338   \n",
       "4                1              0.8        0.230338   \n",
       "\n",
       "                                              params  \n",
       "0  {'criterion': 'gini', 'max_depth': 6.0, 'min_s...  \n",
       "1  {'criterion': 'entropy', 'max_depth': 5.0, 'mi...  \n",
       "2  {'criterion': 'gini', 'max_depth': 5.0, 'min_s...  \n",
       "3  {'criterion': 'gini', 'max_depth': 7.0, 'min_s...  \n",
       "4  {'criterion': 'gini', 'max_depth': 5.0, 'min_s...  "
      ]
     },
     "execution_count": 11,
     "metadata": {},
     "output_type": "execute_result"
    }
   ],
   "source": [
    "# view the results as a pandas DataFrame\n",
    "best_Dtreedf = pd.DataFrame(best_Dtree.cv_results_)[['rank_test_score', 'mean_test_score', 'std_test_score', 'params']]\n",
    "best_Dtreedf = best_Dtreedf.sort_values(by='rank_test_score', ascending=True)\n",
    "best_Dtreedf = best_Dtreedf.reset_index(drop=True)\n",
    "best_Dtreedf.head()"
   ]
  },
  {
   "cell_type": "code",
   "execution_count": 12,
   "id": "academic-crest",
   "metadata": {},
   "outputs": [
    {
     "name": "stdout",
     "output_type": "stream",
     "text": [
      "**examine the first result \n",
      "\n",
      "{'criterion': 'gini', 'max_depth': 1.0, 'min_samples_leaf': 0.1, 'min_samples_split': 0.1, 'splitter': 'best'}\n",
      "0.6333333333333334\n",
      "\n",
      " **print the array of mean scores only \n",
      "\n",
      "[0.63333333 0.63333333 0.63333333 ... 0.29166667 0.425      0.29166667]\n",
      "\n",
      " **examine the best model \n",
      "\n",
      "0.8\n",
      "{'criterion': 'gini', 'max_depth': 2.0, 'min_samples_leaf': 0.1, 'min_samples_split': 0.1, 'splitter': 'best'}\n",
      "DecisionTreeClassifier(max_depth=2.0, min_samples_leaf=0.1,\n",
      "                       min_samples_split=0.1, random_state=1)\n"
     ]
    }
   ],
   "source": [
    "# examine the first result\n",
    "print(\"**examine the first result\",\"\\n\")\n",
    "\n",
    "print(best_Dtree.cv_results_['params'][0])\n",
    "print(best_Dtree.cv_results_['mean_test_score'][0])\n",
    "\n",
    "# print the array of mean scores only\n",
    "print(\"\\n\",\"**print the array of mean scores only\",\"\\n\")\n",
    "\n",
    "grid_mean_scores = best_Dtree.cv_results_['mean_test_score']\n",
    "print(grid_mean_scores)\n",
    "\n",
    "# examine the best model\n",
    "print(\"\\n\",\"**examine the best model\",\"\\n\")\n",
    "\n",
    "print(best_Dtree.best_score_)\n",
    "print(best_Dtree.best_params_)\n",
    "print(best_Dtree.best_estimator_)"
   ]
  },
  {
   "cell_type": "code",
   "execution_count": 13,
   "id": "constant-haiti",
   "metadata": {},
   "outputs": [
    {
     "name": "stdout",
     "output_type": "stream",
     "text": [
      "Tuned Decision Tree Parameters: {'criterion': 'gini', 'max_depth': 2.0, 'min_samples_leaf': 0.1, 'min_samples_split': 0.1, 'splitter': 'best'}\n",
      "Best score is 0.8\n"
     ]
    }
   ],
   "source": [
    "#Print the tured parameters and score\n",
    "print(\"Tuned Decision Tree Parameters: {}\".format(best_Dtree.best_params_))\n",
    "print(\"Best score is {}\".format(best_Dtree.best_score_))"
   ]
  },
  {
   "cell_type": "code",
   "execution_count": 14,
   "id": "lovely-generation",
   "metadata": {},
   "outputs": [],
   "source": [
    "best_params_ =  best_Dtree.best_params_\n",
    "criterion_ = best_params_['criterion'] \n",
    "max_depth_ = best_params_['max_depth'] \n",
    "min_samples_leaf_ = best_params_['min_samples_leaf']   \n",
    "min_samples_split_ = best_params_['min_samples_split']\n",
    "splitter_ = best_params_['splitter']"
   ]
  },
  {
   "cell_type": "code",
   "execution_count": null,
   "id": "interpreted-geology",
   "metadata": {},
   "outputs": [],
   "source": []
  },
  {
   "cell_type": "markdown",
   "id": "overall-september",
   "metadata": {},
   "source": [
    "> ## 🚀 Fit Model and setting parameters"
   ]
  },
  {
   "cell_type": "code",
   "execution_count": 15,
   "id": "chronic-fellowship",
   "metadata": {},
   "outputs": [
    {
     "data": {
      "text/plain": [
       "DecisionTreeClassifier(max_depth=2.0, min_samples_leaf=0.1,\n",
       "                       min_samples_split=0.1)"
      ]
     },
     "execution_count": 15,
     "metadata": {},
     "output_type": "execute_result"
    }
   ],
   "source": [
    "## **- train Fit Model XGBOOST\n",
    "DtreeClassifier = DecisionTreeClassifier(criterion=criterion_, max_depth=max_depth_, min_samples_leaf=min_samples_leaf_,\n",
    "                                 min_samples_split=min_samples_split_, splitter=splitter_)\n",
    "DtreeClassifierModel = DtreeClassifier.fit(X_train, y_train) # train XGBOOST model\n",
    "DtreeClassifierModel"
   ]
  },
  {
   "cell_type": "code",
   "execution_count": 16,
   "id": "chinese-citizen",
   "metadata": {},
   "outputs": [
    {
     "name": "stdout",
     "output_type": "stream",
     "text": [
      "{'ccp_alpha': 0.0, 'class_weight': None, 'criterion': 'gini', 'max_depth': 2.0, 'max_features': None, 'max_leaf_nodes': None, 'min_impurity_decrease': 0.0, 'min_impurity_split': None, 'min_samples_leaf': 0.1, 'min_samples_split': 0.1, 'min_weight_fraction_leaf': 0.0, 'random_state': None, 'splitter': 'best'}\n"
     ]
    }
   ],
   "source": [
    "### Testing Check Parameter\n",
    "print(DtreeClassifierModel.get_params())"
   ]
  },
  {
   "cell_type": "code",
   "execution_count": 17,
   "id": "signal-renewal",
   "metadata": {},
   "outputs": [
    {
     "data": {
      "image/png": "[encoded data removed]",
      "text/plain": [
       "<Figure size 432x288 with 1 Axes>"
      ]
     },
     "metadata": {
      "needs_background": "light"
     },
     "output_type": "display_data"
    }
   ],
   "source": [
    "from sklearn import tree\n",
    "tree.plot_tree(DtreeClassifierModel);"
   ]
  },
  {
   "cell_type": "markdown",
   "id": "black-brunswick",
   "metadata": {},
   "source": [
    "> ## #️⃣ Save model"
   ]
  },
  {
   "cell_type": "code",
   "execution_count": 18,
   "id": "italian-melbourne",
   "metadata": {},
   "outputs": [],
   "source": [
    "numclass = 3"
   ]
  },
  {
   "cell_type": "code",
   "execution_count": 19,
   "id": "palestinian-visibility",
   "metadata": {},
   "outputs": [
    {
     "name": "stdout",
     "output_type": "stream",
     "text": [
      "[INFO]: Done!! Save Model as : /media/tohn/HDD/rheology2023/ML_Model/Blood_Viscosity/_3Classes/fold1/DtreeClassifier_Model_Blood3Class_fold1.pkl\n"
     ]
    }
   ],
   "source": [
    "#Save Model\n",
    "import os\n",
    "import pickle\n",
    "import imageio\n",
    "\n",
    "save_pathimg = f'/media/tohn/HDD/rheology2023/ML_Model/Blood_Viscosity/_{numclass}Classes/fold{fold}'\n",
    "##**Mkdir Directory \n",
    "os.makedirs(save_pathimg, exist_ok=True)     \n",
    "filename = f\"DtreeClassifier_Model_Blood{numclass}Class_fold{fold}.pkl\"\n",
    "Model2Save =  f\"{save_pathimg}/{filename}\"\n",
    "print(f\"[INFO]: Done!! Save Model as : {Model2Save}\")\n",
    "\n",
    "with open(Model2Save, 'wb') as file:\n",
    "    pickle.dump(DtreeClassifierModel, file)"
   ]
  },
  {
   "cell_type": "code",
   "execution_count": null,
   "id": "chinese-student",
   "metadata": {},
   "outputs": [],
   "source": []
  },
  {
   "cell_type": "code",
   "execution_count": null,
   "id": "russian-wallet",
   "metadata": {},
   "outputs": [],
   "source": []
  },
  {
   "cell_type": "code",
   "execution_count": null,
   "id": "aquatic-filter",
   "metadata": {},
   "outputs": [],
   "source": []
  }
 ],
 "metadata": {
  "kernelspec": {
   "display_name": "AI",
   "language": "python",
   "name": "ai"
  },
  "language_info": {
   "codemirror_mode": {
    "name": "ipython",
    "version": 3
   },
   "file_extension": ".py",
   "mimetype": "text/x-python",
   "name": "python",
   "nbconvert_exporter": "python",
   "pygments_lexer": "ipython3",
   "version": "3.6.9"
  }
 },
 "nbformat": 4,
 "nbformat_minor": 5
}
