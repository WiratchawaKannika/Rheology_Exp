{
 "cells": [
  {
   "cell_type": "code",
   "execution_count": 1,
   "id": "moved-county",
   "metadata": {},
   "outputs": [],
   "source": [
    "# Import Library\n",
    "import pandas as pd\n",
    "import glob\n",
    "from sklearn.ensemble import RandomForestClassifier\n",
    "from sklearn.model_selection import GridSearchCV\n",
    "from sklearn.ensemble import BaggingClassifier\n",
    "from sklearn.metrics import precision_recall_fscore_support\n",
    "from sklearn.model_selection import train_test_split\n",
    "from sklearn.metrics import accuracy_score\n",
    "import random\n",
    "from sklearn import svm\n",
    "from sklearn.model_selection import cross_validate"
   ]
  },
  {
   "cell_type": "markdown",
   "id": "average-microphone",
   "metadata": {},
   "source": [
    "# 📂DATA : 3 Classes"
   ]
  },
  {
   "cell_type": "code",
   "execution_count": 2,
   "id": "knowing-schema",
   "metadata": {},
   "outputs": [],
   "source": [
    "fold = 1"
   ]
  },
  {
   "cell_type": "code",
   "execution_count": 3,
   "id": "animal-bishop",
   "metadata": {},
   "outputs": [
    {
     "name": "stdout",
     "output_type": "stream",
     "text": [
      "(51, 9)\n",
      "----------------------------------------------------------------------------------------------------\n",
      "All Fold : {1, 2, 3}\n",
      "Train Set : Fold ==> {2, 3}\n",
      "Train =  (35, 9)\n",
      "Valiadtion Set : Fold ==> {1}\n",
      "Validation =  (16, 9)\n"
     ]
    },
    {
     "data": {
      "text/html": [
       "<div>\n",
       "<style scoped>\n",
       "    .dataframe tbody tr th:only-of-type {\n",
       "        vertical-align: middle;\n",
       "    }\n",
       "\n",
       "    .dataframe tbody tr th {\n",
       "        vertical-align: top;\n",
       "    }\n",
       "\n",
       "    .dataframe thead th {\n",
       "        text-align: right;\n",
       "    }\n",
       "</style>\n",
       "<table border=\"1\" class=\"dataframe\">\n",
       "  <thead>\n",
       "    <tr style=\"text-align: right;\">\n",
       "      <th></th>\n",
       "      <th>Unnamed: 0</th>\n",
       "      <th>Code</th>\n",
       "      <th>classes</th>\n",
       "      <th>subclass</th>\n",
       "      <th>fold</th>\n",
       "      <th>classes_binary</th>\n",
       "      <th>MCV</th>\n",
       "      <th>MCH</th>\n",
       "      <th>Hb</th>\n",
       "    </tr>\n",
       "  </thead>\n",
       "  <tbody>\n",
       "    <tr>\n",
       "      <th>0</th>\n",
       "      <td>16</td>\n",
       "      <td>HN22</td>\n",
       "      <td>HN</td>\n",
       "      <td>No_Splenectomy</td>\n",
       "      <td>2</td>\n",
       "      <td>1.0</td>\n",
       "      <td>65.6</td>\n",
       "      <td>20.2</td>\n",
       "      <td>7.5</td>\n",
       "    </tr>\n",
       "    <tr>\n",
       "      <th>1</th>\n",
       "      <td>17</td>\n",
       "      <td>HN21</td>\n",
       "      <td>HN</td>\n",
       "      <td>No_Splenectomy</td>\n",
       "      <td>2</td>\n",
       "      <td>1.0</td>\n",
       "      <td>64.8</td>\n",
       "      <td>19.7</td>\n",
       "      <td>6.5</td>\n",
       "    </tr>\n",
       "    <tr>\n",
       "      <th>2</th>\n",
       "      <td>18</td>\n",
       "      <td>HN20</td>\n",
       "      <td>HN</td>\n",
       "      <td>No_Splenectomy</td>\n",
       "      <td>2</td>\n",
       "      <td>1.0</td>\n",
       "      <td>69.5</td>\n",
       "      <td>20.5</td>\n",
       "      <td>6.1</td>\n",
       "    </tr>\n",
       "    <tr>\n",
       "      <th>3</th>\n",
       "      <td>19</td>\n",
       "      <td>NBL16</td>\n",
       "      <td>NBL</td>\n",
       "      <td>Normal</td>\n",
       "      <td>2</td>\n",
       "      <td>0.0</td>\n",
       "      <td>79.6</td>\n",
       "      <td>24.9</td>\n",
       "      <td>13.2</td>\n",
       "    </tr>\n",
       "    <tr>\n",
       "      <th>4</th>\n",
       "      <td>20</td>\n",
       "      <td>NBL21</td>\n",
       "      <td>NBL</td>\n",
       "      <td>Normal</td>\n",
       "      <td>2</td>\n",
       "      <td>0.0</td>\n",
       "      <td>74.9</td>\n",
       "      <td>23.9</td>\n",
       "      <td>14.5</td>\n",
       "    </tr>\n",
       "  </tbody>\n",
       "</table>\n",
       "</div>"
      ],
      "text/plain": [
       "   Unnamed: 0   Code classes        subclass  fold  classes_binary   MCV  \\\n",
       "0          16   HN22      HN  No_Splenectomy     2             1.0  65.6   \n",
       "1          17   HN21      HN  No_Splenectomy     2             1.0  64.8   \n",
       "2          18   HN20      HN  No_Splenectomy     2             1.0  69.5   \n",
       "3          19  NBL16     NBL          Normal     2             0.0  79.6   \n",
       "4          20  NBL21     NBL          Normal     2             0.0  74.9   \n",
       "\n",
       "    MCH    Hb  \n",
       "0  20.2   7.5  \n",
       "1  19.7   6.5  \n",
       "2  20.5   6.1  \n",
       "3  24.9  13.2  \n",
       "4  23.9  14.5  "
      ]
     },
     "execution_count": 3,
     "metadata": {},
     "output_type": "execute_result"
    }
   ],
   "source": [
    "path = \"/home/kannika/code/Rheology2023/Rheology_Blood/DataBlood_Viscosity_TrainML_3Fold_split3class.csv\"\n",
    "data_feature = pd.read_csv(path)\n",
    "print(data_feature.shape)\n",
    "print(\"-\"*100)\n",
    "print(f\"All Fold : {set(data_feature.fold)}\")\n",
    "## Split Train data Set\n",
    "feature_train = data_feature[data_feature[\"fold\"]!=fold].reset_index(drop=True)\n",
    "print(f\"Train Set : Fold ==> {set(feature_train.fold)}\")\n",
    "print(\"Train = \", feature_train.shape)\n",
    "## Split Valid data Set\n",
    "feature_test = data_feature[data_feature[\"fold\"]==fold].reset_index(drop=True)\n",
    "print(f\"Valiadtion Set : Fold ==> {set(feature_test.fold)}\")\n",
    "print(\"Validation = \", feature_test.shape)\n",
    "## Print DataFrame\n",
    "feature_train.head()"
   ]
  },
  {
   "cell_type": "code",
   "execution_count": 4,
   "id": "quantitative-tournament",
   "metadata": {},
   "outputs": [
    {
     "name": "stdout",
     "output_type": "stream",
     "text": [
      "(35, 3)\n",
      "(35,)\n",
      "No_Splenectomy\n"
     ]
    }
   ],
   "source": [
    "X_train = feature_train[['MCV','MCH','Hb']]\n",
    "y_train = feature_train[\"subclass\"]\n",
    "print(X_train.shape)\n",
    "print(y_train.shape)\n",
    "print(y_train[0])"
   ]
  },
  {
   "cell_type": "code",
   "execution_count": 5,
   "id": "iraqi-garlic",
   "metadata": {
    "scrolled": true
   },
   "outputs": [
    {
     "name": "stdout",
     "output_type": "stream",
     "text": [
      "3\n",
      "{'Splenectomy', 'Normal', 'No_Splenectomy'}\n"
     ]
    }
   ],
   "source": [
    "print(len(list(set(y_train))))\n",
    "print(set(y_train))"
   ]
  },
  {
   "cell_type": "markdown",
   "id": "careful-fiction",
   "metadata": {},
   "source": [
    "## 🩸 Parameter:  SVM"
   ]
  },
  {
   "cell_type": "code",
   "execution_count": 6,
   "id": "intended-brooks",
   "metadata": {},
   "outputs": [],
   "source": [
    "from sklearn.model_selection import cross_val_score\n",
    "from sklearn.metrics import classification_report,confusion_matrix\n",
    "import warnings\n",
    "warnings.filterwarnings('ignore')"
   ]
  },
  {
   "cell_type": "code",
   "execution_count": 7,
   "id": "following-accent",
   "metadata": {},
   "outputs": [
    {
     "name": "stdout",
     "output_type": "stream",
     "text": [
      "Fitting 10 folds for each of 40 candidates, totalling 400 fits\n"
     ]
    }
   ],
   "source": [
    "Cs = [0.001, 0.01, 0.1, 1, 10]\n",
    "gammas = [0.001, 0.01, 0.1, 1]\n",
    "kernels = ['linear', 'rbf']\n",
    "\n",
    "## Find optimiz paremeter \n",
    "from sklearn import svm\n",
    "svm = svm.SVC()\n",
    "param_grid = {'C': Cs, 'gamma' : gammas, 'kernel' : kernels}\n",
    "grid_search = GridSearchCV(svm, param_grid, cv=10, verbose=1, n_jobs=-1) ##cv=10 == 10-fold validation \n",
    "SVM = grid_search.fit(X_train, y_train)"
   ]
  },
  {
   "cell_type": "code",
   "execution_count": 8,
   "id": "suffering-hybrid",
   "metadata": {
    "scrolled": true
   },
   "outputs": [
    {
     "data": {
      "text/html": [
       "<div>\n",
       "<style scoped>\n",
       "    .dataframe tbody tr th:only-of-type {\n",
       "        vertical-align: middle;\n",
       "    }\n",
       "\n",
       "    .dataframe tbody tr th {\n",
       "        vertical-align: top;\n",
       "    }\n",
       "\n",
       "    .dataframe thead th {\n",
       "        text-align: right;\n",
       "    }\n",
       "</style>\n",
       "<table border=\"1\" class=\"dataframe\">\n",
       "  <thead>\n",
       "    <tr style=\"text-align: right;\">\n",
       "      <th></th>\n",
       "      <th>rank_test_score</th>\n",
       "      <th>mean_test_score</th>\n",
       "      <th>std_test_score</th>\n",
       "      <th>params</th>\n",
       "    </tr>\n",
       "  </thead>\n",
       "  <tbody>\n",
       "    <tr>\n",
       "      <th>0</th>\n",
       "      <td>1</td>\n",
       "      <td>0.791667</td>\n",
       "      <td>0.277013</td>\n",
       "      <td>{'C': 0.01, 'gamma': 0.01, 'kernel': 'linear'}</td>\n",
       "    </tr>\n",
       "    <tr>\n",
       "      <th>1</th>\n",
       "      <td>1</td>\n",
       "      <td>0.791667</td>\n",
       "      <td>0.277013</td>\n",
       "      <td>{'C': 0.1, 'gamma': 0.01, 'kernel': 'linear'}</td>\n",
       "    </tr>\n",
       "    <tr>\n",
       "      <th>2</th>\n",
       "      <td>1</td>\n",
       "      <td>0.791667</td>\n",
       "      <td>0.277013</td>\n",
       "      <td>{'C': 0.1, 'gamma': 0.001, 'kernel': 'linear'}</td>\n",
       "    </tr>\n",
       "    <tr>\n",
       "      <th>3</th>\n",
       "      <td>1</td>\n",
       "      <td>0.791667</td>\n",
       "      <td>0.277013</td>\n",
       "      <td>{'C': 0.01, 'gamma': 1, 'kernel': 'linear'}</td>\n",
       "    </tr>\n",
       "    <tr>\n",
       "      <th>4</th>\n",
       "      <td>1</td>\n",
       "      <td>0.791667</td>\n",
       "      <td>0.277013</td>\n",
       "      <td>{'C': 0.01, 'gamma': 0.1, 'kernel': 'linear'}</td>\n",
       "    </tr>\n",
       "  </tbody>\n",
       "</table>\n",
       "</div>"
      ],
      "text/plain": [
       "   rank_test_score  mean_test_score  std_test_score  \\\n",
       "0                1         0.791667        0.277013   \n",
       "1                1         0.791667        0.277013   \n",
       "2                1         0.791667        0.277013   \n",
       "3                1         0.791667        0.277013   \n",
       "4                1         0.791667        0.277013   \n",
       "\n",
       "                                           params  \n",
       "0  {'C': 0.01, 'gamma': 0.01, 'kernel': 'linear'}  \n",
       "1   {'C': 0.1, 'gamma': 0.01, 'kernel': 'linear'}  \n",
       "2  {'C': 0.1, 'gamma': 0.001, 'kernel': 'linear'}  \n",
       "3     {'C': 0.01, 'gamma': 1, 'kernel': 'linear'}  \n",
       "4   {'C': 0.01, 'gamma': 0.1, 'kernel': 'linear'}  "
      ]
     },
     "execution_count": 8,
     "metadata": {},
     "output_type": "execute_result"
    }
   ],
   "source": [
    "# view the results as a pandas DataFrame\n",
    "best_svm_df = pd.DataFrame(SVM.cv_results_)[['rank_test_score', 'mean_test_score', 'std_test_score', 'params']]\n",
    "best_svm_df = best_svm_df.sort_values(by='rank_test_score', ascending=True)\n",
    "best_svm_df = best_svm_df.reset_index(drop=True)\n",
    "best_svm_df.head()"
   ]
  },
  {
   "cell_type": "code",
   "execution_count": 9,
   "id": "seeing-subdivision",
   "metadata": {},
   "outputs": [
    {
     "name": "stdout",
     "output_type": "stream",
     "text": [
      "**examine the first result \n",
      "\n",
      "{'C': 0.001, 'gamma': 0.001, 'kernel': 'linear'}\n",
      "0.625\n",
      "\n",
      " **print the array of mean scores only \n",
      "\n",
      "[0.625      0.325      0.625      0.38333333 0.625      0.41666667\n",
      " 0.625      0.35833333 0.79166667 0.325      0.79166667 0.38333333\n",
      " 0.79166667 0.41666667 0.79166667 0.35833333 0.79166667 0.325\n",
      " 0.79166667 0.40833333 0.79166667 0.41666667 0.79166667 0.35833333\n",
      " 0.76666667 0.66666667 0.76666667 0.74166667 0.76666667 0.625\n",
      " 0.76666667 0.5        0.76666667 0.76666667 0.76666667 0.74166667\n",
      " 0.76666667 0.66666667 0.76666667 0.5       ]\n",
      "\n",
      " **examine the best model \n",
      "\n",
      "0.7916666666666666\n",
      "{'C': 0.01, 'gamma': 0.001, 'kernel': 'linear'}\n",
      "SVC(C=0.01, gamma=0.001, kernel='linear')\n"
     ]
    }
   ],
   "source": [
    "# examine the first result\n",
    "print(\"**examine the first result\",\"\\n\")\n",
    "\n",
    "print(SVM.cv_results_['params'][0])\n",
    "print(SVM.cv_results_['mean_test_score'][0])\n",
    "\n",
    "# print the array of mean scores only\n",
    "print(\"\\n\",\"**print the array of mean scores only\",\"\\n\")\n",
    "\n",
    "grid_mean_scores = SVM.cv_results_['mean_test_score']\n",
    "print(grid_mean_scores)\n",
    "\n",
    "# examine the best model\n",
    "print(\"\\n\",\"**examine the best model\",\"\\n\")\n",
    "\n",
    "print(SVM.best_score_)\n",
    "print(SVM.best_params_)\n",
    "print(SVM.best_estimator_)"
   ]
  },
  {
   "cell_type": "code",
   "execution_count": 10,
   "id": "constant-haiti",
   "metadata": {},
   "outputs": [
    {
     "name": "stdout",
     "output_type": "stream",
     "text": [
      "Tuned Decision Tree Parameters: {'C': 0.01, 'gamma': 0.001, 'kernel': 'linear'}\n",
      "Best score is 0.7916666666666666\n"
     ]
    }
   ],
   "source": [
    "#Print the tured parameters and score\n",
    "print(\"Tuned Decision Tree Parameters: {}\".format(SVM.best_params_))\n",
    "print(\"Best score is {}\".format(SVM.best_score_))"
   ]
  },
  {
   "cell_type": "code",
   "execution_count": 11,
   "id": "lovely-generation",
   "metadata": {},
   "outputs": [],
   "source": [
    "##print(bestF)\n",
    "best_params_ = SVM.best_params_\n",
    "C_ = best_params_['C']  ##<--- best_params = Cs\n",
    "gamma_ = best_params_['gamma'] ##<--- best_params = gammas\n",
    "kernel_ = best_params_['kernel'] ##<--- best_params = kernels"
   ]
  },
  {
   "cell_type": "code",
   "execution_count": null,
   "id": "narrative-lightning",
   "metadata": {},
   "outputs": [],
   "source": []
  },
  {
   "cell_type": "markdown",
   "id": "overall-september",
   "metadata": {},
   "source": [
    "> ## 🚀 Fit Model and setting parameters"
   ]
  },
  {
   "cell_type": "code",
   "execution_count": 12,
   "id": "chronic-fellowship",
   "metadata": {},
   "outputs": [
    {
     "data": {
      "text/plain": [
       "SVC(C=0.01, gamma=0.001, kernel='linear', probability=True)"
      ]
     },
     "execution_count": 12,
     "metadata": {},
     "output_type": "execute_result"
    }
   ],
   "source": [
    "from sklearn import svm\n",
    "\n",
    "SVM = svm.SVC(kernel=kernel_, C=C_, gamma=gamma_, probability=True ) #เปลี่ยนตาม parameter\n",
    "modelSVM = SVM.fit(X_train, y_train) # train SVM model\n",
    "modelSVM"
   ]
  },
  {
   "cell_type": "code",
   "execution_count": 13,
   "id": "chinese-citizen",
   "metadata": {},
   "outputs": [
    {
     "name": "stdout",
     "output_type": "stream",
     "text": [
      "{'C': 0.01, 'break_ties': False, 'cache_size': 200, 'class_weight': None, 'coef0': 0.0, 'decision_function_shape': 'ovr', 'degree': 3, 'gamma': 0.001, 'kernel': 'linear', 'max_iter': -1, 'probability': True, 'random_state': None, 'shrinking': True, 'tol': 0.001, 'verbose': False}\n"
     ]
    }
   ],
   "source": [
    "### Testing Check Parameter\n",
    "params = modelSVM.get_params()\n",
    "print(params)"
   ]
  },
  {
   "cell_type": "markdown",
   "id": "black-brunswick",
   "metadata": {},
   "source": [
    "> ## #️⃣ Save model"
   ]
  },
  {
   "cell_type": "code",
   "execution_count": 14,
   "id": "italian-melbourne",
   "metadata": {},
   "outputs": [],
   "source": [
    "numclass = 3"
   ]
  },
  {
   "cell_type": "code",
   "execution_count": 15,
   "id": "palestinian-visibility",
   "metadata": {},
   "outputs": [],
   "source": [
    "#Save Model\n",
    "import os\n",
    "import pickle\n",
    "import imageio\n",
    "\n",
    "save_pathimg = f'/media/tohn/HDD/rheology2023/ML_Model/Blood_Viscosity/_{numclass}Classes/fold{fold}'\n",
    "##**Mkdir Directory \n",
    "os.makedirs(save_pathimg, exist_ok=True)     \n",
    "filename = f\"SVM_Model_Blood{numclass}Class_fold{fold}.pkl\"\n",
    "Model2Save =  f\"{save_pathimg}/{filename}\"\n",
    "\n",
    "with open(Model2Save, 'wb') as file:\n",
    "    pickle.dump(modelSVM, file)"
   ]
  },
  {
   "cell_type": "code",
   "execution_count": null,
   "id": "chinese-student",
   "metadata": {},
   "outputs": [],
   "source": []
  },
  {
   "cell_type": "code",
   "execution_count": null,
   "id": "russian-wallet",
   "metadata": {},
   "outputs": [],
   "source": []
  },
  {
   "cell_type": "code",
   "execution_count": null,
   "id": "aquatic-filter",
   "metadata": {},
   "outputs": [],
   "source": []
  }
 ],
 "metadata": {
  "kernelspec": {
   "display_name": "AI",
   "language": "python",
   "name": "ai"
  },
  "language_info": {
   "codemirror_mode": {
    "name": "ipython",
    "version": 3
   },
   "file_extension": ".py",
   "mimetype": "text/x-python",
   "name": "python",
   "nbconvert_exporter": "python",
   "pygments_lexer": "ipython3",
   "version": "3.6.9"
  }
 },
 "nbformat": 4,
 "nbformat_minor": 5
}
