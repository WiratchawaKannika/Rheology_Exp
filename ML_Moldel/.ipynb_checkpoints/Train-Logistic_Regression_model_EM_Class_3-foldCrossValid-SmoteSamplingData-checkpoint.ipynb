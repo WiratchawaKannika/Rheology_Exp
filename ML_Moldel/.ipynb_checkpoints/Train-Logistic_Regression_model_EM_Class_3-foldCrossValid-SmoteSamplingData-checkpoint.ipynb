{
 "cells": [
  {
   "cell_type": "code",
   "execution_count": 1,
   "id": "moved-county",
   "metadata": {},
   "outputs": [],
   "source": [
    "import os\n",
    "import pandas as pd \n",
    "import numpy as np \n",
    "import scipy as scp\n",
    "import sklearn\n",
    "\n",
    "from sklearn.model_selection import train_test_split\n",
    "from sklearn.linear_model import LogisticRegression\n",
    "from sklearn.metrics import classification_report\n",
    "from sklearn import metrics \n",
    "from sklearn.metrics import confusion_matrix\n",
    "\n",
    "import statsmodels.api as sm\n",
    "import matplotlib.pyplot as plt\n",
    "\n",
    "#from sklearn.grid_search import GridSearchCV\n",
    "from sklearn.model_selection import GridSearchCV\n",
    "\n",
    "from imblearn.over_sampling import SMOTE"
   ]
  },
  {
   "cell_type": "markdown",
   "id": "average-microphone",
   "metadata": {},
   "source": [
    "# 📂DATA : 2 Classes"
   ]
  },
  {
   "cell_type": "code",
   "execution_count": 2,
   "id": "knowing-schema",
   "metadata": {},
   "outputs": [],
   "source": [
    "fold = 3"
   ]
  },
  {
   "cell_type": "code",
   "execution_count": 3,
   "id": "animal-bishop",
   "metadata": {},
   "outputs": [
    {
     "name": "stdout",
     "output_type": "stream",
     "text": [
      "(33, 11)\n",
      "----------------------------------------------------------------------------------------------------\n",
      "All Fold : {1, 2, 3}\n",
      "Train Set : Fold ==> {1, 2}\n",
      "Train =  (22, 11)\n",
      "Valiadtion Set : Fold ==> {3}\n",
      "Validation =  (11, 11)\n"
     ]
    },
    {
     "data": {
      "text/html": [
       "<div>\n",
       "<style scoped>\n",
       "    .dataframe tbody tr th:only-of-type {\n",
       "        vertical-align: middle;\n",
       "    }\n",
       "\n",
       "    .dataframe tbody tr th {\n",
       "        vertical-align: top;\n",
       "    }\n",
       "\n",
       "    .dataframe thead th {\n",
       "        text-align: right;\n",
       "    }\n",
       "</style>\n",
       "<table border=\"1\" class=\"dataframe\">\n",
       "  <thead>\n",
       "    <tr style=\"text-align: right;\">\n",
       "      <th></th>\n",
       "      <th>Unnamed: 0</th>\n",
       "      <th>Unnamed: 0.1</th>\n",
       "      <th>Code</th>\n",
       "      <th>classes</th>\n",
       "      <th>subclass</th>\n",
       "      <th>classes_binary</th>\n",
       "      <th>MCV</th>\n",
       "      <th>MCH</th>\n",
       "      <th>Hb</th>\n",
       "      <th>typeBEvsBM</th>\n",
       "      <th>fold</th>\n",
       "    </tr>\n",
       "  </thead>\n",
       "  <tbody>\n",
       "    <tr>\n",
       "      <th>0</th>\n",
       "      <td>0</td>\n",
       "      <td>42</td>\n",
       "      <td>HN44</td>\n",
       "      <td>HN</td>\n",
       "      <td>Splenectomy</td>\n",
       "      <td>1.0</td>\n",
       "      <td>61.7</td>\n",
       "      <td>19.7</td>\n",
       "      <td>7.0</td>\n",
       "      <td>E</td>\n",
       "      <td>1</td>\n",
       "    </tr>\n",
       "    <tr>\n",
       "      <th>1</th>\n",
       "      <td>1</td>\n",
       "      <td>17</td>\n",
       "      <td>HN21</td>\n",
       "      <td>HN</td>\n",
       "      <td>No_Splenectomy</td>\n",
       "      <td>1.0</td>\n",
       "      <td>64.8</td>\n",
       "      <td>19.7</td>\n",
       "      <td>6.5</td>\n",
       "      <td>E</td>\n",
       "      <td>1</td>\n",
       "    </tr>\n",
       "    <tr>\n",
       "      <th>2</th>\n",
       "      <td>2</td>\n",
       "      <td>8</td>\n",
       "      <td>HN13</td>\n",
       "      <td>HN</td>\n",
       "      <td>Splenectomy</td>\n",
       "      <td>1.0</td>\n",
       "      <td>72.6</td>\n",
       "      <td>23.4</td>\n",
       "      <td>5.8</td>\n",
       "      <td>E</td>\n",
       "      <td>1</td>\n",
       "    </tr>\n",
       "    <tr>\n",
       "      <th>3</th>\n",
       "      <td>3</td>\n",
       "      <td>43</td>\n",
       "      <td>HN29</td>\n",
       "      <td>HN</td>\n",
       "      <td>No_Splenectomy</td>\n",
       "      <td>1.0</td>\n",
       "      <td>64.2</td>\n",
       "      <td>19.1</td>\n",
       "      <td>6.6</td>\n",
       "      <td>E</td>\n",
       "      <td>1</td>\n",
       "    </tr>\n",
       "    <tr>\n",
       "      <th>4</th>\n",
       "      <td>4</td>\n",
       "      <td>50</td>\n",
       "      <td>HN39</td>\n",
       "      <td>HN</td>\n",
       "      <td>Splenectomy</td>\n",
       "      <td>1.0</td>\n",
       "      <td>76.4</td>\n",
       "      <td>22.5</td>\n",
       "      <td>6.4</td>\n",
       "      <td>E</td>\n",
       "      <td>1</td>\n",
       "    </tr>\n",
       "  </tbody>\n",
       "</table>\n",
       "</div>"
      ],
      "text/plain": [
       "   Unnamed: 0  Unnamed: 0.1  Code classes        subclass  classes_binary  \\\n",
       "0           0            42  HN44      HN     Splenectomy             1.0   \n",
       "1           1            17  HN21      HN  No_Splenectomy             1.0   \n",
       "2           2             8  HN13      HN     Splenectomy             1.0   \n",
       "3           3            43  HN29      HN  No_Splenectomy             1.0   \n",
       "4           4            50  HN39      HN     Splenectomy             1.0   \n",
       "\n",
       "    MCV   MCH   Hb typeBEvsBM  fold  \n",
       "0  61.7  19.7  7.0          E     1  \n",
       "1  64.8  19.7  6.5          E     1  \n",
       "2  72.6  23.4  5.8          E     1  \n",
       "3  64.2  19.1  6.6          E     1  \n",
       "4  76.4  22.5  6.4          E     1  "
      ]
     },
     "execution_count": 3,
     "metadata": {},
     "output_type": "execute_result"
    }
   ],
   "source": [
    "path = \"/home/kannika/code/Rheology2023/Rheology_Blood/DataBlood_Viscosity_TrainML_3Fold_EMclass.csv\"\n",
    "data_feature = pd.read_csv(path)\n",
    "print(data_feature.shape)\n",
    "print(\"-\"*100)\n",
    "print(f\"All Fold : {set(data_feature.fold)}\")\n",
    "## Split Train data Set\n",
    "feature_train = data_feature[data_feature[\"fold\"]!=fold].reset_index(drop=True)\n",
    "print(f\"Train Set : Fold ==> {set(feature_train.fold)}\")\n",
    "print(\"Train = \", feature_train.shape)\n",
    "## Split Valid data Set\n",
    "feature_test = data_feature[data_feature[\"fold\"]==fold].reset_index(drop=True)\n",
    "print(f\"Valiadtion Set : Fold ==> {set(feature_test.fold)}\")\n",
    "print(\"Validation = \", feature_test.shape)\n",
    "## Print DataFrame\n",
    "feature_train.head()"
   ]
  },
  {
   "cell_type": "code",
   "execution_count": 4,
   "id": "quantitative-tournament",
   "metadata": {},
   "outputs": [
    {
     "name": "stdout",
     "output_type": "stream",
     "text": [
      "(22, 3)\n",
      "(22,)\n",
      "E\n"
     ]
    }
   ],
   "source": [
    "X_train = feature_train[['MCV','MCH','Hb']]\n",
    "y_train = feature_train[\"typeBEvsBM\"]\n",
    "print(X_train.shape)\n",
    "print(y_train.shape)\n",
    "print(y_train[0])"
   ]
  },
  {
   "cell_type": "code",
   "execution_count": 5,
   "id": "iraqi-garlic",
   "metadata": {
    "scrolled": true
   },
   "outputs": [
    {
     "name": "stdout",
     "output_type": "stream",
     "text": [
      "2\n",
      "{'M', 'E'}\n"
     ]
    }
   ],
   "source": [
    "print(len(list(set(y_train))))\n",
    "print(set(y_train))"
   ]
  },
  {
   "cell_type": "code",
   "execution_count": 6,
   "id": "traditional-ending",
   "metadata": {},
   "outputs": [
    {
     "name": "stdout",
     "output_type": "stream",
     "text": [
      "Before OverSampling, counts of label 'BE': 16\n",
      "Before OverSampling, counts of label 'BM': 6 \n",
      "\n"
     ]
    }
   ],
   "source": [
    "print(\"Before OverSampling, counts of label 'BE': {}\".format(sum(y_train=='E')))\n",
    "print(\"Before OverSampling, counts of label 'BM': {} \\n\".format(sum(y_train=='M')))"
   ]
  },
  {
   "cell_type": "markdown",
   "id": "shared-court",
   "metadata": {},
   "source": [
    "# 💡Dealing with Class Imbalance with SMOTE"
   ]
  },
  {
   "cell_type": "code",
   "execution_count": 7,
   "id": "loved-asset",
   "metadata": {},
   "outputs": [
    {
     "name": "stdout",
     "output_type": "stream",
     "text": [
      "After OverSampling, the shape of train_X: (32, 3)\n",
      "After OverSampling, the shape of train_y: (32,) \n",
      "\n",
      "After OverSampling, counts of label 'BE': 16\n",
      "After OverSampling, counts of label 'BM': 16\n"
     ]
    }
   ],
   "source": [
    "X_train_smote, y_train_smote = SMOTE().fit_resample(X_train, y_train.ravel())\n",
    "# sm = SMOTE(random_state=100)\n",
    "# X_train_smote, y_train_smote = sm.fit_sample(X_train, y_train.ravel())\n",
    "\n",
    "print('After OverSampling, the shape of train_X: {}'.format(X_train_smote.shape))\n",
    "print('After OverSampling, the shape of train_y: {} \\n'.format(y_train_smote.shape))\n",
    "\n",
    "print(\"After OverSampling, counts of label 'BE': {}\".format(sum(y_train_smote=='E')))\n",
    "print(\"After OverSampling, counts of label 'BM': {}\".format(sum(y_train_smote=='M')))"
   ]
  },
  {
   "cell_type": "markdown",
   "id": "careful-fiction",
   "metadata": {},
   "source": [
    "## 🩸 Parameter:  Logistic Regression"
   ]
  },
  {
   "cell_type": "code",
   "execution_count": 8,
   "id": "intended-brooks",
   "metadata": {},
   "outputs": [],
   "source": [
    "from sklearn.model_selection import cross_val_score\n",
    "from sklearn.metrics import classification_report,confusion_matrix\n",
    "import warnings\n",
    "warnings.filterwarnings('ignore')"
   ]
  },
  {
   "cell_type": "code",
   "execution_count": 9,
   "id": "following-accent",
   "metadata": {},
   "outputs": [
    {
     "name": "stdout",
     "output_type": "stream",
     "text": [
      "Fitting 10 folds for each of 160 candidates, totalling 1600 fits\n"
     ]
    }
   ],
   "source": [
    "LR = LogisticRegression(random_state = 1)\n",
    "\n",
    "LRparam_grid = {\n",
    "    'C' : [0.001, 0.01, 0.1, 1],\n",
    "    'penalty': ['l1', 'l2'],\n",
    "    'max_iter': list(range(100,500,100)),\n",
    "    'solver': ['newton-cg', 'lbfgs', 'liblinear', 'sag', 'saga']}\n",
    "\n",
    "LR_search = GridSearchCV(LR, param_grid=LRparam_grid, refit = True, verbose = 1, cv=10, n_jobs = -1)\n",
    "# fitting the model for grid search \n",
    "best_LR = LR_search.fit(X_train_smote, y_train_smote.ravel())"
   ]
  },
  {
   "cell_type": "code",
   "execution_count": 10,
   "id": "solid-change",
   "metadata": {
    "scrolled": true
   },
   "outputs": [
    {
     "data": {
      "text/html": [
       "<div>\n",
       "<style scoped>\n",
       "    .dataframe tbody tr th:only-of-type {\n",
       "        vertical-align: middle;\n",
       "    }\n",
       "\n",
       "    .dataframe tbody tr th {\n",
       "        vertical-align: top;\n",
       "    }\n",
       "\n",
       "    .dataframe thead th {\n",
       "        text-align: right;\n",
       "    }\n",
       "</style>\n",
       "<table border=\"1\" class=\"dataframe\">\n",
       "  <thead>\n",
       "    <tr style=\"text-align: right;\">\n",
       "      <th></th>\n",
       "      <th>rank_test_score</th>\n",
       "      <th>mean_test_score</th>\n",
       "      <th>std_test_score</th>\n",
       "      <th>params</th>\n",
       "    </tr>\n",
       "  </thead>\n",
       "  <tbody>\n",
       "    <tr>\n",
       "      <th>0</th>\n",
       "      <td>1</td>\n",
       "      <td>0.708333</td>\n",
       "      <td>0.233482</td>\n",
       "      <td>{'C': 1, 'max_iter': 200, 'penalty': 'l2', 'so...</td>\n",
       "    </tr>\n",
       "    <tr>\n",
       "      <th>1</th>\n",
       "      <td>1</td>\n",
       "      <td>0.708333</td>\n",
       "      <td>0.233482</td>\n",
       "      <td>{'C': 1, 'max_iter': 300, 'penalty': 'l2', 'so...</td>\n",
       "    </tr>\n",
       "    <tr>\n",
       "      <th>2</th>\n",
       "      <td>1</td>\n",
       "      <td>0.708333</td>\n",
       "      <td>0.233482</td>\n",
       "      <td>{'C': 1, 'max_iter': 400, 'penalty': 'l2', 'so...</td>\n",
       "    </tr>\n",
       "    <tr>\n",
       "      <th>3</th>\n",
       "      <td>1</td>\n",
       "      <td>0.708333</td>\n",
       "      <td>0.233482</td>\n",
       "      <td>{'C': 1, 'max_iter': 400, 'penalty': 'l2', 'so...</td>\n",
       "    </tr>\n",
       "    <tr>\n",
       "      <th>4</th>\n",
       "      <td>1</td>\n",
       "      <td>0.708333</td>\n",
       "      <td>0.233482</td>\n",
       "      <td>{'C': 1, 'max_iter': 100, 'penalty': 'l2', 'so...</td>\n",
       "    </tr>\n",
       "  </tbody>\n",
       "</table>\n",
       "</div>"
      ],
      "text/plain": [
       "   rank_test_score  mean_test_score  std_test_score  \\\n",
       "0                1         0.708333        0.233482   \n",
       "1                1         0.708333        0.233482   \n",
       "2                1         0.708333        0.233482   \n",
       "3                1         0.708333        0.233482   \n",
       "4                1         0.708333        0.233482   \n",
       "\n",
       "                                              params  \n",
       "0  {'C': 1, 'max_iter': 200, 'penalty': 'l2', 'so...  \n",
       "1  {'C': 1, 'max_iter': 300, 'penalty': 'l2', 'so...  \n",
       "2  {'C': 1, 'max_iter': 400, 'penalty': 'l2', 'so...  \n",
       "3  {'C': 1, 'max_iter': 400, 'penalty': 'l2', 'so...  \n",
       "4  {'C': 1, 'max_iter': 100, 'penalty': 'l2', 'so...  "
      ]
     },
     "execution_count": 10,
     "metadata": {},
     "output_type": "execute_result"
    }
   ],
   "source": [
    "# view the results as a pandas DataFrame\n",
    "best_LRdf = pd.DataFrame(best_LR.cv_results_)[['rank_test_score', 'mean_test_score', 'std_test_score', 'params']]\n",
    "best_LRdf = best_LRdf.sort_values(by='rank_test_score', ascending=True)\n",
    "best_LRdf = best_LRdf.reset_index(drop=True)\n",
    "best_LRdf.head()"
   ]
  },
  {
   "cell_type": "code",
   "execution_count": 11,
   "id": "academic-crest",
   "metadata": {},
   "outputs": [
    {
     "name": "stdout",
     "output_type": "stream",
     "text": [
      "**examine the first result \n",
      "\n",
      "{'C': 0.001, 'max_iter': 100, 'penalty': 'l1', 'solver': 'newton-cg'}\n",
      "nan\n",
      "\n",
      " **print the array of mean scores only \n",
      "\n",
      "[       nan        nan 0.5               nan 0.36666667 0.49166667\n",
      " 0.49166667 0.46666667 0.5        0.46666667        nan        nan\n",
      " 0.5               nan 0.36666667 0.49166667 0.49166667 0.46666667\n",
      " 0.53333333 0.46666667        nan        nan 0.5               nan\n",
      " 0.36666667 0.49166667 0.49166667 0.46666667 0.53333333 0.5\n",
      "        nan        nan 0.5               nan 0.36666667 0.49166667\n",
      " 0.49166667 0.46666667 0.53333333 0.5               nan        nan\n",
      " 0.5               nan 0.43333333 0.55       0.55       0.46666667\n",
      " 0.46666667 0.46666667        nan        nan 0.5               nan\n",
      " 0.43333333 0.55       0.55       0.46666667 0.46666667 0.46666667\n",
      "        nan        nan 0.5               nan 0.43333333 0.55\n",
      " 0.55       0.46666667 0.46666667 0.46666667        nan        nan\n",
      " 0.5               nan 0.43333333 0.55       0.55       0.46666667\n",
      " 0.46666667 0.46666667        nan        nan 0.46666667        nan\n",
      " 0.43333333 0.55       0.55       0.50833333 0.44166667 0.43333333\n",
      "        nan        nan 0.46666667        nan 0.43333333 0.55\n",
      " 0.55       0.50833333 0.44166667 0.44166667        nan        nan\n",
      " 0.46666667        nan 0.43333333 0.55       0.55       0.50833333\n",
      " 0.475      0.44166667        nan        nan 0.46666667        nan\n",
      " 0.43333333 0.55       0.55       0.50833333 0.475      0.44166667\n",
      "        nan        nan 0.44166667        nan 0.46666667 0.70833333\n",
      " 0.70833333 0.56666667 0.44166667 0.43333333        nan        nan\n",
      " 0.44166667        nan 0.43333333 0.70833333 0.70833333 0.56666667\n",
      " 0.50833333 0.44166667        nan        nan 0.44166667        nan\n",
      " 0.375      0.70833333 0.70833333 0.56666667 0.50833333 0.50833333\n",
      "        nan        nan 0.44166667        nan 0.375      0.70833333\n",
      " 0.70833333 0.56666667 0.54166667 0.50833333]\n",
      "\n",
      " **examine the best model \n",
      "\n",
      "0.7083333333333334\n",
      "{'C': 1, 'max_iter': 100, 'penalty': 'l2', 'solver': 'newton-cg'}\n",
      "LogisticRegression(C=1, random_state=1, solver='newton-cg')\n"
     ]
    }
   ],
   "source": [
    "# examine the first result\n",
    "print(\"**examine the first result\",\"\\n\")\n",
    "\n",
    "print(best_LR.cv_results_['params'][0])\n",
    "print(best_LR.cv_results_['mean_test_score'][0])\n",
    "\n",
    "# print the array of mean scores only\n",
    "print(\"\\n\",\"**print the array of mean scores only\",\"\\n\")\n",
    "\n",
    "grid_mean_scores = best_LR.cv_results_['mean_test_score']\n",
    "print(grid_mean_scores)\n",
    "\n",
    "# examine the best model\n",
    "print(\"\\n\",\"**examine the best model\",\"\\n\")\n",
    "\n",
    "print(best_LR.best_score_)\n",
    "print(best_LR.best_params_)\n",
    "print(best_LR.best_estimator_)"
   ]
  },
  {
   "cell_type": "code",
   "execution_count": 12,
   "id": "constant-haiti",
   "metadata": {},
   "outputs": [
    {
     "name": "stdout",
     "output_type": "stream",
     "text": [
      "Tuned Decision Tree Parameters: {'C': 1, 'max_iter': 100, 'penalty': 'l2', 'solver': 'newton-cg'}\n",
      "Best score is 0.7083333333333334\n"
     ]
    }
   ],
   "source": [
    "#Print the tured parameters and score\n",
    "print(\"Tuned Decision Tree Parameters: {}\".format(best_LR.best_params_))\n",
    "print(\"Best score is {}\".format(best_LR.best_score_))"
   ]
  },
  {
   "cell_type": "code",
   "execution_count": 14,
   "id": "lovely-generation",
   "metadata": {},
   "outputs": [],
   "source": [
    "best_params_ =  best_LR.best_params_\n",
    "C_ = best_params_['C'] \n",
    "max_iter_ = best_params_['max_iter'] \n",
    "penalty_ = best_params_['penalty']   \n",
    "solver_ = best_params_['solver']"
   ]
  },
  {
   "cell_type": "markdown",
   "id": "overall-september",
   "metadata": {},
   "source": [
    "> ## 🚀 Fit Model and setting parameters"
   ]
  },
  {
   "cell_type": "code",
   "execution_count": 15,
   "id": "chronic-fellowship",
   "metadata": {},
   "outputs": [
    {
     "data": {
      "text/plain": [
       "LogisticRegression(C=1, random_state=1, solver='newton-cg')"
      ]
     },
     "execution_count": 15,
     "metadata": {},
     "output_type": "execute_result"
    }
   ],
   "source": [
    "## **- train Fit Model XGBOOST\n",
    "Logistic = LogisticRegression(random_state = 1, C=C_, max_iter=max_iter_, penalty=penalty_, solver=solver_)\n",
    "LogisticModel = Logistic.fit(X_train_smote, y_train_smote.ravel()) # train XGBOOST model\n",
    "LogisticModel"
   ]
  },
  {
   "cell_type": "code",
   "execution_count": 16,
   "id": "chinese-citizen",
   "metadata": {},
   "outputs": [
    {
     "name": "stdout",
     "output_type": "stream",
     "text": [
      "{'C': 1, 'class_weight': None, 'dual': False, 'fit_intercept': True, 'intercept_scaling': 1, 'l1_ratio': None, 'max_iter': 100, 'multi_class': 'auto', 'n_jobs': None, 'penalty': 'l2', 'random_state': 1, 'solver': 'newton-cg', 'tol': 0.0001, 'verbose': 0, 'warm_start': False}\n"
     ]
    }
   ],
   "source": [
    "### Testing Check Parameter\n",
    "print(LogisticModel.get_params())"
   ]
  },
  {
   "cell_type": "markdown",
   "id": "black-brunswick",
   "metadata": {},
   "source": [
    "> ## #️⃣ Save model"
   ]
  },
  {
   "cell_type": "code",
   "execution_count": 17,
   "id": "italian-melbourne",
   "metadata": {},
   "outputs": [],
   "source": [
    "nameclass = \"typeBEvsBM_SmoteClasses\""
   ]
  },
  {
   "cell_type": "code",
   "execution_count": 18,
   "id": "palestinian-visibility",
   "metadata": {},
   "outputs": [
    {
     "name": "stdout",
     "output_type": "stream",
     "text": [
      "[INFO]: Done!! Save Model as : /media/tohn/HDD/rheology2023/ML_Model/Blood_Viscosity/typeBEvsBM_SmoteClasses/fold3/Logis_Model_typeBEvsBM_SmoteClasses_fold3.pkl\n"
     ]
    }
   ],
   "source": [
    "#Save Model\n",
    "import os\n",
    "import pickle\n",
    "import imageio\n",
    "\n",
    "save_pathimg = f'/media/tohn/HDD/rheology2023/ML_Model/Blood_Viscosity/{nameclass}/fold{fold}'\n",
    "##**Mkdir Directory \n",
    "os.makedirs(save_pathimg, exist_ok=True)     \n",
    "filename = f\"Logis_Model_{nameclass}_fold{fold}.pkl\"\n",
    "Model2Save =  f\"{save_pathimg}/{filename}\"\n",
    "print(f\"[INFO]: Done!! Save Model as : {Model2Save}\")\n",
    "\n",
    "with open(Model2Save, 'wb') as file:\n",
    "    pickle.dump(LogisticModel, file)"
   ]
  },
  {
   "cell_type": "code",
   "execution_count": null,
   "id": "chinese-student",
   "metadata": {},
   "outputs": [],
   "source": []
  },
  {
   "cell_type": "code",
   "execution_count": null,
   "id": "russian-wallet",
   "metadata": {},
   "outputs": [],
   "source": []
  },
  {
   "cell_type": "code",
   "execution_count": null,
   "id": "aquatic-filter",
   "metadata": {},
   "outputs": [],
   "source": []
  }
 ],
 "metadata": {
  "kernelspec": {
   "display_name": "AI",
   "language": "python",
   "name": "ai"
  },
  "language_info": {
   "codemirror_mode": {
    "name": "ipython",
    "version": 3
   },
   "file_extension": ".py",
   "mimetype": "text/x-python",
   "name": "python",
   "nbconvert_exporter": "python",
   "pygments_lexer": "ipython3",
   "version": "3.6.9"
  }
 },
 "nbformat": 4,
 "nbformat_minor": 5
}
