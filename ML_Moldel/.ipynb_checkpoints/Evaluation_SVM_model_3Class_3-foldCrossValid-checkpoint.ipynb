{
 "cells": [
  {
   "cell_type": "code",
   "execution_count": 1,
   "id": "optical-archive",
   "metadata": {},
   "outputs": [],
   "source": [
    "import pandas as pd\n",
    "import os\n",
    "from sklearn.metrics import precision_recall_fscore_support \n",
    "from sklearn.metrics import accuracy_score\n",
    "from sklearn import svm\n",
    "from sklearn.model_selection import cross_validate"
   ]
  },
  {
   "cell_type": "markdown",
   "id": "lightweight-thing",
   "metadata": {},
   "source": [
    "# 📂DATA : 3 Classes"
   ]
  },
  {
   "cell_type": "code",
   "execution_count": 22,
   "id": "featured-washington",
   "metadata": {},
   "outputs": [],
   "source": [
    "fold = 3"
   ]
  },
  {
   "cell_type": "code",
   "execution_count": 23,
   "id": "ignored-science",
   "metadata": {},
   "outputs": [
    {
     "name": "stdout",
     "output_type": "stream",
     "text": [
      "(51, 9)\n",
      "----------------------------------------------------------------------------------------------------\n",
      "All Fold : {1, 2, 3}\n",
      "Train Set : Fold ==> {1, 2}\n",
      "Train =  (34, 9)\n",
      "Valiadtion Set : Fold ==> {3}\n",
      "Validation =  (17, 9)\n"
     ]
    },
    {
     "data": {
      "text/html": [
       "<div>\n",
       "<style scoped>\n",
       "    .dataframe tbody tr th:only-of-type {\n",
       "        vertical-align: middle;\n",
       "    }\n",
       "\n",
       "    .dataframe tbody tr th {\n",
       "        vertical-align: top;\n",
       "    }\n",
       "\n",
       "    .dataframe thead th {\n",
       "        text-align: right;\n",
       "    }\n",
       "</style>\n",
       "<table border=\"1\" class=\"dataframe\">\n",
       "  <thead>\n",
       "    <tr style=\"text-align: right;\">\n",
       "      <th></th>\n",
       "      <th>Unnamed: 0</th>\n",
       "      <th>Code</th>\n",
       "      <th>classes</th>\n",
       "      <th>subclass</th>\n",
       "      <th>fold</th>\n",
       "      <th>classes_binary</th>\n",
       "      <th>MCV</th>\n",
       "      <th>MCH</th>\n",
       "      <th>Hb</th>\n",
       "    </tr>\n",
       "  </thead>\n",
       "  <tbody>\n",
       "    <tr>\n",
       "      <th>0</th>\n",
       "      <td>34</td>\n",
       "      <td>HN18</td>\n",
       "      <td>HN</td>\n",
       "      <td>No_Splenectomy</td>\n",
       "      <td>3</td>\n",
       "      <td>1.0</td>\n",
       "      <td>71.3</td>\n",
       "      <td>23.5</td>\n",
       "      <td>8.1</td>\n",
       "    </tr>\n",
       "    <tr>\n",
       "      <th>1</th>\n",
       "      <td>35</td>\n",
       "      <td>HN15</td>\n",
       "      <td>HN</td>\n",
       "      <td>No_Splenectomy</td>\n",
       "      <td>3</td>\n",
       "      <td>1.0</td>\n",
       "      <td>73.3</td>\n",
       "      <td>21.9</td>\n",
       "      <td>7.2</td>\n",
       "    </tr>\n",
       "    <tr>\n",
       "      <th>2</th>\n",
       "      <td>36</td>\n",
       "      <td>HN31</td>\n",
       "      <td>HN</td>\n",
       "      <td>No_Splenectomy</td>\n",
       "      <td>3</td>\n",
       "      <td>1.0</td>\n",
       "      <td>67.7</td>\n",
       "      <td>21.3</td>\n",
       "      <td>6.0</td>\n",
       "    </tr>\n",
       "    <tr>\n",
       "      <th>3</th>\n",
       "      <td>37</td>\n",
       "      <td>NBL11</td>\n",
       "      <td>NBL</td>\n",
       "      <td>Normal</td>\n",
       "      <td>3</td>\n",
       "      <td>0.0</td>\n",
       "      <td>55.5</td>\n",
       "      <td>17.9</td>\n",
       "      <td>13.7</td>\n",
       "    </tr>\n",
       "    <tr>\n",
       "      <th>4</th>\n",
       "      <td>38</td>\n",
       "      <td>NBL22</td>\n",
       "      <td>NBL</td>\n",
       "      <td>Normal</td>\n",
       "      <td>3</td>\n",
       "      <td>0.0</td>\n",
       "      <td>75.1</td>\n",
       "      <td>24.7</td>\n",
       "      <td>15.2</td>\n",
       "    </tr>\n",
       "  </tbody>\n",
       "</table>\n",
       "</div>"
      ],
      "text/plain": [
       "   Unnamed: 0   Code classes        subclass  fold  classes_binary   MCV  \\\n",
       "0          34   HN18      HN  No_Splenectomy     3             1.0  71.3   \n",
       "1          35   HN15      HN  No_Splenectomy     3             1.0  73.3   \n",
       "2          36   HN31      HN  No_Splenectomy     3             1.0  67.7   \n",
       "3          37  NBL11     NBL          Normal     3             0.0  55.5   \n",
       "4          38  NBL22     NBL          Normal     3             0.0  75.1   \n",
       "\n",
       "    MCH    Hb  \n",
       "0  23.5   8.1  \n",
       "1  21.9   7.2  \n",
       "2  21.3   6.0  \n",
       "3  17.9  13.7  \n",
       "4  24.7  15.2  "
      ]
     },
     "execution_count": 23,
     "metadata": {},
     "output_type": "execute_result"
    }
   ],
   "source": [
    "path = \"/home/kannika/code/Rheology2023/Rheology_Blood/DataBlood_Viscosity_TrainML_3Fold_split3class.csv\"\n",
    "data_feature = pd.read_csv(path)\n",
    "print(data_feature.shape)\n",
    "print(\"-\"*100)\n",
    "print(f\"All Fold : {set(data_feature.fold)}\")\n",
    "## Split Train data Set\n",
    "feature_train = data_feature[data_feature[\"fold\"]!=fold].reset_index(drop=True)\n",
    "print(f\"Train Set : Fold ==> {set(feature_train.fold)}\")\n",
    "print(\"Train = \", feature_train.shape)\n",
    "## Split Valid data Set\n",
    "feature_valid = data_feature[data_feature[\"fold\"]==fold].reset_index(drop=True)\n",
    "print(f\"Valiadtion Set : Fold ==> {set(feature_valid.fold)}\")\n",
    "print(\"Validation = \", feature_valid.shape)\n",
    "## Print DataFrame\n",
    "feature_valid.head()"
   ]
  },
  {
   "cell_type": "code",
   "execution_count": 24,
   "id": "wound-japanese",
   "metadata": {},
   "outputs": [
    {
     "name": "stdout",
     "output_type": "stream",
     "text": [
      "(17, 3)\n",
      "(17,)\n",
      "No_Splenectomy\n"
     ]
    }
   ],
   "source": [
    "X_test = feature_valid[['MCV','MCH','Hb']]\n",
    "y_test = feature_valid[\"subclass\"]\n",
    "print(X_test.shape)\n",
    "print(y_test.shape)\n",
    "print(y_test[0])"
   ]
  },
  {
   "cell_type": "code",
   "execution_count": 25,
   "id": "respiratory-storm",
   "metadata": {},
   "outputs": [
    {
     "name": "stdout",
     "output_type": "stream",
     "text": [
      "3\n",
      "{'Splenectomy', 'No_Splenectomy', 'Normal'}\n"
     ]
    }
   ],
   "source": [
    "print(len(set(y_test)))\n",
    "print(set(y_test))"
   ]
  },
  {
   "cell_type": "markdown",
   "id": "hollywood-transportation",
   "metadata": {},
   "source": [
    "## 🚀Load Model"
   ]
  },
  {
   "cell_type": "code",
   "execution_count": 26,
   "id": "interim-armstrong",
   "metadata": {},
   "outputs": [
    {
     "name": "stdout",
     "output_type": "stream",
     "text": [
      "[INFO]: Load Model from: /media/tohn/HDD/rheology2023/ML_Model/Blood_Viscosity/_3Classes/fold3/SVM_Model_Blood3Class_fold3.pkl\n"
     ]
    }
   ],
   "source": [
    "#load model\n",
    "import pickle\n",
    "\n",
    "model_path = f\"/media/tohn/HDD/rheology2023/ML_Model/Blood_Viscosity/_3Classes/fold{fold}/SVM_Model_Blood3Class_fold{fold}.pkl\"\n",
    "print(f\"[INFO]: Load Model from: {model_path}\")\n",
    "\n",
    "with open(model_path, 'rb') as file:\n",
    "    model = pickle.load(file)"
   ]
  },
  {
   "cell_type": "code",
   "execution_count": 27,
   "id": "owned-range",
   "metadata": {},
   "outputs": [
    {
     "name": "stdout",
     "output_type": "stream",
     "text": [
      "17\n",
      "['No_Splenectomy' 'Splenectomy' 'No_Splenectomy' 'Normal' 'Normal'\n",
      " 'Normal' 'Splenectomy' 'No_Splenectomy' 'No_Splenectomy' 'No_Splenectomy'\n",
      " 'No_Splenectomy' 'Splenectomy' 'Normal' 'Splenectomy' 'Splenectomy'\n",
      " 'Splenectomy' 'Splenectomy']\n",
      "17\n"
     ]
    }
   ],
   "source": [
    "import numpy as np\n",
    "\n",
    "y_pred = model.predict(X_test)\n",
    "y_prob = model.predict_proba(X_test)\n",
    "print(len(y_pred))\n",
    "print(y_pred)\n",
    "\n",
    "prob_list = list()\n",
    "for i in range(0,len(y_prob)):\n",
    "    result = y_prob[i]\n",
    "    maxx = np.argmax(result)\n",
    "    prob_i = result[maxx]\n",
    "    prob_list.append(prob_i)\n",
    "print(len(prob_list))"
   ]
  },
  {
   "cell_type": "code",
   "execution_count": 28,
   "id": "accessory-thousand",
   "metadata": {},
   "outputs": [
    {
     "name": "stdout",
     "output_type": "stream",
     "text": [
      "[0.5030157821380858, 0.5438915818279497, 0.6530679637779612, 0.6917697677527358, 0.9217871364094795, 0.8671295971124439, 0.476286555837975, 0.7436002415543373, 0.7589740348821885, 0.6842600275256566, 0.8230818368182129, 0.4338346711926398, 0.7846504398651197, 0.44534180144811936, 0.7795107075594945, 0.5741125622914359, 0.6231469425067615]\n"
     ]
    }
   ],
   "source": [
    "print(prob_list)"
   ]
  },
  {
   "cell_type": "code",
   "execution_count": 29,
   "id": "emerging-signal",
   "metadata": {},
   "outputs": [
    {
     "data": {
      "text/html": [
       "<div>\n",
       "<style scoped>\n",
       "    .dataframe tbody tr th:only-of-type {\n",
       "        vertical-align: middle;\n",
       "    }\n",
       "\n",
       "    .dataframe tbody tr th {\n",
       "        vertical-align: top;\n",
       "    }\n",
       "\n",
       "    .dataframe thead th {\n",
       "        text-align: right;\n",
       "    }\n",
       "</style>\n",
       "<table border=\"1\" class=\"dataframe\">\n",
       "  <thead>\n",
       "    <tr style=\"text-align: right;\">\n",
       "      <th></th>\n",
       "      <th>Unnamed: 0</th>\n",
       "      <th>Code</th>\n",
       "      <th>classes</th>\n",
       "      <th>subclass</th>\n",
       "      <th>fold</th>\n",
       "      <th>classes_binary</th>\n",
       "      <th>MCV</th>\n",
       "      <th>MCH</th>\n",
       "      <th>Hb</th>\n",
       "      <th>Category</th>\n",
       "      <th>Prob</th>\n",
       "    </tr>\n",
       "  </thead>\n",
       "  <tbody>\n",
       "    <tr>\n",
       "      <th>0</th>\n",
       "      <td>34</td>\n",
       "      <td>HN18</td>\n",
       "      <td>HN</td>\n",
       "      <td>No_Splenectomy</td>\n",
       "      <td>3</td>\n",
       "      <td>1.0</td>\n",
       "      <td>71.3</td>\n",
       "      <td>23.5</td>\n",
       "      <td>8.1</td>\n",
       "      <td>No_Splenectomy</td>\n",
       "      <td>0.503016</td>\n",
       "    </tr>\n",
       "    <tr>\n",
       "      <th>1</th>\n",
       "      <td>35</td>\n",
       "      <td>HN15</td>\n",
       "      <td>HN</td>\n",
       "      <td>No_Splenectomy</td>\n",
       "      <td>3</td>\n",
       "      <td>1.0</td>\n",
       "      <td>73.3</td>\n",
       "      <td>21.9</td>\n",
       "      <td>7.2</td>\n",
       "      <td>Splenectomy</td>\n",
       "      <td>0.543892</td>\n",
       "    </tr>\n",
       "    <tr>\n",
       "      <th>2</th>\n",
       "      <td>36</td>\n",
       "      <td>HN31</td>\n",
       "      <td>HN</td>\n",
       "      <td>No_Splenectomy</td>\n",
       "      <td>3</td>\n",
       "      <td>1.0</td>\n",
       "      <td>67.7</td>\n",
       "      <td>21.3</td>\n",
       "      <td>6.0</td>\n",
       "      <td>No_Splenectomy</td>\n",
       "      <td>0.653068</td>\n",
       "    </tr>\n",
       "    <tr>\n",
       "      <th>3</th>\n",
       "      <td>37</td>\n",
       "      <td>NBL11</td>\n",
       "      <td>NBL</td>\n",
       "      <td>Normal</td>\n",
       "      <td>3</td>\n",
       "      <td>0.0</td>\n",
       "      <td>55.5</td>\n",
       "      <td>17.9</td>\n",
       "      <td>13.7</td>\n",
       "      <td>Normal</td>\n",
       "      <td>0.691770</td>\n",
       "    </tr>\n",
       "    <tr>\n",
       "      <th>4</th>\n",
       "      <td>38</td>\n",
       "      <td>NBL22</td>\n",
       "      <td>NBL</td>\n",
       "      <td>Normal</td>\n",
       "      <td>3</td>\n",
       "      <td>0.0</td>\n",
       "      <td>75.1</td>\n",
       "      <td>24.7</td>\n",
       "      <td>15.2</td>\n",
       "      <td>Normal</td>\n",
       "      <td>0.921787</td>\n",
       "    </tr>\n",
       "  </tbody>\n",
       "</table>\n",
       "</div>"
      ],
      "text/plain": [
       "   Unnamed: 0   Code classes        subclass  fold  classes_binary   MCV  \\\n",
       "0          34   HN18      HN  No_Splenectomy     3             1.0  71.3   \n",
       "1          35   HN15      HN  No_Splenectomy     3             1.0  73.3   \n",
       "2          36   HN31      HN  No_Splenectomy     3             1.0  67.7   \n",
       "3          37  NBL11     NBL          Normal     3             0.0  55.5   \n",
       "4          38  NBL22     NBL          Normal     3             0.0  75.1   \n",
       "\n",
       "    MCH    Hb        Category      Prob  \n",
       "0  23.5   8.1  No_Splenectomy  0.503016  \n",
       "1  21.9   7.2     Splenectomy  0.543892  \n",
       "2  21.3   6.0  No_Splenectomy  0.653068  \n",
       "3  17.9  13.7          Normal  0.691770  \n",
       "4  24.7  15.2          Normal  0.921787  "
      ]
     },
     "execution_count": 29,
     "metadata": {},
     "output_type": "execute_result"
    }
   ],
   "source": [
    "feature_valid['Category'] = y_pred\n",
    "feature_valid['Prob'] = prob_list\n",
    "feature_valid.head()"
   ]
  },
  {
   "cell_type": "code",
   "execution_count": 30,
   "id": "flexible-puppy",
   "metadata": {},
   "outputs": [
    {
     "name": "stdout",
     "output_type": "stream",
     "text": [
      "Classifier accuracy = 70.58823529411765%\n",
      "====================================================================================================\n",
      "                precision    recall  f1-score   support\n",
      "\n",
      "No_Splenectomy       0.67      0.80      0.73         5\n",
      "        Normal       1.00      0.67      0.80         6\n",
      "   Splenectomy       0.57      0.67      0.62         6\n",
      "\n",
      "      accuracy                           0.71        17\n",
      "     macro avg       0.75      0.71      0.71        17\n",
      "  weighted avg       0.75      0.71      0.71        17\n",
      "\n"
     ]
    }
   ],
   "source": [
    "act = feature_valid['subclass'].tolist()\n",
    "pred = feature_valid['Category'].tolist()\n",
    "#Marking the Confusion Matrix\n",
    "from sklearn.metrics import classification_report,confusion_matrix\n",
    "# confusion_matrix(act, pred)\n",
    "cmat = confusion_matrix(act, pred)\n",
    "print('Classifier accuracy = {}%'.format((100.*np.trace(cmat))/(np.sum(cmat))))\n",
    "print(\"=\"*100)\n",
    "print(classification_report(act, pred))#performance"
   ]
  },
  {
   "cell_type": "code",
   "execution_count": 31,
   "id": "regulated-answer",
   "metadata": {},
   "outputs": [
    {
     "data": {
      "text/plain": [
       "Text(0.5, 20.59375, 'Predicted label')"
      ]
     },
     "execution_count": 31,
     "metadata": {},
     "output_type": "execute_result"
    },
    {
     "data": {
      "image/png": "[encoded data removed]",
      "text/plain": [
       "<Figure size 576x360 with 2 Axes>"
      ]
     },
     "metadata": {},
     "output_type": "display_data"
    }
   ],
   "source": [
    "#create CF \n",
    "data = {'Actual': act,'Predicted' : pred,}\n",
    "df = pd.DataFrame(data, columns=['Actual','Predicted'])\n",
    "conf_mat = pd.crosstab(df['Actual'],df['Predicted'],rownames=['Actual'],colnames=['Predicted'])\n",
    "\n",
    "#Confusion matrix\n",
    "from sklearn.metrics import confusion_matrix\n",
    "import matplotlib.pyplot as plt\n",
    "cm = confusion_matrix(act, pred)\n",
    "\n",
    "#plot Confusion matrix\n",
    "import seaborn as sns\n",
    "sns.set()\n",
    "fig, ax = plt.subplots(figsize=(8, 5))\n",
    "\n",
    "ax = sns.heatmap(conf_mat, annot=True, fmt=\"d\", cmap=\"YlGnBu\") #Blues,Oranges,Reds\n",
    "ax.set_title('Confusion matrix',fontsize=20)\n",
    "ax.set_ylabel('True label',fontsize=18)\n",
    "ax.set_xlabel('Predicted label',fontsize=18)"
   ]
  },
  {
   "cell_type": "code",
   "execution_count": null,
   "id": "friendly-influence",
   "metadata": {},
   "outputs": [],
   "source": []
  },
  {
   "cell_type": "code",
   "execution_count": null,
   "id": "banner-executive",
   "metadata": {},
   "outputs": [],
   "source": []
  },
  {
   "cell_type": "code",
   "execution_count": null,
   "id": "recreational-compression",
   "metadata": {},
   "outputs": [],
   "source": []
  }
 ],
 "metadata": {
  "kernelspec": {
   "display_name": "AI",
   "language": "python",
   "name": "ai"
  },
  "language_info": {
   "codemirror_mode": {
    "name": "ipython",
    "version": 3
   },
   "file_extension": ".py",
   "mimetype": "text/x-python",
   "name": "python",
   "nbconvert_exporter": "python",
   "pygments_lexer": "ipython3",
   "version": "3.6.9"
  }
 },
 "nbformat": 4,
 "nbformat_minor": 5
}
