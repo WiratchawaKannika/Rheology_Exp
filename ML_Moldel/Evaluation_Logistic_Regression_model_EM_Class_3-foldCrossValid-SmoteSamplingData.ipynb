{
 "cells": [
  {
   "cell_type": "code",
   "execution_count": 1,
   "id": "optical-archive",
   "metadata": {},
   "outputs": [],
   "source": [
    "import pandas as pd\n",
    "import os\n",
    "from sklearn.ensemble import RandomForestClassifier\n",
    "from sklearn.model_selection import GridSearchCV\n",
    "from sklearn.ensemble import BaggingClassifier\n",
    "from sklearn.metrics import precision_recall_fscore_support\n",
    "from sklearn.model_selection import train_test_split\n",
    "from sklearn.metrics import accuracy_score"
   ]
  },
  {
   "cell_type": "markdown",
   "id": "lightweight-thing",
   "metadata": {},
   "source": [
    "# 📂DATA : 2 Classes"
   ]
  },
  {
   "cell_type": "code",
   "execution_count": 2,
   "id": "featured-washington",
   "metadata": {},
   "outputs": [],
   "source": [
    "fold = 3"
   ]
  },
  {
   "cell_type": "code",
   "execution_count": 3,
   "id": "ignored-science",
   "metadata": {},
   "outputs": [
    {
     "name": "stdout",
     "output_type": "stream",
     "text": [
      "(33, 11)\n",
      "----------------------------------------------------------------------------------------------------\n",
      "All Fold : {1, 2, 3}\n",
      "Train Set : Fold ==> {1, 2}\n",
      "Train =  (22, 11)\n",
      "Valiadtion Set : Fold ==> {3}\n",
      "Validation =  (11, 11)\n"
     ]
    },
    {
     "data": {
      "text/html": [
       "<div>\n",
       "<style scoped>\n",
       "    .dataframe tbody tr th:only-of-type {\n",
       "        vertical-align: middle;\n",
       "    }\n",
       "\n",
       "    .dataframe tbody tr th {\n",
       "        vertical-align: top;\n",
       "    }\n",
       "\n",
       "    .dataframe thead th {\n",
       "        text-align: right;\n",
       "    }\n",
       "</style>\n",
       "<table border=\"1\" class=\"dataframe\">\n",
       "  <thead>\n",
       "    <tr style=\"text-align: right;\">\n",
       "      <th></th>\n",
       "      <th>Unnamed: 0</th>\n",
       "      <th>Unnamed: 0.1</th>\n",
       "      <th>Code</th>\n",
       "      <th>classes</th>\n",
       "      <th>subclass</th>\n",
       "      <th>classes_binary</th>\n",
       "      <th>MCV</th>\n",
       "      <th>MCH</th>\n",
       "      <th>Hb</th>\n",
       "      <th>typeBEvsBM</th>\n",
       "      <th>fold</th>\n",
       "    </tr>\n",
       "  </thead>\n",
       "  <tbody>\n",
       "    <tr>\n",
       "      <th>0</th>\n",
       "      <td>16</td>\n",
       "      <td>18</td>\n",
       "      <td>HN20</td>\n",
       "      <td>HN</td>\n",
       "      <td>No_Splenectomy</td>\n",
       "      <td>1.0</td>\n",
       "      <td>69.5</td>\n",
       "      <td>20.5</td>\n",
       "      <td>6.1</td>\n",
       "      <td>E</td>\n",
       "      <td>3</td>\n",
       "    </tr>\n",
       "    <tr>\n",
       "      <th>1</th>\n",
       "      <td>17</td>\n",
       "      <td>31</td>\n",
       "      <td>HN27</td>\n",
       "      <td>HN</td>\n",
       "      <td>Splenectomy</td>\n",
       "      <td>1.0</td>\n",
       "      <td>77.1</td>\n",
       "      <td>24.1</td>\n",
       "      <td>7.8</td>\n",
       "      <td>E</td>\n",
       "      <td>3</td>\n",
       "    </tr>\n",
       "    <tr>\n",
       "      <th>2</th>\n",
       "      <td>18</td>\n",
       "      <td>36</td>\n",
       "      <td>HN31</td>\n",
       "      <td>HN</td>\n",
       "      <td>No_Splenectomy</td>\n",
       "      <td>1.0</td>\n",
       "      <td>67.7</td>\n",
       "      <td>21.3</td>\n",
       "      <td>6.0</td>\n",
       "      <td>E</td>\n",
       "      <td>3</td>\n",
       "    </tr>\n",
       "    <tr>\n",
       "      <th>3</th>\n",
       "      <td>19</td>\n",
       "      <td>1</td>\n",
       "      <td>HN38</td>\n",
       "      <td>HN</td>\n",
       "      <td>No_Splenectomy</td>\n",
       "      <td>1.0</td>\n",
       "      <td>72.9</td>\n",
       "      <td>22.6</td>\n",
       "      <td>8.0</td>\n",
       "      <td>E</td>\n",
       "      <td>3</td>\n",
       "    </tr>\n",
       "    <tr>\n",
       "      <th>4</th>\n",
       "      <td>20</td>\n",
       "      <td>48</td>\n",
       "      <td>HN23</td>\n",
       "      <td>HN</td>\n",
       "      <td>Splenectomy</td>\n",
       "      <td>1.0</td>\n",
       "      <td>85.9</td>\n",
       "      <td>27.0</td>\n",
       "      <td>5.0</td>\n",
       "      <td>E</td>\n",
       "      <td>3</td>\n",
       "    </tr>\n",
       "  </tbody>\n",
       "</table>\n",
       "</div>"
      ],
      "text/plain": [
       "   Unnamed: 0  Unnamed: 0.1  Code classes        subclass  classes_binary  \\\n",
       "0          16            18  HN20      HN  No_Splenectomy             1.0   \n",
       "1          17            31  HN27      HN     Splenectomy             1.0   \n",
       "2          18            36  HN31      HN  No_Splenectomy             1.0   \n",
       "3          19             1  HN38      HN  No_Splenectomy             1.0   \n",
       "4          20            48  HN23      HN     Splenectomy             1.0   \n",
       "\n",
       "    MCV   MCH   Hb typeBEvsBM  fold  \n",
       "0  69.5  20.5  6.1          E     3  \n",
       "1  77.1  24.1  7.8          E     3  \n",
       "2  67.7  21.3  6.0          E     3  \n",
       "3  72.9  22.6  8.0          E     3  \n",
       "4  85.9  27.0  5.0          E     3  "
      ]
     },
     "execution_count": 3,
     "metadata": {},
     "output_type": "execute_result"
    }
   ],
   "source": [
    "path = \"/home/kannika/code/Rheology2023/Rheology_Blood/DataBlood_Viscosity_TrainML_3Fold_EMclass.csv\"\n",
    "data_feature = pd.read_csv(path)\n",
    "print(data_feature.shape)\n",
    "print(\"-\"*100)\n",
    "print(f\"All Fold : {set(data_feature.fold)}\")\n",
    "## Split Train data Set\n",
    "feature_train = data_feature[data_feature[\"fold\"]!=fold].reset_index(drop=True)\n",
    "print(f\"Train Set : Fold ==> {set(feature_train.fold)}\")\n",
    "print(\"Train = \", feature_train.shape)\n",
    "## Split Valid data Set\n",
    "feature_valid = data_feature[data_feature[\"fold\"]==fold].reset_index(drop=True)\n",
    "print(f\"Valiadtion Set : Fold ==> {set(feature_valid.fold)}\")\n",
    "print(\"Validation = \", feature_valid.shape)\n",
    "## Print DataFrame\n",
    "feature_valid.head()"
   ]
  },
  {
   "cell_type": "code",
   "execution_count": 4,
   "id": "wound-japanese",
   "metadata": {},
   "outputs": [
    {
     "name": "stdout",
     "output_type": "stream",
     "text": [
      "(11, 3)\n",
      "(11,)\n",
      "E\n"
     ]
    }
   ],
   "source": [
    "X_test = feature_valid[['MCV','MCH','Hb']]\n",
    "y_test = feature_valid[\"typeBEvsBM\"]\n",
    "print(X_test.shape)\n",
    "print(y_test.shape)\n",
    "print(y_test[0])"
   ]
  },
  {
   "cell_type": "code",
   "execution_count": 5,
   "id": "respiratory-storm",
   "metadata": {},
   "outputs": [
    {
     "name": "stdout",
     "output_type": "stream",
     "text": [
      "2\n",
      "{'E', 'M'}\n",
      "Counts of label 'BE': 8\n",
      "Counts of label 'BM': 3 \n",
      "\n"
     ]
    }
   ],
   "source": [
    "print(len(set(y_test)))\n",
    "print(set(y_test))\n",
    "\n",
    "print(\"Counts of label 'BE': {}\".format(sum(y_test=='E')))\n",
    "print(\"Counts of label 'BM': {} \\n\".format(sum(y_test=='M')))"
   ]
  },
  {
   "cell_type": "markdown",
   "id": "hollywood-transportation",
   "metadata": {},
   "source": [
    "## 🚀Load Model"
   ]
  },
  {
   "cell_type": "code",
   "execution_count": 6,
   "id": "proved-petersburg",
   "metadata": {},
   "outputs": [],
   "source": [
    "nameclass = \"typeBEvsBM_SmoteClasses\""
   ]
  },
  {
   "cell_type": "code",
   "execution_count": 7,
   "id": "interim-armstrong",
   "metadata": {},
   "outputs": [
    {
     "name": "stdout",
     "output_type": "stream",
     "text": [
      "[INFO]: Load Model from: /media/tohn/HDD/rheology2023/ML_Model/Blood_Viscosity/typeBEvsBM_SmoteClasses/fold3/Logis_Model_typeBEvsBM_SmoteClasses_fold3.pkl\n"
     ]
    }
   ],
   "source": [
    "#load model\n",
    "import pickle\n",
    "\n",
    "model_path = f\"/media/tohn/HDD/rheology2023/ML_Model/Blood_Viscosity/{nameclass}/fold{fold}/Logis_Model_{nameclass}_fold{fold}.pkl\"\n",
    "print(f\"[INFO]: Load Model from: {model_path}\")\n",
    "with open(model_path, 'rb') as file:\n",
    "    model = pickle.load(file)"
   ]
  },
  {
   "cell_type": "code",
   "execution_count": 8,
   "id": "owned-range",
   "metadata": {},
   "outputs": [
    {
     "name": "stdout",
     "output_type": "stream",
     "text": [
      "11\n",
      "['E' 'M' 'E' 'M' 'M' 'M' 'E' 'M' 'E' 'E' 'E']\n",
      "11\n"
     ]
    }
   ],
   "source": [
    "import numpy as np\n",
    "\n",
    "y_pred = model.predict(X_test)\n",
    "y_prob = model.predict_proba(X_test)\n",
    "print(len(y_pred))\n",
    "print(y_pred)\n",
    "\n",
    "prob_list = list()\n",
    "for i in range(0,len(y_prob)):\n",
    "    result = y_prob[i]\n",
    "    maxx = np.argmax(result)\n",
    "    prob_i = result[maxx]\n",
    "    prob_list.append(prob_i)\n",
    "print(len(prob_list))"
   ]
  },
  {
   "cell_type": "code",
   "execution_count": 9,
   "id": "accessory-thousand",
   "metadata": {},
   "outputs": [
    {
     "name": "stdout",
     "output_type": "stream",
     "text": [
      "[0.6925188277497454, 0.6576451502801308, 0.8269840715411909, 0.5753330439835163, 0.5379987262176342, 0.7960801914446448, 0.6207974155563615, 0.6613006867782205, 0.9734979119670576, 0.6992371534978703, 0.8320826230612124]\n"
     ]
    }
   ],
   "source": [
    "print(prob_list)"
   ]
  },
  {
   "cell_type": "code",
   "execution_count": 10,
   "id": "emerging-signal",
   "metadata": {},
   "outputs": [
    {
     "data": {
      "text/html": [
       "<div>\n",
       "<style scoped>\n",
       "    .dataframe tbody tr th:only-of-type {\n",
       "        vertical-align: middle;\n",
       "    }\n",
       "\n",
       "    .dataframe tbody tr th {\n",
       "        vertical-align: top;\n",
       "    }\n",
       "\n",
       "    .dataframe thead th {\n",
       "        text-align: right;\n",
       "    }\n",
       "</style>\n",
       "<table border=\"1\" class=\"dataframe\">\n",
       "  <thead>\n",
       "    <tr style=\"text-align: right;\">\n",
       "      <th></th>\n",
       "      <th>Unnamed: 0</th>\n",
       "      <th>Unnamed: 0.1</th>\n",
       "      <th>Code</th>\n",
       "      <th>classes</th>\n",
       "      <th>subclass</th>\n",
       "      <th>classes_binary</th>\n",
       "      <th>MCV</th>\n",
       "      <th>MCH</th>\n",
       "      <th>Hb</th>\n",
       "      <th>typeBEvsBM</th>\n",
       "      <th>fold</th>\n",
       "      <th>Category</th>\n",
       "      <th>Prob</th>\n",
       "    </tr>\n",
       "  </thead>\n",
       "  <tbody>\n",
       "    <tr>\n",
       "      <th>0</th>\n",
       "      <td>16</td>\n",
       "      <td>18</td>\n",
       "      <td>HN20</td>\n",
       "      <td>HN</td>\n",
       "      <td>No_Splenectomy</td>\n",
       "      <td>1.0</td>\n",
       "      <td>69.5</td>\n",
       "      <td>20.5</td>\n",
       "      <td>6.1</td>\n",
       "      <td>E</td>\n",
       "      <td>3</td>\n",
       "      <td>E</td>\n",
       "      <td>0.692519</td>\n",
       "    </tr>\n",
       "    <tr>\n",
       "      <th>1</th>\n",
       "      <td>17</td>\n",
       "      <td>31</td>\n",
       "      <td>HN27</td>\n",
       "      <td>HN</td>\n",
       "      <td>Splenectomy</td>\n",
       "      <td>1.0</td>\n",
       "      <td>77.1</td>\n",
       "      <td>24.1</td>\n",
       "      <td>7.8</td>\n",
       "      <td>E</td>\n",
       "      <td>3</td>\n",
       "      <td>M</td>\n",
       "      <td>0.657645</td>\n",
       "    </tr>\n",
       "    <tr>\n",
       "      <th>2</th>\n",
       "      <td>18</td>\n",
       "      <td>36</td>\n",
       "      <td>HN31</td>\n",
       "      <td>HN</td>\n",
       "      <td>No_Splenectomy</td>\n",
       "      <td>1.0</td>\n",
       "      <td>67.7</td>\n",
       "      <td>21.3</td>\n",
       "      <td>6.0</td>\n",
       "      <td>E</td>\n",
       "      <td>3</td>\n",
       "      <td>E</td>\n",
       "      <td>0.826984</td>\n",
       "    </tr>\n",
       "    <tr>\n",
       "      <th>3</th>\n",
       "      <td>19</td>\n",
       "      <td>1</td>\n",
       "      <td>HN38</td>\n",
       "      <td>HN</td>\n",
       "      <td>No_Splenectomy</td>\n",
       "      <td>1.0</td>\n",
       "      <td>72.9</td>\n",
       "      <td>22.6</td>\n",
       "      <td>8.0</td>\n",
       "      <td>E</td>\n",
       "      <td>3</td>\n",
       "      <td>M</td>\n",
       "      <td>0.575333</td>\n",
       "    </tr>\n",
       "    <tr>\n",
       "      <th>4</th>\n",
       "      <td>20</td>\n",
       "      <td>48</td>\n",
       "      <td>HN23</td>\n",
       "      <td>HN</td>\n",
       "      <td>Splenectomy</td>\n",
       "      <td>1.0</td>\n",
       "      <td>85.9</td>\n",
       "      <td>27.0</td>\n",
       "      <td>5.0</td>\n",
       "      <td>E</td>\n",
       "      <td>3</td>\n",
       "      <td>M</td>\n",
       "      <td>0.537999</td>\n",
       "    </tr>\n",
       "  </tbody>\n",
       "</table>\n",
       "</div>"
      ],
      "text/plain": [
       "   Unnamed: 0  Unnamed: 0.1  Code classes        subclass  classes_binary  \\\n",
       "0          16            18  HN20      HN  No_Splenectomy             1.0   \n",
       "1          17            31  HN27      HN     Splenectomy             1.0   \n",
       "2          18            36  HN31      HN  No_Splenectomy             1.0   \n",
       "3          19             1  HN38      HN  No_Splenectomy             1.0   \n",
       "4          20            48  HN23      HN     Splenectomy             1.0   \n",
       "\n",
       "    MCV   MCH   Hb typeBEvsBM  fold Category      Prob  \n",
       "0  69.5  20.5  6.1          E     3        E  0.692519  \n",
       "1  77.1  24.1  7.8          E     3        M  0.657645  \n",
       "2  67.7  21.3  6.0          E     3        E  0.826984  \n",
       "3  72.9  22.6  8.0          E     3        M  0.575333  \n",
       "4  85.9  27.0  5.0          E     3        M  0.537999  "
      ]
     },
     "execution_count": 10,
     "metadata": {},
     "output_type": "execute_result"
    }
   ],
   "source": [
    "feature_valid['Category'] = y_pred\n",
    "feature_valid['Prob'] = prob_list\n",
    "feature_valid.head()"
   ]
  },
  {
   "cell_type": "code",
   "execution_count": 11,
   "id": "flexible-puppy",
   "metadata": {},
   "outputs": [
    {
     "name": "stdout",
     "output_type": "stream",
     "text": [
      "Classifier accuracy = 27.272727272727273%\n",
      "====================================================================================================\n",
      "              precision    recall  f1-score   support\n",
      "\n",
      "           E       0.50      0.38      0.43         8\n",
      "           M       0.00      0.00      0.00         3\n",
      "\n",
      "    accuracy                           0.27        11\n",
      "   macro avg       0.25      0.19      0.21        11\n",
      "weighted avg       0.36      0.27      0.31        11\n",
      "\n"
     ]
    }
   ],
   "source": [
    "act = feature_valid['typeBEvsBM'].tolist()\n",
    "pred = feature_valid['Category'].tolist()\n",
    "#Marking the Confusion Matrix\n",
    "from sklearn.metrics import classification_report,confusion_matrix\n",
    "# confusion_matrix(act, pred)\n",
    "cmat = confusion_matrix(act, pred)\n",
    "print('Classifier accuracy = {}%'.format((100.*np.trace(cmat))/(np.sum(cmat))))\n",
    "print(\"=\"*100)\n",
    "print(classification_report(act, pred))#performance"
   ]
  },
  {
   "cell_type": "code",
   "execution_count": 12,
   "id": "regulated-answer",
   "metadata": {},
   "outputs": [
    {
     "data": {
      "text/plain": [
       "Text(0.5, 21.5, 'Predicted label')"
      ]
     },
     "execution_count": 12,
     "metadata": {},
     "output_type": "execute_result"
    },
    {
     "data": {
      "image/png": "[encoded data removed]",
      "text/plain": [
       "<Figure size 576x360 with 2 Axes>"
      ]
     },
     "metadata": {},
     "output_type": "display_data"
    }
   ],
   "source": [
    "#create CF \n",
    "data = {'Actual': act,'Predicted' : pred,}\n",
    "df = pd.DataFrame(data, columns=['Actual','Predicted'])\n",
    "conf_mat = pd.crosstab(df['Actual'],df['Predicted'],rownames=['Actual'],colnames=['Predicted'])\n",
    "\n",
    "#Confusion matrix\n",
    "from sklearn.metrics import confusion_matrix\n",
    "import matplotlib.pyplot as plt\n",
    "cm = confusion_matrix(act, pred)\n",
    "\n",
    "#plot Confusion matrix\n",
    "import seaborn as sns\n",
    "sns.set()\n",
    "fig, ax = plt.subplots(figsize=(8, 5))\n",
    "\n",
    "ax = sns.heatmap(conf_mat, annot=True, fmt=\"d\", cmap=\"YlGnBu\") #Blues,Oranges,Reds\n",
    "ax.set_title('Confusion matrix',fontsize=20)\n",
    "ax.set_ylabel('True label',fontsize=18)\n",
    "ax.set_xlabel('Predicted label',fontsize=18)"
   ]
  },
  {
   "cell_type": "code",
   "execution_count": 13,
   "id": "friendly-influence",
   "metadata": {},
   "outputs": [
    {
     "data": {
      "text/plain": [
       "array([[3, 5],\n",
       "       [3, 0]])"
      ]
     },
     "execution_count": 13,
     "metadata": {},
     "output_type": "execute_result"
    }
   ],
   "source": [
    "cm"
   ]
  },
  {
   "cell_type": "code",
   "execution_count": 14,
   "id": "banner-executive",
   "metadata": {},
   "outputs": [
    {
     "name": "stdout",
     "output_type": "stream",
     "text": [
      "True Negative (TN): 3\n",
      "False Positive (FP): 5\n",
      "False Negative (FN): 3\n",
      "True Positive (TP): 0\n"
     ]
    }
   ],
   "source": [
    "tn, fp, fn, tp = confusion_matrix(act, pred).ravel()\n",
    "print(\"True Negative (TN):\", tn)\n",
    "print(\"False Positive (FP):\", fp)\n",
    "print(\"False Negative (FN):\", fn)\n",
    "print(\"True Positive (TP):\", tp)"
   ]
  },
  {
   "cell_type": "code",
   "execution_count": null,
   "id": "d8456750",
   "metadata": {},
   "outputs": [],
   "source": []
  },
  {
   "cell_type": "code",
   "execution_count": null,
   "id": "9e3fc682",
   "metadata": {},
   "outputs": [],
   "source": []
  },
  {
   "cell_type": "code",
   "execution_count": null,
   "id": "188d7d00",
   "metadata": {},
   "outputs": [],
   "source": []
  },
  {
   "cell_type": "code",
   "execution_count": null,
   "id": "ebe8ce0a",
   "metadata": {},
   "outputs": [],
   "source": []
  }
 ],
 "metadata": {
  "kernelspec": {
   "display_name": "AI",
   "language": "python",
   "name": "ai"
  },
  "language_info": {
   "codemirror_mode": {
    "name": "ipython",
    "version": 3
   },
   "file_extension": ".py",
   "mimetype": "text/x-python",
   "name": "python",
   "nbconvert_exporter": "python",
   "pygments_lexer": "ipython3",
   "version": "3.6.9"
  }
 },
 "nbformat": 4,
 "nbformat_minor": 5
}
