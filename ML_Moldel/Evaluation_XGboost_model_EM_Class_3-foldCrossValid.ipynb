{
 "cells": [
  {
   "cell_type": "code",
   "execution_count": 1,
   "id": "optical-archive",
   "metadata": {},
   "outputs": [],
   "source": [
    "import pandas as pd\n",
    "import os\n",
    "from sklearn.ensemble import RandomForestClassifier\n",
    "from sklearn.model_selection import GridSearchCV\n",
    "from sklearn.ensemble import BaggingClassifier\n",
    "from sklearn.metrics import precision_recall_fscore_support\n",
    "from sklearn.model_selection import train_test_split\n",
    "from sklearn.metrics import accuracy_score"
   ]
  },
  {
   "cell_type": "markdown",
   "id": "lightweight-thing",
   "metadata": {},
   "source": [
    "# 📂DATA : 2 Classes"
   ]
  },
  {
   "cell_type": "code",
   "execution_count": 26,
   "id": "featured-washington",
   "metadata": {},
   "outputs": [],
   "source": [
    "fold = 3"
   ]
  },
  {
   "cell_type": "code",
   "execution_count": 27,
   "id": "ignored-science",
   "metadata": {},
   "outputs": [
    {
     "name": "stdout",
     "output_type": "stream",
     "text": [
      "(33, 11)\n",
      "----------------------------------------------------------------------------------------------------\n",
      "All Fold : {1, 2, 3}\n",
      "Train Set : Fold ==> {1, 2}\n",
      "Train =  (22, 11)\n",
      "Valiadtion Set : Fold ==> {3}\n",
      "Validation =  (11, 11)\n"
     ]
    },
    {
     "data": {
      "text/html": [
       "<div>\n",
       "<style scoped>\n",
       "    .dataframe tbody tr th:only-of-type {\n",
       "        vertical-align: middle;\n",
       "    }\n",
       "\n",
       "    .dataframe tbody tr th {\n",
       "        vertical-align: top;\n",
       "    }\n",
       "\n",
       "    .dataframe thead th {\n",
       "        text-align: right;\n",
       "    }\n",
       "</style>\n",
       "<table border=\"1\" class=\"dataframe\">\n",
       "  <thead>\n",
       "    <tr style=\"text-align: right;\">\n",
       "      <th></th>\n",
       "      <th>Unnamed: 0</th>\n",
       "      <th>Unnamed: 0.1</th>\n",
       "      <th>Code</th>\n",
       "      <th>classes</th>\n",
       "      <th>subclass</th>\n",
       "      <th>classes_binary</th>\n",
       "      <th>MCV</th>\n",
       "      <th>MCH</th>\n",
       "      <th>Hb</th>\n",
       "      <th>typeBEvsBM</th>\n",
       "      <th>fold</th>\n",
       "    </tr>\n",
       "  </thead>\n",
       "  <tbody>\n",
       "    <tr>\n",
       "      <th>0</th>\n",
       "      <td>16</td>\n",
       "      <td>18</td>\n",
       "      <td>HN20</td>\n",
       "      <td>HN</td>\n",
       "      <td>No_Splenectomy</td>\n",
       "      <td>1.0</td>\n",
       "      <td>69.5</td>\n",
       "      <td>20.5</td>\n",
       "      <td>6.1</td>\n",
       "      <td>E</td>\n",
       "      <td>3</td>\n",
       "    </tr>\n",
       "    <tr>\n",
       "      <th>1</th>\n",
       "      <td>17</td>\n",
       "      <td>31</td>\n",
       "      <td>HN27</td>\n",
       "      <td>HN</td>\n",
       "      <td>Splenectomy</td>\n",
       "      <td>1.0</td>\n",
       "      <td>77.1</td>\n",
       "      <td>24.1</td>\n",
       "      <td>7.8</td>\n",
       "      <td>E</td>\n",
       "      <td>3</td>\n",
       "    </tr>\n",
       "    <tr>\n",
       "      <th>2</th>\n",
       "      <td>18</td>\n",
       "      <td>36</td>\n",
       "      <td>HN31</td>\n",
       "      <td>HN</td>\n",
       "      <td>No_Splenectomy</td>\n",
       "      <td>1.0</td>\n",
       "      <td>67.7</td>\n",
       "      <td>21.3</td>\n",
       "      <td>6.0</td>\n",
       "      <td>E</td>\n",
       "      <td>3</td>\n",
       "    </tr>\n",
       "    <tr>\n",
       "      <th>3</th>\n",
       "      <td>19</td>\n",
       "      <td>1</td>\n",
       "      <td>HN38</td>\n",
       "      <td>HN</td>\n",
       "      <td>No_Splenectomy</td>\n",
       "      <td>1.0</td>\n",
       "      <td>72.9</td>\n",
       "      <td>22.6</td>\n",
       "      <td>8.0</td>\n",
       "      <td>E</td>\n",
       "      <td>3</td>\n",
       "    </tr>\n",
       "    <tr>\n",
       "      <th>4</th>\n",
       "      <td>20</td>\n",
       "      <td>48</td>\n",
       "      <td>HN23</td>\n",
       "      <td>HN</td>\n",
       "      <td>Splenectomy</td>\n",
       "      <td>1.0</td>\n",
       "      <td>85.9</td>\n",
       "      <td>27.0</td>\n",
       "      <td>5.0</td>\n",
       "      <td>E</td>\n",
       "      <td>3</td>\n",
       "    </tr>\n",
       "  </tbody>\n",
       "</table>\n",
       "</div>"
      ],
      "text/plain": [
       "   Unnamed: 0  Unnamed: 0.1  Code classes        subclass  classes_binary  \\\n",
       "0          16            18  HN20      HN  No_Splenectomy             1.0   \n",
       "1          17            31  HN27      HN     Splenectomy             1.0   \n",
       "2          18            36  HN31      HN  No_Splenectomy             1.0   \n",
       "3          19             1  HN38      HN  No_Splenectomy             1.0   \n",
       "4          20            48  HN23      HN     Splenectomy             1.0   \n",
       "\n",
       "    MCV   MCH   Hb typeBEvsBM  fold  \n",
       "0  69.5  20.5  6.1          E     3  \n",
       "1  77.1  24.1  7.8          E     3  \n",
       "2  67.7  21.3  6.0          E     3  \n",
       "3  72.9  22.6  8.0          E     3  \n",
       "4  85.9  27.0  5.0          E     3  "
      ]
     },
     "execution_count": 27,
     "metadata": {},
     "output_type": "execute_result"
    }
   ],
   "source": [
    "path = \"/home/kannika/code/Rheology2023/Rheology_Blood/DataBlood_Viscosity_TrainML_3Fold_EMclass.csv\"\n",
    "data_feature = pd.read_csv(path)\n",
    "print(data_feature.shape)\n",
    "print(\"-\"*100)\n",
    "print(f\"All Fold : {set(data_feature.fold)}\")\n",
    "## Split Train data Set\n",
    "feature_train = data_feature[data_feature[\"fold\"]!=fold].reset_index(drop=True)\n",
    "print(f\"Train Set : Fold ==> {set(feature_train.fold)}\")\n",
    "print(\"Train = \", feature_train.shape)\n",
    "## Split Valid data Set\n",
    "feature_valid = data_feature[data_feature[\"fold\"]==fold].reset_index(drop=True)\n",
    "print(f\"Valiadtion Set : Fold ==> {set(feature_valid.fold)}\")\n",
    "print(\"Validation = \", feature_valid.shape)\n",
    "## Print DataFrame\n",
    "feature_valid.head()"
   ]
  },
  {
   "cell_type": "code",
   "execution_count": 28,
   "id": "wound-japanese",
   "metadata": {},
   "outputs": [
    {
     "name": "stdout",
     "output_type": "stream",
     "text": [
      "(11, 3)\n",
      "(11,)\n",
      "E\n"
     ]
    }
   ],
   "source": [
    "X_test = feature_valid[['MCV','MCH','Hb']]\n",
    "y_test = feature_valid[\"typeBEvsBM\"]\n",
    "print(X_test.shape)\n",
    "print(y_test.shape)\n",
    "print(y_test[0])"
   ]
  },
  {
   "cell_type": "code",
   "execution_count": 29,
   "id": "respiratory-storm",
   "metadata": {},
   "outputs": [
    {
     "name": "stdout",
     "output_type": "stream",
     "text": [
      "2\n",
      "{'E', 'M'}\n"
     ]
    }
   ],
   "source": [
    "print(len(set(y_test)))\n",
    "print(set(y_test))"
   ]
  },
  {
   "cell_type": "markdown",
   "id": "hollywood-transportation",
   "metadata": {},
   "source": [
    "## 🚀Load Model"
   ]
  },
  {
   "cell_type": "code",
   "execution_count": 30,
   "id": "interim-armstrong",
   "metadata": {},
   "outputs": [
    {
     "name": "stdout",
     "output_type": "stream",
     "text": [
      "[INFO]: Load Model from: /media/tohn/HDD/rheology2023/ML_Model/Blood_Viscosity/typeBEvsBM_Classes/fold3/XGboost_Model_typeBEvsBM_Class_fold3.pkl\n"
     ]
    }
   ],
   "source": [
    "#load model\n",
    "import pickle\n",
    "\n",
    "model_path = f\"/media/tohn/HDD/rheology2023/ML_Model/Blood_Viscosity/typeBEvsBM_Classes/fold{fold}/XGboost_Model_typeBEvsBM_Class_fold{fold}.pkl\"\n",
    "print(f\"[INFO]: Load Model from: {model_path}\")\n",
    "with open(model_path, 'rb') as file:\n",
    "    model = pickle.load(file)"
   ]
  },
  {
   "cell_type": "code",
   "execution_count": 31,
   "id": "owned-range",
   "metadata": {},
   "outputs": [
    {
     "name": "stdout",
     "output_type": "stream",
     "text": [
      "11\n",
      "['E' 'M' 'E' 'M' 'E' 'E' 'E' 'M' 'E' 'M' 'E']\n",
      "11\n"
     ]
    }
   ],
   "source": [
    "import numpy as np\n",
    "\n",
    "y_pred = model.predict(X_test)\n",
    "y_prob = model.predict_proba(X_test)\n",
    "print(len(y_pred))\n",
    "print(y_pred)\n",
    "\n",
    "prob_list = list()\n",
    "for i in range(0,len(y_prob)):\n",
    "    result = y_prob[i]\n",
    "    maxx = np.argmax(result)\n",
    "    prob_i = result[maxx]\n",
    "    prob_list.append(prob_i)\n",
    "print(len(prob_list))"
   ]
  },
  {
   "cell_type": "code",
   "execution_count": 32,
   "id": "accessory-thousand",
   "metadata": {},
   "outputs": [
    {
     "name": "stdout",
     "output_type": "stream",
     "text": [
      "[0.75294065, 0.61986494, 0.75294065, 0.61986494, 0.75294065, 0.56263256, 0.75294065, 0.61986494, 0.75294065, 0.61986494, 0.75294065]\n"
     ]
    }
   ],
   "source": [
    "print(prob_list)"
   ]
  },
  {
   "cell_type": "code",
   "execution_count": 33,
   "id": "emerging-signal",
   "metadata": {},
   "outputs": [
    {
     "data": {
      "text/html": [
       "<div>\n",
       "<style scoped>\n",
       "    .dataframe tbody tr th:only-of-type {\n",
       "        vertical-align: middle;\n",
       "    }\n",
       "\n",
       "    .dataframe tbody tr th {\n",
       "        vertical-align: top;\n",
       "    }\n",
       "\n",
       "    .dataframe thead th {\n",
       "        text-align: right;\n",
       "    }\n",
       "</style>\n",
       "<table border=\"1\" class=\"dataframe\">\n",
       "  <thead>\n",
       "    <tr style=\"text-align: right;\">\n",
       "      <th></th>\n",
       "      <th>Unnamed: 0</th>\n",
       "      <th>Unnamed: 0.1</th>\n",
       "      <th>Code</th>\n",
       "      <th>classes</th>\n",
       "      <th>subclass</th>\n",
       "      <th>classes_binary</th>\n",
       "      <th>MCV</th>\n",
       "      <th>MCH</th>\n",
       "      <th>Hb</th>\n",
       "      <th>typeBEvsBM</th>\n",
       "      <th>fold</th>\n",
       "      <th>Category</th>\n",
       "      <th>Prob</th>\n",
       "    </tr>\n",
       "  </thead>\n",
       "  <tbody>\n",
       "    <tr>\n",
       "      <th>0</th>\n",
       "      <td>16</td>\n",
       "      <td>18</td>\n",
       "      <td>HN20</td>\n",
       "      <td>HN</td>\n",
       "      <td>No_Splenectomy</td>\n",
       "      <td>1.0</td>\n",
       "      <td>69.5</td>\n",
       "      <td>20.5</td>\n",
       "      <td>6.1</td>\n",
       "      <td>E</td>\n",
       "      <td>3</td>\n",
       "      <td>E</td>\n",
       "      <td>0.752941</td>\n",
       "    </tr>\n",
       "    <tr>\n",
       "      <th>1</th>\n",
       "      <td>17</td>\n",
       "      <td>31</td>\n",
       "      <td>HN27</td>\n",
       "      <td>HN</td>\n",
       "      <td>Splenectomy</td>\n",
       "      <td>1.0</td>\n",
       "      <td>77.1</td>\n",
       "      <td>24.1</td>\n",
       "      <td>7.8</td>\n",
       "      <td>E</td>\n",
       "      <td>3</td>\n",
       "      <td>M</td>\n",
       "      <td>0.619865</td>\n",
       "    </tr>\n",
       "    <tr>\n",
       "      <th>2</th>\n",
       "      <td>18</td>\n",
       "      <td>36</td>\n",
       "      <td>HN31</td>\n",
       "      <td>HN</td>\n",
       "      <td>No_Splenectomy</td>\n",
       "      <td>1.0</td>\n",
       "      <td>67.7</td>\n",
       "      <td>21.3</td>\n",
       "      <td>6.0</td>\n",
       "      <td>E</td>\n",
       "      <td>3</td>\n",
       "      <td>E</td>\n",
       "      <td>0.752941</td>\n",
       "    </tr>\n",
       "    <tr>\n",
       "      <th>3</th>\n",
       "      <td>19</td>\n",
       "      <td>1</td>\n",
       "      <td>HN38</td>\n",
       "      <td>HN</td>\n",
       "      <td>No_Splenectomy</td>\n",
       "      <td>1.0</td>\n",
       "      <td>72.9</td>\n",
       "      <td>22.6</td>\n",
       "      <td>8.0</td>\n",
       "      <td>E</td>\n",
       "      <td>3</td>\n",
       "      <td>M</td>\n",
       "      <td>0.619865</td>\n",
       "    </tr>\n",
       "    <tr>\n",
       "      <th>4</th>\n",
       "      <td>20</td>\n",
       "      <td>48</td>\n",
       "      <td>HN23</td>\n",
       "      <td>HN</td>\n",
       "      <td>Splenectomy</td>\n",
       "      <td>1.0</td>\n",
       "      <td>85.9</td>\n",
       "      <td>27.0</td>\n",
       "      <td>5.0</td>\n",
       "      <td>E</td>\n",
       "      <td>3</td>\n",
       "      <td>E</td>\n",
       "      <td>0.752941</td>\n",
       "    </tr>\n",
       "  </tbody>\n",
       "</table>\n",
       "</div>"
      ],
      "text/plain": [
       "   Unnamed: 0  Unnamed: 0.1  Code classes        subclass  classes_binary  \\\n",
       "0          16            18  HN20      HN  No_Splenectomy             1.0   \n",
       "1          17            31  HN27      HN     Splenectomy             1.0   \n",
       "2          18            36  HN31      HN  No_Splenectomy             1.0   \n",
       "3          19             1  HN38      HN  No_Splenectomy             1.0   \n",
       "4          20            48  HN23      HN     Splenectomy             1.0   \n",
       "\n",
       "    MCV   MCH   Hb typeBEvsBM  fold Category      Prob  \n",
       "0  69.5  20.5  6.1          E     3        E  0.752941  \n",
       "1  77.1  24.1  7.8          E     3        M  0.619865  \n",
       "2  67.7  21.3  6.0          E     3        E  0.752941  \n",
       "3  72.9  22.6  8.0          E     3        M  0.619865  \n",
       "4  85.9  27.0  5.0          E     3        E  0.752941  "
      ]
     },
     "execution_count": 33,
     "metadata": {},
     "output_type": "execute_result"
    }
   ],
   "source": [
    "feature_valid['Category'] = y_pred\n",
    "feature_valid['Prob'] = prob_list\n",
    "feature_valid.head()"
   ]
  },
  {
   "cell_type": "code",
   "execution_count": 34,
   "id": "flexible-puppy",
   "metadata": {},
   "outputs": [
    {
     "name": "stdout",
     "output_type": "stream",
     "text": [
      "Classifier accuracy = 54.54545454545455%\n",
      "====================================================================================================\n",
      "              precision    recall  f1-score   support\n",
      "\n",
      "           E       0.71      0.62      0.67         8\n",
      "           M       0.25      0.33      0.29         3\n",
      "\n",
      "    accuracy                           0.55        11\n",
      "   macro avg       0.48      0.48      0.48        11\n",
      "weighted avg       0.59      0.55      0.56        11\n",
      "\n"
     ]
    }
   ],
   "source": [
    "act = feature_valid['typeBEvsBM'].tolist()\n",
    "pred = feature_valid['Category'].tolist()\n",
    "#Marking the Confusion Matrix\n",
    "from sklearn.metrics import classification_report,confusion_matrix\n",
    "# confusion_matrix(act, pred)\n",
    "cmat = confusion_matrix(act, pred)\n",
    "print('Classifier accuracy = {}%'.format((100.*np.trace(cmat))/(np.sum(cmat))))\n",
    "print(\"=\"*100)\n",
    "print(classification_report(act, pred))#performance"
   ]
  },
  {
   "cell_type": "code",
   "execution_count": 35,
   "id": "regulated-answer",
   "metadata": {},
   "outputs": [
    {
     "data": {
      "text/plain": [
       "Text(0.5, 21.5, 'Predicted label')"
      ]
     },
     "execution_count": 35,
     "metadata": {},
     "output_type": "execute_result"
    },
    {
     "data": {
      "image/png": "[encoded data removed]",
      "text/plain": [
       "<Figure size 576x360 with 2 Axes>"
      ]
     },
     "metadata": {},
     "output_type": "display_data"
    }
   ],
   "source": [
    "#create CF \n",
    "data = {'Actual': act,'Predicted' : pred,}\n",
    "df = pd.DataFrame(data, columns=['Actual','Predicted'])\n",
    "conf_mat = pd.crosstab(df['Actual'],df['Predicted'],rownames=['Actual'],colnames=['Predicted'])\n",
    "\n",
    "#Confusion matrix\n",
    "from sklearn.metrics import confusion_matrix\n",
    "import matplotlib.pyplot as plt\n",
    "cm = confusion_matrix(act, pred)\n",
    "\n",
    "#plot Confusion matrix\n",
    "import seaborn as sns\n",
    "sns.set()\n",
    "fig, ax = plt.subplots(figsize=(8, 5))\n",
    "\n",
    "ax = sns.heatmap(conf_mat, annot=True, fmt=\"d\", cmap=\"YlGnBu\") #Blues,Oranges,Reds\n",
    "ax.set_title('Confusion matrix',fontsize=20)\n",
    "ax.set_ylabel('True label',fontsize=18)\n",
    "ax.set_xlabel('Predicted label',fontsize=18)"
   ]
  },
  {
   "cell_type": "code",
   "execution_count": 36,
   "id": "friendly-influence",
   "metadata": {},
   "outputs": [
    {
     "data": {
      "text/plain": [
       "array([[5, 3],\n",
       "       [2, 1]])"
      ]
     },
     "execution_count": 36,
     "metadata": {},
     "output_type": "execute_result"
    }
   ],
   "source": [
    "cm"
   ]
  },
  {
   "cell_type": "code",
   "execution_count": 37,
   "id": "banner-executive",
   "metadata": {},
   "outputs": [
    {
     "name": "stdout",
     "output_type": "stream",
     "text": [
      "True Negative: 5\n",
      "False Positive: 3\n",
      "False Negative: 2\n",
      "True Positive: 1\n"
     ]
    }
   ],
   "source": [
    "tn, fp, fn, tp = confusion_matrix(act, pred).ravel()\n",
    "print(\"True Negative:\", tn)\n",
    "print(\"False Positive:\", fp)\n",
    "print(\"False Negative:\", fn)\n",
    "print(\"True Positive:\", tp)"
   ]
  },
  {
   "cell_type": "code",
   "execution_count": null,
   "id": "357cefe4",
   "metadata": {},
   "outputs": [],
   "source": []
  },
  {
   "cell_type": "code",
   "execution_count": null,
   "id": "a97daa18",
   "metadata": {},
   "outputs": [],
   "source": []
  },
  {
   "cell_type": "code",
   "execution_count": null,
   "id": "daac499c",
   "metadata": {},
   "outputs": [],
   "source": []
  },
  {
   "cell_type": "code",
   "execution_count": null,
   "id": "6e83ae86",
   "metadata": {},
   "outputs": [],
   "source": []
  }
 ],
 "metadata": {
  "kernelspec": {
   "display_name": "AI",
   "language": "python",
   "name": "ai"
  },
  "language_info": {
   "codemirror_mode": {
    "name": "ipython",
    "version": 3
   },
   "file_extension": ".py",
   "mimetype": "text/x-python",
   "name": "python",
   "nbconvert_exporter": "python",
   "pygments_lexer": "ipython3",
   "version": "3.6.9"
  }
 },
 "nbformat": 4,
 "nbformat_minor": 5
}
