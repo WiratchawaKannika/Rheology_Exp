{
 "cells": [
  {
   "cell_type": "code",
   "execution_count": 1,
   "id": "experienced-making",
   "metadata": {},
   "outputs": [],
   "source": [
    "import os\n",
    "os.environ[\"CUDA_DEVICE_ORDER\"]=\"PCI_BUS_ID\"  \n",
    "os.environ[\"CUDA_VISIBLE_DEVICES\"]=\"0\""
   ]
  },
  {
   "cell_type": "code",
   "execution_count": 2,
   "id": "metric-layout",
   "metadata": {},
   "outputs": [
    {
     "name": "stderr",
     "output_type": "stream",
     "text": [
      "2024-01-31 16:03:47.058999: I tensorflow/core/platform/cpu_feature_guard.cc:193] This TensorFlow binary is optimized with oneAPI Deep Neural Network Library (oneDNN) to use the following CPU instructions in performance-critical operations:  AVX2 AVX512F AVX512_VNNI FMA\n",
      "To enable them in other operations, rebuild TensorFlow with the appropriate compiler flags.\n",
      "2024-01-31 16:03:47.160946: I tensorflow/core/util/port.cc:104] oneDNN custom operations are on. You may see slightly different numerical results due to floating-point round-off errors from different computation orders. To turn them off, set the environment variable `TF_ENABLE_ONEDNN_OPTS=0`.\n",
      "2024-01-31 16:03:47.636831: W tensorflow/compiler/xla/stream_executor/platform/default/dso_loader.cc:64] Could not load dynamic library 'libnvinfer.so.7'; dlerror: libnvinfer.so.7: cannot open shared object file: No such file or directory; LD_LIBRARY_PATH: :/home/kannika/miniconda3/envs/AI/lib/\n",
      "2024-01-31 16:03:47.636880: W tensorflow/compiler/xla/stream_executor/platform/default/dso_loader.cc:64] Could not load dynamic library 'libnvinfer_plugin.so.7'; dlerror: libnvinfer_plugin.so.7: cannot open shared object file: No such file or directory; LD_LIBRARY_PATH: :/home/kannika/miniconda3/envs/AI/lib/\n",
      "2024-01-31 16:03:47.636885: W tensorflow/compiler/tf2tensorrt/utils/py_utils.cc:38] TF-TRT Warning: Cannot dlopen some TensorRT libraries. If you would like to use Nvidia GPU with TensorRT, please make sure the missing libraries mentioned above are installed properly.\n",
      "/home/kannika/miniconda3/envs/tf/lib/python3.9/site-packages/tensorflow_addons/utils/ensure_tf_install.py:53: UserWarning: Tensorflow Addons supports using Python ops for all Tensorflow versions above or equal to 2.6.0 and strictly below 2.9.0 (nightly versions are not supported). \n",
      " The versions of TensorFlow you are currently using is 2.11.0 and is not supported. \n",
      "Some things might work, some things might not.\n",
      "If you were to encounter a bug, do not file an issue.\n",
      "If you want to make sure you're using a tested and supported configuration, either change the TensorFlow version or the TensorFlow Addons's version. \n",
      "You can find the compatibility matrix in TensorFlow Addon's readme:\n",
      "https://github.com/tensorflow/addons\n",
      "  warnings.warn(\n"
     ]
    }
   ],
   "source": [
    "from vit_keras import vit, utils\n",
    "import numpy as np\n",
    "from tensorflow.keras.models import load_model\n",
    "from tensorflow import keras\n",
    "import pandas as pd\n",
    "from tensorflow.keras.preprocessing import image\n",
    "\n",
    "from sklearn.metrics import (\n",
    "    confusion_matrix,\n",
    "    accuracy_score,\n",
    "    precision_score,\n",
    "    recall_score,\n",
    "    f1_score\n",
    ")"
   ]
  },
  {
   "cell_type": "markdown",
   "id": "editorial-figure",
   "metadata": {},
   "source": [
    "# Load model"
   ]
  },
  {
   "cell_type": "code",
   "execution_count": 16,
   "id": "killing-logan",
   "metadata": {},
   "outputs": [],
   "source": [
    "fold = 2"
   ]
  },
  {
   "cell_type": "code",
   "execution_count": 17,
   "id": "applied-river",
   "metadata": {
    "scrolled": true
   },
   "outputs": [
    {
     "name": "stdout",
     "output_type": "stream",
     "text": [
      "[INFO] Load Model: /media/tohn/HDD/rheology2023/ViTModel/Classification/Blood_Viscosity/EM_classes/fold2/R1/models/ViTb32_typeBEvsBMClass_fold2_R1.h5\n",
      "384 384\n",
      "Model: \"ViT_BloodClass\"\n",
      "_________________________________________________________________\n",
      " Layer (type)                Output Shape              Param #   \n",
      "=================================================================\n",
      " input_1 (InputLayer)        [(None, 384, 384, 3)]     0         \n",
      "                                                                 \n",
      " embedding (Conv2D)          (None, 12, 12, 768)       2360064   \n",
      "                                                                 \n",
      " reshape (Reshape)           (None, 144, 768)          0         \n",
      "                                                                 \n",
      " class_token (ClassToken)    (None, 145, 768)          768       \n",
      "                                                                 \n",
      " Transformer/posembed_input   (None, 145, 768)         111360    \n",
      " (AddPositionEmbs)                                               \n",
      "                                                                 \n",
      " Transformer/encoderblock_0   ((None, 145, 768),       7087872   \n",
      " (TransformerBlock)           (None, 12, None, None))            \n",
      "                                                                 \n",
      " Transformer/encoderblock_1   ((None, 145, 768),       7087872   \n",
      " (TransformerBlock)           (None, 12, None, None))            \n",
      "                                                                 \n",
      " Transformer/encoderblock_2   ((None, 145, 768),       7087872   \n",
      " (TransformerBlock)           (None, 12, None, None))            \n",
      "                                                                 \n",
      " Transformer/encoderblock_3   ((None, 145, 768),       7087872   \n",
      " (TransformerBlock)           (None, 12, None, None))            \n",
      "                                                                 \n",
      " Transformer/encoderblock_4   ((None, 145, 768),       7087872   \n",
      " (TransformerBlock)           (None, 12, None, None))            \n",
      "                                                                 \n",
      " Transformer/encoderblock_5   ((None, 145, 768),       7087872   \n",
      " (TransformerBlock)           (None, 12, None, None))            \n",
      "                                                                 \n",
      " Transformer/encoderblock_6   ((None, 145, 768),       7087872   \n",
      " (TransformerBlock)           (None, 12, None, None))            \n",
      "                                                                 \n",
      " Transformer/encoderblock_7   ((None, 145, 768),       7087872   \n",
      " (TransformerBlock)           (None, 12, None, None))            \n",
      "                                                                 \n",
      " Transformer/encoderblock_8   ((None, 145, 768),       7087872   \n",
      " (TransformerBlock)           (None, 12, None, None))            \n",
      "                                                                 \n",
      " Transformer/encoderblock_9   ((None, 145, 768),       7087872   \n",
      " (TransformerBlock)           (None, 12, None, None))            \n",
      "                                                                 \n",
      " Transformer/encoderblock_10  ((None, 145, 768),       7087872   \n",
      "  (TransformerBlock)          (None, 12, None, None))            \n",
      "                                                                 \n",
      " Transformer/encoderblock_11  ((None, 145, 768),       7087872   \n",
      "  (TransformerBlock)          (None, 12, None, None))            \n",
      "                                                                 \n",
      " Transformer/encoder_norm (L  (None, 145, 768)         1536      \n",
      " ayerNormalization)                                              \n",
      "                                                                 \n",
      " ExtractToken (Lambda)       (None, 768)               0         \n",
      "                                                                 \n",
      " flatten (Flatten)           (None, 768)               0         \n",
      "                                                                 \n",
      " BatchNormalization_1 (Batch  (None, 768)              3072      \n",
      " Normalization)                                                  \n",
      "                                                                 \n",
      " Dense_1 (Dense)             (None, 64)                49216     \n",
      "                                                                 \n",
      " Dense_2 (Dense)             (None, 32)                2080      \n",
      "                                                                 \n",
      " BatchNormalization_2 (Batch  (None, 32)               128       \n",
      " Normalization)                                                  \n",
      "                                                                 \n",
      " Pred_blood (Dense)          (None, 1)                 33        \n",
      "                                                                 \n",
      "=================================================================\n",
      "Total params: 87,582,721\n",
      "Trainable params: 87,581,121\n",
      "Non-trainable params: 1,600\n",
      "_________________________________________________________________\n"
     ]
    }
   ],
   "source": [
    "model_dir = f\"/media/tohn/HDD/rheology2023/ViTModel/Classification/Blood_Viscosity/EM_classes/fold{fold}/R1/models/ViTb32_typeBEvsBMClass_fold{fold}_R1.h5\"\n",
    "print(f\"[INFO] Load Model: {model_dir}\")\n",
    "model = keras.models.load_model(model_dir)\n",
    "height = width = model.input_shape[1]\n",
    "print(height, width)\n",
    "model.summary()"
   ]
  },
  {
   "cell_type": "code",
   "execution_count": null,
   "id": "korean-cleanup",
   "metadata": {},
   "outputs": [],
   "source": []
  },
  {
   "cell_type": "markdown",
   "id": "equipped-track",
   "metadata": {},
   "source": [
    "# DATA"
   ]
  },
  {
   "cell_type": "code",
   "execution_count": 18,
   "id": "worst-monaco",
   "metadata": {},
   "outputs": [
    {
     "name": "stdout",
     "output_type": "stream",
     "text": [
      "Fold Train set {1, 3}\n",
      "(112, 16)\n",
      "Fold Test set {2}\n",
      "(56, 16)\n"
     ]
    },
    {
     "data": {
      "text/html": [
       "<div>\n",
       "<style scoped>\n",
       "    .dataframe tbody tr th:only-of-type {\n",
       "        vertical-align: middle;\n",
       "    }\n",
       "\n",
       "    .dataframe tbody tr th {\n",
       "        vertical-align: top;\n",
       "    }\n",
       "\n",
       "    .dataframe thead th {\n",
       "        text-align: right;\n",
       "    }\n",
       "</style>\n",
       "<table border=\"1\" class=\"dataframe\">\n",
       "  <thead>\n",
       "    <tr style=\"text-align: right;\">\n",
       "      <th></th>\n",
       "      <th>Unnamed: 0.3</th>\n",
       "      <th>Unnamed: 0.2</th>\n",
       "      <th>Unnamed: 0.1</th>\n",
       "      <th>Unnamed: 0</th>\n",
       "      <th>image_name</th>\n",
       "      <th>image_path</th>\n",
       "      <th>image_folder</th>\n",
       "      <th>folder_source</th>\n",
       "      <th>classes</th>\n",
       "      <th>Code</th>\n",
       "      <th>subclass</th>\n",
       "      <th>dt</th>\n",
       "      <th>classes_binary</th>\n",
       "      <th>typeBEvsBM</th>\n",
       "      <th>fold</th>\n",
       "      <th>typeBEvsBM_binary</th>\n",
       "    </tr>\n",
       "  </thead>\n",
       "  <tbody>\n",
       "    <tr>\n",
       "      <th>0</th>\n",
       "      <td>56</td>\n",
       "      <td>56</td>\n",
       "      <td>3</td>\n",
       "      <td>3</td>\n",
       "      <td>HN01_D0_30HZ_20XINF_UWELL_20221027_155642_dt2_...</td>\n",
       "      <td>/media/tohn/HDD/rheology2023/Blood_Viscosity_2...</td>\n",
       "      <td>HN01_D0_30HZ_20XINF_UWELL_20221027_155642</td>\n",
       "      <td>SSD_Backup</td>\n",
       "      <td>HN</td>\n",
       "      <td>HN01</td>\n",
       "      <td>Splenectomy</td>\n",
       "      <td>[2, 5, 7]</td>\n",
       "      <td>1</td>\n",
       "      <td>E</td>\n",
       "      <td>2</td>\n",
       "      <td>0</td>\n",
       "    </tr>\n",
       "    <tr>\n",
       "      <th>1</th>\n",
       "      <td>57</td>\n",
       "      <td>57</td>\n",
       "      <td>79</td>\n",
       "      <td>79</td>\n",
       "      <td>HN17_D0_30HZ_20XINF_UWELL_25651201_143229_dt2_...</td>\n",
       "      <td>/media/tohn/HDD/rheology2023/Blood_Viscosity_2...</td>\n",
       "      <td>HN17_D0_30HZ_20XINF_UWELL_25651201_143229</td>\n",
       "      <td>SSD_Backup</td>\n",
       "      <td>HN</td>\n",
       "      <td>HN17</td>\n",
       "      <td>Splenectomy</td>\n",
       "      <td>[2, 5, 7]</td>\n",
       "      <td>1</td>\n",
       "      <td>E</td>\n",
       "      <td>2</td>\n",
       "      <td>0</td>\n",
       "    </tr>\n",
       "    <tr>\n",
       "      <th>2</th>\n",
       "      <td>58</td>\n",
       "      <td>58</td>\n",
       "      <td>238</td>\n",
       "      <td>238</td>\n",
       "      <td>HN35_D0_30HZ_20XINF_UWELL_25660131_162641_dt2_...</td>\n",
       "      <td>/media/tohn/HDD/rheology2023/Blood_Viscosity_2...</td>\n",
       "      <td>HN35_D0_30HZ_20XINF_UWELL_25660131_162641</td>\n",
       "      <td>SSD_Backup</td>\n",
       "      <td>HN</td>\n",
       "      <td>HN35</td>\n",
       "      <td>No_Splenectomy</td>\n",
       "      <td>[2, 5, 7]</td>\n",
       "      <td>1</td>\n",
       "      <td>E</td>\n",
       "      <td>2</td>\n",
       "      <td>0</td>\n",
       "    </tr>\n",
       "    <tr>\n",
       "      <th>3</th>\n",
       "      <td>59</td>\n",
       "      <td>59</td>\n",
       "      <td>10</td>\n",
       "      <td>10</td>\n",
       "      <td>HN01_D0_30HZ_20XINF_UWELL_20221027_162455_dt2_...</td>\n",
       "      <td>/media/tohn/HDD/rheology2023/Blood_Viscosity_2...</td>\n",
       "      <td>HN01_D0_30HZ_20XINF_UWELL_20221027_162455</td>\n",
       "      <td>SSD_Backup</td>\n",
       "      <td>HN</td>\n",
       "      <td>HN01</td>\n",
       "      <td>Splenectomy</td>\n",
       "      <td>[2, 5, 7]</td>\n",
       "      <td>1</td>\n",
       "      <td>E</td>\n",
       "      <td>2</td>\n",
       "      <td>0</td>\n",
       "    </tr>\n",
       "    <tr>\n",
       "      <th>4</th>\n",
       "      <td>60</td>\n",
       "      <td>60</td>\n",
       "      <td>7</td>\n",
       "      <td>7</td>\n",
       "      <td>HN01_D0_30HZ_20XINF_UWELL_20221027_161213_dt2_...</td>\n",
       "      <td>/media/tohn/HDD/rheology2023/Blood_Viscosity_2...</td>\n",
       "      <td>HN01_D0_30HZ_20XINF_UWELL_20221027_161213</td>\n",
       "      <td>SSD_Backup</td>\n",
       "      <td>HN</td>\n",
       "      <td>HN01</td>\n",
       "      <td>Splenectomy</td>\n",
       "      <td>[2, 5, 7]</td>\n",
       "      <td>1</td>\n",
       "      <td>E</td>\n",
       "      <td>2</td>\n",
       "      <td>0</td>\n",
       "    </tr>\n",
       "  </tbody>\n",
       "</table>\n",
       "</div>"
      ],
      "text/plain": [
       "   Unnamed: 0.3  Unnamed: 0.2  Unnamed: 0.1  Unnamed: 0  \\\n",
       "0            56            56             3           3   \n",
       "1            57            57            79          79   \n",
       "2            58            58           238         238   \n",
       "3            59            59            10          10   \n",
       "4            60            60             7           7   \n",
       "\n",
       "                                          image_name  \\\n",
       "0  HN01_D0_30HZ_20XINF_UWELL_20221027_155642_dt2_...   \n",
       "1  HN17_D0_30HZ_20XINF_UWELL_25651201_143229_dt2_...   \n",
       "2  HN35_D0_30HZ_20XINF_UWELL_25660131_162641_dt2_...   \n",
       "3  HN01_D0_30HZ_20XINF_UWELL_20221027_162455_dt2_...   \n",
       "4  HN01_D0_30HZ_20XINF_UWELL_20221027_161213_dt2_...   \n",
       "\n",
       "                                          image_path  \\\n",
       "0  /media/tohn/HDD/rheology2023/Blood_Viscosity_2...   \n",
       "1  /media/tohn/HDD/rheology2023/Blood_Viscosity_2...   \n",
       "2  /media/tohn/HDD/rheology2023/Blood_Viscosity_2...   \n",
       "3  /media/tohn/HDD/rheology2023/Blood_Viscosity_2...   \n",
       "4  /media/tohn/HDD/rheology2023/Blood_Viscosity_2...   \n",
       "\n",
       "                                image_folder folder_source classes  Code  \\\n",
       "0  HN01_D0_30HZ_20XINF_UWELL_20221027_155642    SSD_Backup      HN  HN01   \n",
       "1  HN17_D0_30HZ_20XINF_UWELL_25651201_143229    SSD_Backup      HN  HN17   \n",
       "2  HN35_D0_30HZ_20XINF_UWELL_25660131_162641    SSD_Backup      HN  HN35   \n",
       "3  HN01_D0_30HZ_20XINF_UWELL_20221027_162455    SSD_Backup      HN  HN01   \n",
       "4  HN01_D0_30HZ_20XINF_UWELL_20221027_161213    SSD_Backup      HN  HN01   \n",
       "\n",
       "         subclass         dt  classes_binary typeBEvsBM  fold  \\\n",
       "0     Splenectomy  [2, 5, 7]               1          E     2   \n",
       "1     Splenectomy  [2, 5, 7]               1          E     2   \n",
       "2  No_Splenectomy  [2, 5, 7]               1          E     2   \n",
       "3     Splenectomy  [2, 5, 7]               1          E     2   \n",
       "4     Splenectomy  [2, 5, 7]               1          E     2   \n",
       "\n",
       "   typeBEvsBM_binary  \n",
       "0                  0  \n",
       "1                  0  \n",
       "2                  0  \n",
       "3                  0  \n",
       "4                  0  "
      ]
     },
     "execution_count": 18,
     "metadata": {},
     "output_type": "execute_result"
    }
   ],
   "source": [
    "df_2dFFT = pd.read_csv(\"/home/kannika/code/Rheology2023/Rheology_Blood/Dataset_Blood_Viscosity-2dFFTdataset-3channels-3Fold-EMClasses.csv\")\n",
    "train_2dFFT = df_2dFFT[df_2dFFT['fold']!=fold].reset_index(drop=True)\n",
    "print(\"Fold Train set\", set(train_2dFFT['fold']))\n",
    "print(train_2dFFT.shape)\n",
    "\n",
    "test_2dFFT = df_2dFFT[df_2dFFT['fold']==fold].reset_index(drop=True)\n",
    "print(\"Fold Test set\", set(test_2dFFT['fold']))\n",
    "print(test_2dFFT.shape)\n",
    "\n",
    "test_2dFFT.head()"
   ]
  },
  {
   "cell_type": "code",
   "execution_count": 19,
   "id": "urban-horizontal",
   "metadata": {},
   "outputs": [],
   "source": [
    "def predict_image(img_path):\n",
    "    # Read the image and resize it\n",
    "    img = image.load_img(img_path, target_size=(height, width))\n",
    "    # Convert it to a Numpy array with target shape.\n",
    "    x = image.img_to_array(img)\n",
    "    # Reshape\n",
    "    x = x.reshape((1,) + x.shape)\n",
    "    x /= 255.\n",
    "    result = model.predict([x])\n",
    "    \n",
    "    return result[0]\n",
    "   # return result[0][1:]"
   ]
  },
  {
   "cell_type": "code",
   "execution_count": 20,
   "id": "involved-sense",
   "metadata": {
    "scrolled": true
   },
   "outputs": [
    {
     "name": "stdout",
     "output_type": "stream",
     "text": [
      "1/1 [==============================] - 2s 2s/step\n",
      "1/1 [==============================] - 0s 38ms/step\n",
      "1/1 [==============================] - 0s 39ms/step\n",
      "1/1 [==============================] - 0s 44ms/step\n",
      "1/1 [==============================] - 0s 41ms/step\n",
      "1/1 [==============================] - 0s 41ms/step\n",
      "1/1 [==============================] - 0s 40ms/step\n",
      "1/1 [==============================] - 0s 39ms/step\n",
      "1/1 [==============================] - 0s 40ms/step\n",
      "1/1 [==============================] - 0s 40ms/step\n",
      "1/1 [==============================] - 0s 38ms/step\n",
      "1/1 [==============================] - 0s 42ms/step\n",
      "1/1 [==============================] - 0s 42ms/step\n",
      "1/1 [==============================] - 0s 39ms/step\n",
      "1/1 [==============================] - 0s 39ms/step\n",
      "1/1 [==============================] - 0s 43ms/step\n",
      "1/1 [==============================] - 0s 41ms/step\n",
      "1/1 [==============================] - 0s 41ms/step\n",
      "1/1 [==============================] - 0s 40ms/step\n",
      "1/1 [==============================] - 0s 40ms/step\n",
      "1/1 [==============================] - 0s 38ms/step\n",
      "1/1 [==============================] - 0s 40ms/step\n",
      "1/1 [==============================] - 0s 41ms/step\n",
      "1/1 [==============================] - 0s 39ms/step\n",
      "1/1 [==============================] - 0s 49ms/step\n",
      "1/1 [==============================] - 0s 40ms/step\n",
      "1/1 [==============================] - 0s 52ms/step\n",
      "1/1 [==============================] - 0s 39ms/step\n",
      "1/1 [==============================] - 0s 41ms/step\n",
      "1/1 [==============================] - 0s 39ms/step\n",
      "1/1 [==============================] - 0s 38ms/step\n",
      "1/1 [==============================] - 0s 40ms/step\n",
      "1/1 [==============================] - 0s 41ms/step\n",
      "1/1 [==============================] - 0s 39ms/step\n",
      "1/1 [==============================] - 0s 40ms/step\n",
      "1/1 [==============================] - 0s 42ms/step\n",
      "1/1 [==============================] - 0s 37ms/step\n",
      "1/1 [==============================] - 0s 40ms/step\n",
      "1/1 [==============================] - 0s 38ms/step\n",
      "1/1 [==============================] - 0s 43ms/step\n",
      "1/1 [==============================] - 0s 44ms/step\n",
      "1/1 [==============================] - 0s 43ms/step\n",
      "1/1 [==============================] - 0s 41ms/step\n",
      "1/1 [==============================] - 0s 42ms/step\n",
      "1/1 [==============================] - 0s 40ms/step\n",
      "1/1 [==============================] - 0s 40ms/step\n",
      "1/1 [==============================] - 0s 40ms/step\n",
      "1/1 [==============================] - 0s 41ms/step\n",
      "1/1 [==============================] - 0s 41ms/step\n",
      "1/1 [==============================] - 0s 44ms/step\n",
      "1/1 [==============================] - 0s 40ms/step\n",
      "1/1 [==============================] - 0s 42ms/step\n",
      "1/1 [==============================] - 0s 35ms/step\n",
      "1/1 [==============================] - 0s 43ms/step\n",
      "1/1 [==============================] - 0s 41ms/step\n",
      "1/1 [==============================] - 0s 41ms/step\n"
     ]
    }
   ],
   "source": [
    "img_path = test_2dFFT['image_path'].tolist()   ## path to list\n",
    "### Predict\n",
    "pred_list= []\n",
    "for i in range(0,len(img_path)):\n",
    "    predict = predict_image(img_path[i]) \n",
    "    pred_list.append(predict)"
   ]
  },
  {
   "cell_type": "code",
   "execution_count": 21,
   "id": "lesbian-gateway",
   "metadata": {
    "scrolled": true
   },
   "outputs": [
    {
     "name": "stdout",
     "output_type": "stream",
     "text": [
      "56\n"
     ]
    },
    {
     "data": {
      "text/plain": [
       "[array([0.08561315], dtype=float32),\n",
       " array([0.1279141], dtype=float32),\n",
       " array([0.2748936], dtype=float32),\n",
       " array([0.0858833], dtype=float32),\n",
       " array([0.08567489], dtype=float32),\n",
       " array([0.9116625], dtype=float32),\n",
       " array([0.9169304], dtype=float32),\n",
       " array([0.89269704], dtype=float32),\n",
       " array([0.9129959], dtype=float32),\n",
       " array([0.8804623], dtype=float32),\n",
       " array([0.10495009], dtype=float32),\n",
       " array([0.91205335], dtype=float32),\n",
       " array([0.08561894], dtype=float32),\n",
       " array([0.90316534], dtype=float32),\n",
       " array([0.09942225], dtype=float32),\n",
       " array([0.8510854], dtype=float32),\n",
       " array([0.92190284], dtype=float32),\n",
       " array([0.08798914], dtype=float32),\n",
       " array([0.09044293], dtype=float32),\n",
       " array([0.08883113], dtype=float32),\n",
       " array([0.87188214], dtype=float32),\n",
       " array([0.9211923], dtype=float32),\n",
       " array([0.91415876], dtype=float32),\n",
       " array([0.9173763], dtype=float32),\n",
       " array([0.90788543], dtype=float32),\n",
       " array([0.919401], dtype=float32),\n",
       " array([0.08714704], dtype=float32),\n",
       " array([0.797542], dtype=float32),\n",
       " array([0.91948855], dtype=float32),\n",
       " array([0.08997139], dtype=float32),\n",
       " array([0.08326058], dtype=float32),\n",
       " array([0.07818528], dtype=float32),\n",
       " array([0.08240312], dtype=float32),\n",
       " array([0.08254328], dtype=float32),\n",
       " array([0.8789158], dtype=float32),\n",
       " array([0.08778279], dtype=float32),\n",
       " array([0.07915447], dtype=float32),\n",
       " array([0.9212579], dtype=float32),\n",
       " array([0.0860616], dtype=float32),\n",
       " array([0.07819666], dtype=float32),\n",
       " array([0.08247194], dtype=float32),\n",
       " array([0.92220694], dtype=float32),\n",
       " array([0.08107332], dtype=float32),\n",
       " array([0.9218205], dtype=float32),\n",
       " array([0.07948588], dtype=float32),\n",
       " array([0.09037468], dtype=float32),\n",
       " array([0.9233515], dtype=float32),\n",
       " array([0.09060378], dtype=float32),\n",
       " array([0.92481077], dtype=float32),\n",
       " array([0.08744196], dtype=float32),\n",
       " array([0.08139388], dtype=float32),\n",
       " array([0.08201037], dtype=float32),\n",
       " array([0.92370415], dtype=float32),\n",
       " array([0.9233416], dtype=float32),\n",
       " array([0.9227213], dtype=float32),\n",
       " array([0.08896347], dtype=float32)]"
      ]
     },
     "execution_count": 21,
     "metadata": {},
     "output_type": "execute_result"
    }
   ],
   "source": [
    "print(len(pred_list))\n",
    "pred_list"
   ]
  },
  {
   "cell_type": "code",
   "execution_count": 22,
   "id": "changed-dayton",
   "metadata": {},
   "outputs": [],
   "source": [
    "_pred_label = []\n",
    "for m in pred_list:\n",
    "    #print(m)\n",
    "    for n in range(len(m)):\n",
    "        #print(m[n])\n",
    "        if m[n] >= 0.5:  ## Sigmoid(Z) >= 0.5, y=1\n",
    "            #pred_label.append(1)\n",
    "            _pred_label.append(\"M\") ## เป็นโรค\n",
    "        else:\n",
    "             _pred_label.append(\"E\") ## ไม่เป็นโรค"
   ]
  },
  {
   "cell_type": "code",
   "execution_count": 23,
   "id": "dense-pledge",
   "metadata": {
    "scrolled": true
   },
   "outputs": [
    {
     "name": "stdout",
     "output_type": "stream",
     "text": [
      "56\n"
     ]
    },
    {
     "data": {
      "text/plain": [
       "['E',\n",
       " 'E',\n",
       " 'E',\n",
       " 'E',\n",
       " 'E',\n",
       " 'M',\n",
       " 'M',\n",
       " 'M',\n",
       " 'M',\n",
       " 'M',\n",
       " 'E',\n",
       " 'M',\n",
       " 'E',\n",
       " 'M',\n",
       " 'E',\n",
       " 'M',\n",
       " 'M',\n",
       " 'E',\n",
       " 'E',\n",
       " 'E',\n",
       " 'M',\n",
       " 'M',\n",
       " 'M',\n",
       " 'M',\n",
       " 'M',\n",
       " 'M',\n",
       " 'E',\n",
       " 'M',\n",
       " 'M',\n",
       " 'E',\n",
       " 'E',\n",
       " 'E',\n",
       " 'E',\n",
       " 'E',\n",
       " 'M',\n",
       " 'E',\n",
       " 'E',\n",
       " 'M',\n",
       " 'E',\n",
       " 'E',\n",
       " 'E',\n",
       " 'M',\n",
       " 'E',\n",
       " 'M',\n",
       " 'E',\n",
       " 'E',\n",
       " 'M',\n",
       " 'E',\n",
       " 'M',\n",
       " 'E',\n",
       " 'E',\n",
       " 'E',\n",
       " 'M',\n",
       " 'M',\n",
       " 'M',\n",
       " 'E']"
      ]
     },
     "execution_count": 23,
     "metadata": {},
     "output_type": "execute_result"
    }
   ],
   "source": [
    "print(len(_pred_label))\n",
    "_pred_label"
   ]
  },
  {
   "cell_type": "code",
   "execution_count": 24,
   "id": "sharing-steering",
   "metadata": {},
   "outputs": [
    {
     "data": {
      "text/html": [
       "<div>\n",
       "<style scoped>\n",
       "    .dataframe tbody tr th:only-of-type {\n",
       "        vertical-align: middle;\n",
       "    }\n",
       "\n",
       "    .dataframe tbody tr th {\n",
       "        vertical-align: top;\n",
       "    }\n",
       "\n",
       "    .dataframe thead th {\n",
       "        text-align: right;\n",
       "    }\n",
       "</style>\n",
       "<table border=\"1\" class=\"dataframe\">\n",
       "  <thead>\n",
       "    <tr style=\"text-align: right;\">\n",
       "      <th></th>\n",
       "      <th>Unnamed: 0.3</th>\n",
       "      <th>Unnamed: 0.2</th>\n",
       "      <th>Unnamed: 0.1</th>\n",
       "      <th>Unnamed: 0</th>\n",
       "      <th>image_name</th>\n",
       "      <th>image_path</th>\n",
       "      <th>image_folder</th>\n",
       "      <th>folder_source</th>\n",
       "      <th>classes</th>\n",
       "      <th>Code</th>\n",
       "      <th>subclass</th>\n",
       "      <th>dt</th>\n",
       "      <th>classes_binary</th>\n",
       "      <th>typeBEvsBM</th>\n",
       "      <th>fold</th>\n",
       "      <th>typeBEvsBM_binary</th>\n",
       "      <th>category</th>\n",
       "    </tr>\n",
       "  </thead>\n",
       "  <tbody>\n",
       "    <tr>\n",
       "      <th>0</th>\n",
       "      <td>56</td>\n",
       "      <td>56</td>\n",
       "      <td>3</td>\n",
       "      <td>3</td>\n",
       "      <td>HN01_D0_30HZ_20XINF_UWELL_20221027_155642_dt2_...</td>\n",
       "      <td>/media/tohn/HDD/rheology2023/Blood_Viscosity_2...</td>\n",
       "      <td>HN01_D0_30HZ_20XINF_UWELL_20221027_155642</td>\n",
       "      <td>SSD_Backup</td>\n",
       "      <td>HN</td>\n",
       "      <td>HN01</td>\n",
       "      <td>Splenectomy</td>\n",
       "      <td>[2, 5, 7]</td>\n",
       "      <td>1</td>\n",
       "      <td>E</td>\n",
       "      <td>2</td>\n",
       "      <td>0</td>\n",
       "      <td>E</td>\n",
       "    </tr>\n",
       "    <tr>\n",
       "      <th>1</th>\n",
       "      <td>57</td>\n",
       "      <td>57</td>\n",
       "      <td>79</td>\n",
       "      <td>79</td>\n",
       "      <td>HN17_D0_30HZ_20XINF_UWELL_25651201_143229_dt2_...</td>\n",
       "      <td>/media/tohn/HDD/rheology2023/Blood_Viscosity_2...</td>\n",
       "      <td>HN17_D0_30HZ_20XINF_UWELL_25651201_143229</td>\n",
       "      <td>SSD_Backup</td>\n",
       "      <td>HN</td>\n",
       "      <td>HN17</td>\n",
       "      <td>Splenectomy</td>\n",
       "      <td>[2, 5, 7]</td>\n",
       "      <td>1</td>\n",
       "      <td>E</td>\n",
       "      <td>2</td>\n",
       "      <td>0</td>\n",
       "      <td>E</td>\n",
       "    </tr>\n",
       "    <tr>\n",
       "      <th>2</th>\n",
       "      <td>58</td>\n",
       "      <td>58</td>\n",
       "      <td>238</td>\n",
       "      <td>238</td>\n",
       "      <td>HN35_D0_30HZ_20XINF_UWELL_25660131_162641_dt2_...</td>\n",
       "      <td>/media/tohn/HDD/rheology2023/Blood_Viscosity_2...</td>\n",
       "      <td>HN35_D0_30HZ_20XINF_UWELL_25660131_162641</td>\n",
       "      <td>SSD_Backup</td>\n",
       "      <td>HN</td>\n",
       "      <td>HN35</td>\n",
       "      <td>No_Splenectomy</td>\n",
       "      <td>[2, 5, 7]</td>\n",
       "      <td>1</td>\n",
       "      <td>E</td>\n",
       "      <td>2</td>\n",
       "      <td>0</td>\n",
       "      <td>E</td>\n",
       "    </tr>\n",
       "  </tbody>\n",
       "</table>\n",
       "</div>"
      ],
      "text/plain": [
       "   Unnamed: 0.3  Unnamed: 0.2  Unnamed: 0.1  Unnamed: 0  \\\n",
       "0            56            56             3           3   \n",
       "1            57            57            79          79   \n",
       "2            58            58           238         238   \n",
       "\n",
       "                                          image_name  \\\n",
       "0  HN01_D0_30HZ_20XINF_UWELL_20221027_155642_dt2_...   \n",
       "1  HN17_D0_30HZ_20XINF_UWELL_25651201_143229_dt2_...   \n",
       "2  HN35_D0_30HZ_20XINF_UWELL_25660131_162641_dt2_...   \n",
       "\n",
       "                                          image_path  \\\n",
       "0  /media/tohn/HDD/rheology2023/Blood_Viscosity_2...   \n",
       "1  /media/tohn/HDD/rheology2023/Blood_Viscosity_2...   \n",
       "2  /media/tohn/HDD/rheology2023/Blood_Viscosity_2...   \n",
       "\n",
       "                                image_folder folder_source classes  Code  \\\n",
       "0  HN01_D0_30HZ_20XINF_UWELL_20221027_155642    SSD_Backup      HN  HN01   \n",
       "1  HN17_D0_30HZ_20XINF_UWELL_25651201_143229    SSD_Backup      HN  HN17   \n",
       "2  HN35_D0_30HZ_20XINF_UWELL_25660131_162641    SSD_Backup      HN  HN35   \n",
       "\n",
       "         subclass         dt  classes_binary typeBEvsBM  fold  \\\n",
       "0     Splenectomy  [2, 5, 7]               1          E     2   \n",
       "1     Splenectomy  [2, 5, 7]               1          E     2   \n",
       "2  No_Splenectomy  [2, 5, 7]               1          E     2   \n",
       "\n",
       "   typeBEvsBM_binary category  \n",
       "0                  0        E  \n",
       "1                  0        E  \n",
       "2                  0        E  "
      ]
     },
     "execution_count": 24,
     "metadata": {},
     "output_type": "execute_result"
    }
   ],
   "source": [
    "test_2dFFT[\"category\"] = _pred_label\n",
    "test_2dFFT.head(3)"
   ]
  },
  {
   "cell_type": "code",
   "execution_count": null,
   "id": "specific-cooperative",
   "metadata": {},
   "outputs": [],
   "source": []
  },
  {
   "cell_type": "markdown",
   "id": "right-sleeve",
   "metadata": {},
   "source": [
    "# Evaluation"
   ]
  },
  {
   "cell_type": "code",
   "execution_count": 25,
   "id": "assured-relaxation",
   "metadata": {},
   "outputs": [
    {
     "name": "stdout",
     "output_type": "stream",
     "text": [
      "classifier accuracy = 39.285714285714285%\n",
      "              precision    recall  f1-score   support\n",
      "\n",
      "           E       0.40      0.43      0.41        28\n",
      "           M       0.38      0.36      0.37        28\n",
      "\n",
      "    accuracy                           0.39        56\n",
      "   macro avg       0.39      0.39      0.39        56\n",
      "weighted avg       0.39      0.39      0.39        56\n",
      "\n"
     ]
    }
   ],
   "source": [
    "import numpy as np\n",
    "from sklearn.metrics import confusion_matrix\n",
    "\n",
    "act = test_2dFFT['typeBEvsBM'].array\n",
    "pred = test_2dFFT['category'].array\n",
    "\n",
    "cmat = confusion_matrix(act, pred)\n",
    "print('classifier accuracy = {}%'.format((100.*np.trace(cmat))/(np.sum(cmat))))\n",
    "\n",
    "#Marking the Confusion Matrix\n",
    "from sklearn.metrics import classification_report,confusion_matrix\n",
    "print(classification_report(act, pred))#performance"
   ]
  },
  {
   "cell_type": "markdown",
   "id": "experimental-government",
   "metadata": {},
   "source": [
    "# 🔷True Positive = BM"
   ]
  },
  {
   "cell_type": "code",
   "execution_count": 26,
   "id": "animal-anchor",
   "metadata": {},
   "outputs": [
    {
     "name": "stdout",
     "output_type": "stream",
     "text": [
      "Accuracy = 0.39285714285714285\n",
      "Precision = 0.38461538461538464\n",
      "Recall = 0.35714285714285715\n",
      "F1 Score = 0.3703703703703704\n"
     ]
    }
   ],
   "source": [
    "accuracy = accuracy_score(act, pred)\n",
    "precision = precision_score(act, pred, average='binary', pos_label='M')\n",
    "recall = recall_score(act, pred, average='binary', pos_label='M')\n",
    "f1score = f1_score(act, pred, average='binary', pos_label='M')\n",
    "#print('classifier accuracy = {}%'.format((100.*np.trace(cmat))/(np.sum(cmat))))\n",
    "print(f\"Accuracy = {accuracy}\")\n",
    "print(f\"Precision = {precision}\")\n",
    "print(f\"Recall = {recall}\")\n",
    "print(f\"F1 Score = {f1score}\")"
   ]
  },
  {
   "cell_type": "markdown",
   "id": "opposite-fight",
   "metadata": {},
   "source": [
    "## Confusion matrix"
   ]
  },
  {
   "cell_type": "code",
   "execution_count": 27,
   "id": "offensive-agent",
   "metadata": {},
   "outputs": [],
   "source": [
    "# #create CF \n",
    "# data = {'Actual': act,'Predicted' : pred,}\n",
    "# df = pd.DataFrame(data, columns=['Actual','Predicted'])\n",
    "# conf_mat = pd.crosstab(df['Actual'],df['Predicted'],rownames=['Actual'],colnames=['Predicted'])\n",
    "\n",
    "# #Confusion matrix\n",
    "# from sklearn.metrics import confusion_matrix\n",
    "# import matplotlib.pyplot as plt\n",
    "# cm = confusion_matrix(act, pred, labels=['E', 'M'])\n",
    "\n",
    "# #plot Confusion matrix\n",
    "# import seaborn as sns\n",
    "# sns.set()\n",
    "# fig, ax = plt.subplots(figsize=(8, 5))\n",
    "\n",
    "# ax = sns.heatmap(conf_mat, annot=True, fmt=\"d\", cmap=\"YlGnBu\") #Blues,Oranges,Reds\n",
    "# ax.set_title('Confusion matrix',fontsize=20)\n",
    "# ax.set_ylabel('True label',fontsize=18)\n",
    "# ax.set_xlabel('Predicted label',fontsize=18)"
   ]
  },
  {
   "cell_type": "code",
   "execution_count": 29,
   "id": "robust-small",
   "metadata": {},
   "outputs": [],
   "source": [
    "#Confusion matrix\n",
    "from sklearn.metrics import confusion_matrix\n",
    "import matplotlib.pyplot as plt"
   ]
  },
  {
   "cell_type": "code",
   "execution_count": 30,
   "id": "alive-injection",
   "metadata": {},
   "outputs": [
    {
     "data": {
      "text/plain": [
       "Text(0.5, 21.249999999999993, 'Predicted label')"
      ]
     },
     "execution_count": 30,
     "metadata": {},
     "output_type": "execute_result"
    },
    {
     "data": {
      "image/png": "[encoded data removed]",
      "text/plain": [
       "<Figure size 800x500 with 2 Axes>"
      ]
     },
     "metadata": {},
     "output_type": "display_data"
    }
   ],
   "source": [
    "act_transformed = [1 if i == 'M' else 0 for i in act]\n",
    "pred_transformed = [1 if i == 'M' else 0 for i in pred]\n",
    "\n",
    "cm = confusion_matrix(act_transformed, pred_transformed)\n",
    "#plot Confusion matrix\n",
    "import seaborn as sns\n",
    "sns.set()\n",
    "fig, ax = plt.subplots(figsize=(8, 5))\n",
    "\n",
    "ax = sns.heatmap(cm, annot=True, fmt=\"d\", cmap=\"YlGnBu\") #Blues,Oranges,Reds\n",
    "ax.set_title('Confusion matrix',fontsize=20)\n",
    "ax.set_ylabel('True label',fontsize=18)\n",
    "ax.set_xlabel('Predicted label',fontsize=18)"
   ]
  },
  {
   "cell_type": "code",
   "execution_count": 31,
   "id": "official-works",
   "metadata": {},
   "outputs": [
    {
     "data": {
      "text/plain": [
       "array([[12, 16],\n",
       "       [18, 10]])"
      ]
     },
     "execution_count": 31,
     "metadata": {},
     "output_type": "execute_result"
    }
   ],
   "source": [
    "cm"
   ]
  },
  {
   "cell_type": "code",
   "execution_count": 32,
   "id": "resident-awareness",
   "metadata": {},
   "outputs": [
    {
     "name": "stdout",
     "output_type": "stream",
     "text": [
      "True Negative: 12\n",
      "False Positive: 16\n",
      "False Negative: 18\n",
      "True Positive: 10\n"
     ]
    }
   ],
   "source": [
    "tn, fp, fn, tp = confusion_matrix(act_transformed, pred_transformed).ravel()\n",
    "print(\"True Negative:\", tn)\n",
    "print(\"False Positive:\", fp)\n",
    "print(\"False Negative:\", fn)\n",
    "print(\"True Positive:\", tp)"
   ]
  },
  {
   "cell_type": "markdown",
   "id": "small-ladder",
   "metadata": {},
   "source": [
    "### 📌 Sensitivity = True Positive / (True Positive + False Negative)"
   ]
  },
  {
   "cell_type": "code",
   "execution_count": 33,
   "id": "fifth-christianity",
   "metadata": {},
   "outputs": [
    {
     "name": "stdout",
     "output_type": "stream",
     "text": [
      "Sensitivity : 0.35714285714285715\n"
     ]
    }
   ],
   "source": [
    "Sensitivity = tp / (tp + fn)\n",
    "print(f\"Sensitivity : {Sensitivity}\")"
   ]
  },
  {
   "cell_type": "markdown",
   "id": "sonic-crystal",
   "metadata": {},
   "source": [
    "### 📌Specificity = True Negative / (True Negative + False Positive)"
   ]
  },
  {
   "cell_type": "code",
   "execution_count": 34,
   "id": "coordinate-legislation",
   "metadata": {},
   "outputs": [
    {
     "name": "stdout",
     "output_type": "stream",
     "text": [
      "Specificity : 0.42857142857142855\n"
     ]
    }
   ],
   "source": [
    "Specificity = tn / (tn + fp)\n",
    "print(f\"Specificity : {Specificity}\")"
   ]
  },
  {
   "cell_type": "code",
   "execution_count": null,
   "id": "disturbed-probe",
   "metadata": {},
   "outputs": [],
   "source": []
  },
  {
   "cell_type": "markdown",
   "id": "lightweight-answer",
   "metadata": {},
   "source": [
    "# 🔷True Positive = BE"
   ]
  },
  {
   "cell_type": "code",
   "execution_count": 35,
   "id": "extra-saudi",
   "metadata": {},
   "outputs": [
    {
     "name": "stdout",
     "output_type": "stream",
     "text": [
      "Accuracy = 0.39285714285714285\n",
      "Precision = 0.4\n",
      "Recall = 0.42857142857142855\n",
      "F1 Score = 0.4137931034482759\n"
     ]
    }
   ],
   "source": [
    "accuracy = accuracy_score(act, pred)\n",
    "precision = precision_score(act, pred, average='binary', pos_label='E')\n",
    "recall = recall_score(act, pred, average='binary', pos_label='E')\n",
    "f1score = f1_score(act, pred, average='binary', pos_label='E')\n",
    "#print('classifier accuracy = {}%'.format((100.*np.trace(cmat))/(np.sum(cmat))))\n",
    "print(f\"Accuracy = {accuracy}\")\n",
    "print(f\"Precision = {precision}\")\n",
    "print(f\"Recall = {recall}\")\n",
    "print(f\"F1 Score = {f1score}\")"
   ]
  },
  {
   "cell_type": "markdown",
   "id": "criminal-cyprus",
   "metadata": {},
   "source": [
    "## Confusion matrix"
   ]
  },
  {
   "cell_type": "code",
   "execution_count": 36,
   "id": "wrapped-belarus",
   "metadata": {},
   "outputs": [
    {
     "data": {
      "text/plain": [
       "Text(0.5, 21.249999999999993, 'Predicted label')"
      ]
     },
     "execution_count": 36,
     "metadata": {},
     "output_type": "execute_result"
    },
    {
     "data": {
      "image/png": "[encoded data removed]",
      "text/plain": [
       "<Figure size 800x500 with 2 Axes>"
      ]
     },
     "metadata": {},
     "output_type": "display_data"
    }
   ],
   "source": [
    "#create CF \n",
    "act_transformed = [1 if i == 'E' else 0 for i in act]\n",
    "pred_transformed = [1 if i == 'E' else 0 for i in pred]\n",
    "\n",
    "#Confusion matrix\n",
    "from sklearn.metrics import confusion_matrix\n",
    "import matplotlib.pyplot as plt\n",
    "#cmat = confusion_matrix(act, pred, labels=['M', 'E'])  #0, 1\n",
    "cmat = confusion_matrix(act_transformed, pred_transformed) \n",
    "\n",
    "#plot Confusion matrix\n",
    "import seaborn as sns\n",
    "sns.set()\n",
    "fig, ax = plt.subplots(figsize=(8, 5))\n",
    "\n",
    "#ax = sns.heatmap(conf_mat, annot=True, fmt=\"d\", cmap=\"YlGnBu\") #Blues,Oranges,Reds\n",
    "ax = sns.heatmap(cmat, annot=True, fmt=\"d\", cmap=\"YlGnBu\") #Blues,Oranges,Reds\n",
    "ax.set_title('Confusion matrix',fontsize=20)\n",
    "ax.set_ylabel('True label',fontsize=18)\n",
    "ax.set_xlabel('Predicted label',fontsize=18)"
   ]
  },
  {
   "cell_type": "code",
   "execution_count": 37,
   "id": "promising-montana",
   "metadata": {},
   "outputs": [
    {
     "data": {
      "text/plain": [
       "array([[10, 18],\n",
       "       [16, 12]])"
      ]
     },
     "execution_count": 37,
     "metadata": {},
     "output_type": "execute_result"
    }
   ],
   "source": [
    "cmat"
   ]
  },
  {
   "cell_type": "code",
   "execution_count": 38,
   "id": "dying-slave",
   "metadata": {},
   "outputs": [
    {
     "name": "stdout",
     "output_type": "stream",
     "text": [
      "True Negative: 10\n",
      "False Positive: 18\n",
      "False Negative: 16\n",
      "True Positive: 12\n"
     ]
    }
   ],
   "source": [
    "tn, fp, fn, tp = confusion_matrix(act_transformed, pred_transformed).ravel()\n",
    "print(\"True Negative:\", tn)\n",
    "print(\"False Positive:\", fp)\n",
    "print(\"False Negative:\", fn)\n",
    "print(\"True Positive:\", tp)"
   ]
  },
  {
   "cell_type": "markdown",
   "id": "prospective-crazy",
   "metadata": {},
   "source": [
    "### 📌 Sensitivity = True Positive / (True Positive + False Negative)"
   ]
  },
  {
   "cell_type": "code",
   "execution_count": 39,
   "id": "horizontal-origin",
   "metadata": {},
   "outputs": [
    {
     "name": "stdout",
     "output_type": "stream",
     "text": [
      "Sensitivity : 0.42857142857142855\n"
     ]
    }
   ],
   "source": [
    "Sensitivity = tp / (tp + fn)\n",
    "print(f\"Sensitivity : {Sensitivity}\")"
   ]
  },
  {
   "cell_type": "markdown",
   "id": "amber-deficit",
   "metadata": {},
   "source": [
    "### 📌Specificity = True Negative / (True Negative + False Positive)"
   ]
  },
  {
   "cell_type": "code",
   "execution_count": 40,
   "id": "short-roberts",
   "metadata": {},
   "outputs": [
    {
     "name": "stdout",
     "output_type": "stream",
     "text": [
      "Specificity : 0.35714285714285715\n"
     ]
    }
   ],
   "source": [
    "Specificity = tn / (tn + fp)\n",
    "print(f\"Specificity : {Specificity}\")"
   ]
  },
  {
   "cell_type": "code",
   "execution_count": null,
   "id": "basic-brazilian",
   "metadata": {},
   "outputs": [],
   "source": []
  },
  {
   "cell_type": "code",
   "execution_count": null,
   "id": "partial-aging",
   "metadata": {},
   "outputs": [],
   "source": []
  },
  {
   "cell_type": "code",
   "execution_count": null,
   "id": "experienced-darwin",
   "metadata": {},
   "outputs": [],
   "source": []
  },
  {
   "cell_type": "code",
   "execution_count": null,
   "id": "domestic-grammar",
   "metadata": {},
   "outputs": [],
   "source": []
  },
  {
   "cell_type": "code",
   "execution_count": null,
   "id": "satisfied-hacker",
   "metadata": {},
   "outputs": [],
   "source": []
  },
  {
   "cell_type": "code",
   "execution_count": null,
   "id": "stretch-passage",
   "metadata": {},
   "outputs": [],
   "source": [
    "# act_transformed = [1 if i == 'M' else 0 for i in act]\n",
    "# pred_transformed = [1 if i == 'M' else 0 for i in pred]\n",
    "\n",
    "# cmat = confusion_matrix(act_transformed, pred_transformed)\n",
    "# print('classifier accuracy = {}%'.format((100.*np.trace(cmat))/(np.sum(cmat))))\n",
    "\n",
    "# #Marking the Confusion Matrix\n",
    "# from sklearn.metrics import classification_report,confusion_matrix\n",
    "# print(classification_report(act_transformed, pred_transformed))#performance"
   ]
  },
  {
   "cell_type": "code",
   "execution_count": null,
   "id": "duplicate-animation",
   "metadata": {},
   "outputs": [],
   "source": []
  },
  {
   "attachments": {
    "image-2.png": {
     "image/png": "[encoded data removed]"
    }
   },
   "cell_type": "markdown",
   "id": "oriented-validation",
   "metadata": {},
   "source": [
    "![image-2.png](attachment:image-2.png)"
   ]
  },
  {
   "cell_type": "code",
   "execution_count": null,
   "id": "guilty-candy",
   "metadata": {},
   "outputs": [],
   "source": []
  },
  {
   "cell_type": "code",
   "execution_count": null,
   "id": "average-murray",
   "metadata": {},
   "outputs": [],
   "source": []
  }
 ],
 "metadata": {
  "kernelspec": {
   "display_name": "tf",
   "language": "python",
   "name": "tf"
  },
  "language_info": {
   "codemirror_mode": {
    "name": "ipython",
    "version": 3
   },
   "file_extension": ".py",
   "mimetype": "text/x-python",
   "name": "python",
   "nbconvert_exporter": "python",
   "pygments_lexer": "ipython3",
   "version": "3.9.13"
  }
 },
 "nbformat": 4,
 "nbformat_minor": 5
}
