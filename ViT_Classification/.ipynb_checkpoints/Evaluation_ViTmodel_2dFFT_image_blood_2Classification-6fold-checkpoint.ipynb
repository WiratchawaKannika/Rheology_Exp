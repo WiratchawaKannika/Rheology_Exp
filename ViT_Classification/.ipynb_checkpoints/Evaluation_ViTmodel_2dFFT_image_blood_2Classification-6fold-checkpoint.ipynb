{
 "cells": [
  {
   "cell_type": "code",
   "execution_count": 1,
   "id": "experienced-making",
   "metadata": {},
   "outputs": [],
   "source": [
    "import os\n",
    "os.environ[\"CUDA_DEVICE_ORDER\"]=\"PCI_BUS_ID\"  \n",
    "os.environ[\"CUDA_VISIBLE_DEVICES\"]=\"0\""
   ]
  },
  {
   "cell_type": "code",
   "execution_count": 2,
   "id": "metric-layout",
   "metadata": {},
   "outputs": [
    {
     "name": "stderr",
     "output_type": "stream",
     "text": [
      "2023-11-06 15:50:27.737322: I tensorflow/core/platform/cpu_feature_guard.cc:193] This TensorFlow binary is optimized with oneAPI Deep Neural Network Library (oneDNN) to use the following CPU instructions in performance-critical operations:  AVX2 AVX512F AVX512_VNNI FMA\n",
      "To enable them in other operations, rebuild TensorFlow with the appropriate compiler flags.\n",
      "2023-11-06 15:50:27.826063: I tensorflow/core/util/port.cc:104] oneDNN custom operations are on. You may see slightly different numerical results due to floating-point round-off errors from different computation orders. To turn them off, set the environment variable `TF_ENABLE_ONEDNN_OPTS=0`.\n",
      "2023-11-06 15:50:28.319413: W tensorflow/compiler/xla/stream_executor/platform/default/dso_loader.cc:64] Could not load dynamic library 'libnvinfer.so.7'; dlerror: libnvinfer.so.7: cannot open shared object file: No such file or directory; LD_LIBRARY_PATH: :/home/kannika/miniconda3/envs/tf/lib/\n",
      "2023-11-06 15:50:28.319485: W tensorflow/compiler/xla/stream_executor/platform/default/dso_loader.cc:64] Could not load dynamic library 'libnvinfer_plugin.so.7'; dlerror: libnvinfer_plugin.so.7: cannot open shared object file: No such file or directory; LD_LIBRARY_PATH: :/home/kannika/miniconda3/envs/tf/lib/\n",
      "2023-11-06 15:50:28.319490: W tensorflow/compiler/tf2tensorrt/utils/py_utils.cc:38] TF-TRT Warning: Cannot dlopen some TensorRT libraries. If you would like to use Nvidia GPU with TensorRT, please make sure the missing libraries mentioned above are installed properly.\n",
      "/home/kannika/miniconda3/envs/tf/lib/python3.9/site-packages/tensorflow_addons/utils/ensure_tf_install.py:53: UserWarning: Tensorflow Addons supports using Python ops for all Tensorflow versions above or equal to 2.6.0 and strictly below 2.9.0 (nightly versions are not supported). \n",
      " The versions of TensorFlow you are currently using is 2.11.0 and is not supported. \n",
      "Some things might work, some things might not.\n",
      "If you were to encounter a bug, do not file an issue.\n",
      "If you want to make sure you're using a tested and supported configuration, either change the TensorFlow version or the TensorFlow Addons's version. \n",
      "You can find the compatibility matrix in TensorFlow Addon's readme:\n",
      "https://github.com/tensorflow/addons\n",
      "  warnings.warn(\n"
     ]
    }
   ],
   "source": [
    "from vit_keras import vit, utils\n",
    "import numpy as np\n",
    "from tensorflow.keras.models import load_model\n",
    "from tensorflow import keras\n",
    "import pandas as pd\n",
    "from tensorflow.keras.preprocessing import image"
   ]
  },
  {
   "cell_type": "markdown",
   "id": "66a15ad5",
   "metadata": {},
   "source": [
    "# Thalas 2 Classes"
   ]
  },
  {
   "cell_type": "markdown",
   "id": "editorial-figure",
   "metadata": {},
   "source": [
    "## Load model"
   ]
  },
  {
   "cell_type": "code",
   "execution_count": 71,
   "id": "killing-logan",
   "metadata": {},
   "outputs": [],
   "source": [
    "fold = 6"
   ]
  },
  {
   "cell_type": "code",
   "execution_count": 72,
   "id": "applied-river",
   "metadata": {
    "scrolled": true
   },
   "outputs": [
    {
     "name": "stdout",
     "output_type": "stream",
     "text": [
      "Load model : => /media/tohn/HDD/rheology2023/ViTModel/Classification/Blood_Viscosity/HN-NBL_classes/fold6/R1/models/ViTb32_thalas2classesClass_fold6_R1.h5\n",
      "384 384\n",
      "Model: \"ViT_BloodClass\"\n",
      "_________________________________________________________________\n",
      " Layer (type)                Output Shape              Param #   \n",
      "=================================================================\n",
      " input_1 (InputLayer)        [(None, 384, 384, 3)]     0         \n",
      "                                                                 \n",
      " embedding (Conv2D)          (None, 12, 12, 768)       2360064   \n",
      "                                                                 \n",
      " reshape (Reshape)           (None, 144, 768)          0         \n",
      "                                                                 \n",
      " class_token (ClassToken)    (None, 145, 768)          768       \n",
      "                                                                 \n",
      " Transformer/posembed_input   (None, 145, 768)         111360    \n",
      " (AddPositionEmbs)                                               \n",
      "                                                                 \n",
      " Transformer/encoderblock_0   ((None, 145, 768),       7087872   \n",
      " (TransformerBlock)           (None, 12, None, None))            \n",
      "                                                                 \n",
      " Transformer/encoderblock_1   ((None, 145, 768),       7087872   \n",
      " (TransformerBlock)           (None, 12, None, None))            \n",
      "                                                                 \n",
      " Transformer/encoderblock_2   ((None, 145, 768),       7087872   \n",
      " (TransformerBlock)           (None, 12, None, None))            \n",
      "                                                                 \n",
      " Transformer/encoderblock_3   ((None, 145, 768),       7087872   \n",
      " (TransformerBlock)           (None, 12, None, None))            \n",
      "                                                                 \n",
      " Transformer/encoderblock_4   ((None, 145, 768),       7087872   \n",
      " (TransformerBlock)           (None, 12, None, None))            \n",
      "                                                                 \n",
      " Transformer/encoderblock_5   ((None, 145, 768),       7087872   \n",
      " (TransformerBlock)           (None, 12, None, None))            \n",
      "                                                                 \n",
      " Transformer/encoderblock_6   ((None, 145, 768),       7087872   \n",
      " (TransformerBlock)           (None, 12, None, None))            \n",
      "                                                                 \n",
      " Transformer/encoderblock_7   ((None, 145, 768),       7087872   \n",
      " (TransformerBlock)           (None, 12, None, None))            \n",
      "                                                                 \n",
      " Transformer/encoderblock_8   ((None, 145, 768),       7087872   \n",
      " (TransformerBlock)           (None, 12, None, None))            \n",
      "                                                                 \n",
      " Transformer/encoderblock_9   ((None, 145, 768),       7087872   \n",
      " (TransformerBlock)           (None, 12, None, None))            \n",
      "                                                                 \n",
      " Transformer/encoderblock_10  ((None, 145, 768),       7087872   \n",
      "  (TransformerBlock)          (None, 12, None, None))            \n",
      "                                                                 \n",
      " Transformer/encoderblock_11  ((None, 145, 768),       7087872   \n",
      "  (TransformerBlock)          (None, 12, None, None))            \n",
      "                                                                 \n",
      " Transformer/encoder_norm (L  (None, 145, 768)         1536      \n",
      " ayerNormalization)                                              \n",
      "                                                                 \n",
      " ExtractToken (Lambda)       (None, 768)               0         \n",
      "                                                                 \n",
      " flatten (Flatten)           (None, 768)               0         \n",
      "                                                                 \n",
      " BatchNormalization_1 (Batch  (None, 768)              3072      \n",
      " Normalization)                                                  \n",
      "                                                                 \n",
      " Dense_1 (Dense)             (None, 64)                49216     \n",
      "                                                                 \n",
      " Dense_2 (Dense)             (None, 32)                2080      \n",
      "                                                                 \n",
      " BatchNormalization_2 (Batch  (None, 32)               128       \n",
      " Normalization)                                                  \n",
      "                                                                 \n",
      " Pred_blood (Dense)          (None, 1)                 33        \n",
      "                                                                 \n",
      "=================================================================\n",
      "Total params: 87,582,721\n",
      "Trainable params: 87,581,121\n",
      "Non-trainable params: 1,600\n",
      "_________________________________________________________________\n"
     ]
    }
   ],
   "source": [
    "model_dir = f\"/media/tohn/HDD/rheology2023/ViTModel/Classification/Blood_Viscosity/HN-NBL_classes/fold{fold}/R1/models/ViTb32_thalas2classesClass_fold{fold}_R1.h5\"\n",
    "#model_dir = '/media/tohn/HDD/rheology2023/ViTModel/Classification/Blood_Viscosity/HN-NBL_classes/fold1/R1/models/ViTb32_1Class_fold1_R1.h5'\n",
    "print(f\"Load model : => {model_dir}\")\n",
    "model = keras.models.load_model(model_dir)\n",
    "height = width = model.input_shape[1]\n",
    "print(height, width)\n",
    "model.summary()"
   ]
  },
  {
   "cell_type": "code",
   "execution_count": null,
   "id": "korean-cleanup",
   "metadata": {},
   "outputs": [],
   "source": []
  },
  {
   "cell_type": "markdown",
   "id": "equipped-track",
   "metadata": {},
   "source": [
    "# DATA"
   ]
  },
  {
   "cell_type": "code",
   "execution_count": 73,
   "id": "worst-monaco",
   "metadata": {},
   "outputs": [
    {
     "name": "stdout",
     "output_type": "stream",
     "text": [
      "Fold Train set {1, 2, 3, 4, 5}\n",
      "(223, 19)\n",
      "Fold Test set {6}\n",
      "(45, 19)\n"
     ]
    },
    {
     "data": {
      "text/html": [
       "<div>\n",
       "<style scoped>\n",
       "    .dataframe tbody tr th:only-of-type {\n",
       "        vertical-align: middle;\n",
       "    }\n",
       "\n",
       "    .dataframe tbody tr th {\n",
       "        vertical-align: top;\n",
       "    }\n",
       "\n",
       "    .dataframe thead th {\n",
       "        text-align: right;\n",
       "    }\n",
       "</style>\n",
       "<table border=\"1\" class=\"dataframe\">\n",
       "  <thead>\n",
       "    <tr style=\"text-align: right;\">\n",
       "      <th></th>\n",
       "      <th>Unnamed: 0.5</th>\n",
       "      <th>Unnamed: 0.4</th>\n",
       "      <th>Unnamed: 0.3</th>\n",
       "      <th>Unnamed: 0.2</th>\n",
       "      <th>Unnamed: 0.1</th>\n",
       "      <th>Unnamed: 0</th>\n",
       "      <th>image_name</th>\n",
       "      <th>image_path</th>\n",
       "      <th>image_folder</th>\n",
       "      <th>folder_source</th>\n",
       "      <th>classes</th>\n",
       "      <th>Code</th>\n",
       "      <th>subclass</th>\n",
       "      <th>fold</th>\n",
       "      <th>dt</th>\n",
       "      <th>classes_binary</th>\n",
       "      <th>MCV</th>\n",
       "      <th>MCH</th>\n",
       "      <th>Hb</th>\n",
       "    </tr>\n",
       "  </thead>\n",
       "  <tbody>\n",
       "    <tr>\n",
       "      <th>0</th>\n",
       "      <td>144</td>\n",
       "      <td>157.0</td>\n",
       "      <td>157.0</td>\n",
       "      <td>157.0</td>\n",
       "      <td>401.0</td>\n",
       "      <td>401.0</td>\n",
       "      <td>NBL10_D0_30HZ_20XINF_UWELL_25651129_142354_dt2...</td>\n",
       "      <td>/media/tohn/HDD/rheology2023/Blood_Viscosity_2...</td>\n",
       "      <td>NBL10_D0_30HZ_20XINF_UWELL_25651129_142354</td>\n",
       "      <td>SSD_Backup</td>\n",
       "      <td>NBL</td>\n",
       "      <td>NBL10</td>\n",
       "      <td>Normal</td>\n",
       "      <td>6</td>\n",
       "      <td>[2, 5, 7]</td>\n",
       "      <td>0.0</td>\n",
       "      <td>83.5</td>\n",
       "      <td>25.8</td>\n",
       "      <td>13.0</td>\n",
       "    </tr>\n",
       "    <tr>\n",
       "      <th>1</th>\n",
       "      <td>145</td>\n",
       "      <td>164.0</td>\n",
       "      <td>164.0</td>\n",
       "      <td>164.0</td>\n",
       "      <td>396.0</td>\n",
       "      <td>396.0</td>\n",
       "      <td>NBL10_D0_30HZ_20XINF_UWELL_25651129_141005_dt2...</td>\n",
       "      <td>/media/tohn/HDD/rheology2023/Blood_Viscosity_2...</td>\n",
       "      <td>NBL10_D0_30HZ_20XINF_UWELL_25651129_141005</td>\n",
       "      <td>SSD_Backup</td>\n",
       "      <td>NBL</td>\n",
       "      <td>NBL10</td>\n",
       "      <td>Normal</td>\n",
       "      <td>6</td>\n",
       "      <td>[2, 5, 7]</td>\n",
       "      <td>0.0</td>\n",
       "      <td>83.5</td>\n",
       "      <td>25.8</td>\n",
       "      <td>13.0</td>\n",
       "    </tr>\n",
       "    <tr>\n",
       "      <th>2</th>\n",
       "      <td>146</td>\n",
       "      <td>167.0</td>\n",
       "      <td>167.0</td>\n",
       "      <td>167.0</td>\n",
       "      <td>399.0</td>\n",
       "      <td>399.0</td>\n",
       "      <td>NBL10_D0_30HZ_20XINF_UWELL_25651129_141915_dt2...</td>\n",
       "      <td>/media/tohn/HDD/rheology2023/Blood_Viscosity_2...</td>\n",
       "      <td>NBL10_D0_30HZ_20XINF_UWELL_25651129_141915</td>\n",
       "      <td>SSD_Backup</td>\n",
       "      <td>NBL</td>\n",
       "      <td>NBL10</td>\n",
       "      <td>Normal</td>\n",
       "      <td>6</td>\n",
       "      <td>[2, 5, 7]</td>\n",
       "      <td>0.0</td>\n",
       "      <td>83.5</td>\n",
       "      <td>25.8</td>\n",
       "      <td>13.0</td>\n",
       "    </tr>\n",
       "    <tr>\n",
       "      <th>3</th>\n",
       "      <td>147</td>\n",
       "      <td>168.0</td>\n",
       "      <td>168.0</td>\n",
       "      <td>168.0</td>\n",
       "      <td>403.0</td>\n",
       "      <td>403.0</td>\n",
       "      <td>NBL10_D0_30HZ_20XINF_UWELL_25651129_142839_dt2...</td>\n",
       "      <td>/media/tohn/HDD/rheology2023/Blood_Viscosity_2...</td>\n",
       "      <td>NBL10_D0_30HZ_20XINF_UWELL_25651129_142839</td>\n",
       "      <td>SSD_Backup</td>\n",
       "      <td>NBL</td>\n",
       "      <td>NBL10</td>\n",
       "      <td>Normal</td>\n",
       "      <td>6</td>\n",
       "      <td>[2, 5, 7]</td>\n",
       "      <td>0.0</td>\n",
       "      <td>83.5</td>\n",
       "      <td>25.8</td>\n",
       "      <td>13.0</td>\n",
       "    </tr>\n",
       "    <tr>\n",
       "      <th>4</th>\n",
       "      <td>148</td>\n",
       "      <td>172.0</td>\n",
       "      <td>172.0</td>\n",
       "      <td>172.0</td>\n",
       "      <td>398.0</td>\n",
       "      <td>398.0</td>\n",
       "      <td>NBL10_D0_30HZ_20XINF_UWELL_25651129_141653_dt2...</td>\n",
       "      <td>/media/tohn/HDD/rheology2023/Blood_Viscosity_2...</td>\n",
       "      <td>NBL10_D0_30HZ_20XINF_UWELL_25651129_141653</td>\n",
       "      <td>SSD_Backup</td>\n",
       "      <td>NBL</td>\n",
       "      <td>NBL10</td>\n",
       "      <td>Normal</td>\n",
       "      <td>6</td>\n",
       "      <td>[2, 5, 7]</td>\n",
       "      <td>0.0</td>\n",
       "      <td>83.5</td>\n",
       "      <td>25.8</td>\n",
       "      <td>13.0</td>\n",
       "    </tr>\n",
       "  </tbody>\n",
       "</table>\n",
       "</div>"
      ],
      "text/plain": [
       "   Unnamed: 0.5  Unnamed: 0.4  Unnamed: 0.3  Unnamed: 0.2  Unnamed: 0.1  \\\n",
       "0           144         157.0         157.0         157.0         401.0   \n",
       "1           145         164.0         164.0         164.0         396.0   \n",
       "2           146         167.0         167.0         167.0         399.0   \n",
       "3           147         168.0         168.0         168.0         403.0   \n",
       "4           148         172.0         172.0         172.0         398.0   \n",
       "\n",
       "   Unnamed: 0                                         image_name  \\\n",
       "0       401.0  NBL10_D0_30HZ_20XINF_UWELL_25651129_142354_dt2...   \n",
       "1       396.0  NBL10_D0_30HZ_20XINF_UWELL_25651129_141005_dt2...   \n",
       "2       399.0  NBL10_D0_30HZ_20XINF_UWELL_25651129_141915_dt2...   \n",
       "3       403.0  NBL10_D0_30HZ_20XINF_UWELL_25651129_142839_dt2...   \n",
       "4       398.0  NBL10_D0_30HZ_20XINF_UWELL_25651129_141653_dt2...   \n",
       "\n",
       "                                          image_path  \\\n",
       "0  /media/tohn/HDD/rheology2023/Blood_Viscosity_2...   \n",
       "1  /media/tohn/HDD/rheology2023/Blood_Viscosity_2...   \n",
       "2  /media/tohn/HDD/rheology2023/Blood_Viscosity_2...   \n",
       "3  /media/tohn/HDD/rheology2023/Blood_Viscosity_2...   \n",
       "4  /media/tohn/HDD/rheology2023/Blood_Viscosity_2...   \n",
       "\n",
       "                                 image_folder folder_source classes   Code  \\\n",
       "0  NBL10_D0_30HZ_20XINF_UWELL_25651129_142354    SSD_Backup     NBL  NBL10   \n",
       "1  NBL10_D0_30HZ_20XINF_UWELL_25651129_141005    SSD_Backup     NBL  NBL10   \n",
       "2  NBL10_D0_30HZ_20XINF_UWELL_25651129_141915    SSD_Backup     NBL  NBL10   \n",
       "3  NBL10_D0_30HZ_20XINF_UWELL_25651129_142839    SSD_Backup     NBL  NBL10   \n",
       "4  NBL10_D0_30HZ_20XINF_UWELL_25651129_141653    SSD_Backup     NBL  NBL10   \n",
       "\n",
       "  subclass  fold         dt  classes_binary   MCV   MCH    Hb  \n",
       "0   Normal     6  [2, 5, 7]             0.0  83.5  25.8  13.0  \n",
       "1   Normal     6  [2, 5, 7]             0.0  83.5  25.8  13.0  \n",
       "2   Normal     6  [2, 5, 7]             0.0  83.5  25.8  13.0  \n",
       "3   Normal     6  [2, 5, 7]             0.0  83.5  25.8  13.0  \n",
       "4   Normal     6  [2, 5, 7]             0.0  83.5  25.8  13.0  "
      ]
     },
     "execution_count": 73,
     "metadata": {},
     "output_type": "execute_result"
    }
   ],
   "source": [
    "df_2dFFT = pd.read_csv(\"/home/kannika/code/Rheology2023/Rheology_Blood/DataBlood_Viscosity_2dFFTdataset_3channels_6Fold_split2class-ver2.csv\")\n",
    "train_2dFFT = df_2dFFT[df_2dFFT['fold']!=fold].reset_index(drop=True)\n",
    "print(\"Fold Train set\", set(train_2dFFT['fold']))\n",
    "print(train_2dFFT.shape)\n",
    "\n",
    "test_2dFFT = df_2dFFT[df_2dFFT['fold']==fold].reset_index(drop=True)\n",
    "print(\"Fold Test set\", set(test_2dFFT['fold']))\n",
    "print(test_2dFFT.shape)\n",
    "\n",
    "test_2dFFT.head()"
   ]
  },
  {
   "cell_type": "code",
   "execution_count": 74,
   "id": "urban-horizontal",
   "metadata": {},
   "outputs": [],
   "source": [
    "def predict_image(img_path):\n",
    "    # Read the image and resize it\n",
    "    img = image.load_img(img_path, target_size=(height, width))\n",
    "    # Convert it to a Numpy array with target shape.\n",
    "    x = image.img_to_array(img)\n",
    "    # Reshape\n",
    "    x = x.reshape((1,) + x.shape)\n",
    "    x /= 255.\n",
    "    result = model.predict([x])\n",
    "    \n",
    "    return result[0]\n",
    "   # return result[0][1:]"
   ]
  },
  {
   "cell_type": "code",
   "execution_count": 75,
   "id": "involved-sense",
   "metadata": {
    "scrolled": true
   },
   "outputs": [
    {
     "name": "stdout",
     "output_type": "stream",
     "text": [
      "1/1 [==============================] - 2s 2s/step\n",
      "1/1 [==============================] - 0s 42ms/step\n",
      "1/1 [==============================] - 0s 44ms/step\n",
      "1/1 [==============================] - 0s 40ms/step\n",
      "1/1 [==============================] - 0s 42ms/step\n",
      "1/1 [==============================] - 0s 43ms/step\n",
      "1/1 [==============================] - 0s 42ms/step\n",
      "1/1 [==============================] - 0s 39ms/step\n",
      "1/1 [==============================] - 0s 41ms/step\n",
      "1/1 [==============================] - 0s 41ms/step\n",
      "1/1 [==============================] - 0s 41ms/step\n",
      "1/1 [==============================] - 0s 42ms/step\n",
      "1/1 [==============================] - 0s 45ms/step\n",
      "1/1 [==============================] - 0s 41ms/step\n",
      "1/1 [==============================] - 0s 39ms/step\n",
      "1/1 [==============================] - 0s 41ms/step\n",
      "1/1 [==============================] - 0s 41ms/step\n",
      "1/1 [==============================] - 0s 42ms/step\n",
      "1/1 [==============================] - 0s 42ms/step\n",
      "1/1 [==============================] - 0s 40ms/step\n",
      "1/1 [==============================] - 0s 40ms/step\n",
      "1/1 [==============================] - 0s 57ms/step\n",
      "1/1 [==============================] - 0s 43ms/step\n",
      "1/1 [==============================] - 0s 41ms/step\n",
      "1/1 [==============================] - 0s 40ms/step\n",
      "1/1 [==============================] - 0s 47ms/step\n",
      "1/1 [==============================] - 0s 44ms/step\n",
      "1/1 [==============================] - 0s 42ms/step\n",
      "1/1 [==============================] - 0s 41ms/step\n",
      "1/1 [==============================] - 0s 40ms/step\n",
      "1/1 [==============================] - 0s 40ms/step\n",
      "1/1 [==============================] - 0s 39ms/step\n",
      "1/1 [==============================] - 0s 39ms/step\n",
      "1/1 [==============================] - 0s 42ms/step\n",
      "1/1 [==============================] - 0s 42ms/step\n",
      "1/1 [==============================] - 0s 40ms/step\n",
      "1/1 [==============================] - 0s 41ms/step\n",
      "1/1 [==============================] - 0s 43ms/step\n",
      "1/1 [==============================] - 0s 43ms/step\n",
      "1/1 [==============================] - 0s 39ms/step\n",
      "1/1 [==============================] - 0s 39ms/step\n",
      "1/1 [==============================] - 0s 39ms/step\n",
      "1/1 [==============================] - 0s 39ms/step\n",
      "1/1 [==============================] - 0s 61ms/step\n",
      "1/1 [==============================] - 0s 41ms/step\n"
     ]
    }
   ],
   "source": [
    "img_path = test_2dFFT['image_path'].tolist()   ## path to list\n",
    "### Predict\n",
    "pred_list= []\n",
    "for i in range(0,len(img_path)):\n",
    "    predict = predict_image(img_path[i]) \n",
    "    pred_list.append(predict)"
   ]
  },
  {
   "cell_type": "code",
   "execution_count": 76,
   "id": "lesbian-gateway",
   "metadata": {
    "scrolled": true
   },
   "outputs": [
    {
     "name": "stdout",
     "output_type": "stream",
     "text": [
      "45\n"
     ]
    },
    {
     "data": {
      "text/plain": [
       "[array([0.0921418], dtype=float32),\n",
       " array([0.08900467], dtype=float32),\n",
       " array([0.090064], dtype=float32),\n",
       " array([0.09036998], dtype=float32),\n",
       " array([0.09150641], dtype=float32),\n",
       " array([0.23178516], dtype=float32),\n",
       " array([0.9041534], dtype=float32),\n",
       " array([0.09040463], dtype=float32),\n",
       " array([0.08895481], dtype=float32),\n",
       " array([0.08850463], dtype=float32),\n",
       " array([0.08830775], dtype=float32),\n",
       " array([0.09435091], dtype=float32),\n",
       " array([0.09552746], dtype=float32),\n",
       " array([0.08832866], dtype=float32),\n",
       " array([0.08952433], dtype=float32),\n",
       " array([0.09034181], dtype=float32),\n",
       " array([0.0896818], dtype=float32),\n",
       " array([0.08986551], dtype=float32),\n",
       " array([0.09009822], dtype=float32),\n",
       " array([0.09003289], dtype=float32),\n",
       " array([0.0889747], dtype=float32),\n",
       " array([0.9067052], dtype=float32),\n",
       " array([0.90648115], dtype=float32),\n",
       " array([0.9064885], dtype=float32),\n",
       " array([0.90731394], dtype=float32),\n",
       " array([0.9070848], dtype=float32),\n",
       " array([0.9076523], dtype=float32),\n",
       " array([0.90704453], dtype=float32),\n",
       " array([0.90702647], dtype=float32),\n",
       " array([0.9072676], dtype=float32),\n",
       " array([0.90673727], dtype=float32),\n",
       " array([0.9068352], dtype=float32),\n",
       " array([0.9070352], dtype=float32),\n",
       " array([0.9073856], dtype=float32),\n",
       " array([0.90608954], dtype=float32),\n",
       " array([0.9065223], dtype=float32),\n",
       " array([0.9060133], dtype=float32),\n",
       " array([0.09004954], dtype=float32),\n",
       " array([0.9064102], dtype=float32),\n",
       " array([0.9019609], dtype=float32),\n",
       " array([0.90766746], dtype=float32),\n",
       " array([0.9072534], dtype=float32),\n",
       " array([0.90482193], dtype=float32),\n",
       " array([0.9069648], dtype=float32),\n",
       " array([0.90512586], dtype=float32)]"
      ]
     },
     "execution_count": 76,
     "metadata": {},
     "output_type": "execute_result"
    }
   ],
   "source": [
    "print(len(pred_list))\n",
    "pred_list"
   ]
  },
  {
   "cell_type": "code",
   "execution_count": 77,
   "id": "changed-dayton",
   "metadata": {},
   "outputs": [],
   "source": [
    "_pred_label = []\n",
    "for m in pred_list:\n",
    "    #print(m)\n",
    "    for n in range(len(m)):\n",
    "        #print(m[n])\n",
    "        if m[n] >= 0.5:  ## Sigmoid(Z) >= 0.5, y=1\n",
    "            #pred_label.append(1)\n",
    "            _pred_label.append(\"HN\") ## เป็นโรค\n",
    "        else:\n",
    "             _pred_label.append(\"NBL\") ## ไม่เป็นโรค"
   ]
  },
  {
   "cell_type": "code",
   "execution_count": 78,
   "id": "dense-pledge",
   "metadata": {
    "scrolled": true
   },
   "outputs": [
    {
     "name": "stdout",
     "output_type": "stream",
     "text": [
      "45\n"
     ]
    },
    {
     "data": {
      "text/plain": [
       "['NBL',\n",
       " 'NBL',\n",
       " 'NBL',\n",
       " 'NBL',\n",
       " 'NBL',\n",
       " 'NBL',\n",
       " 'HN',\n",
       " 'NBL',\n",
       " 'NBL',\n",
       " 'NBL',\n",
       " 'NBL',\n",
       " 'NBL',\n",
       " 'NBL',\n",
       " 'NBL',\n",
       " 'NBL',\n",
       " 'NBL',\n",
       " 'NBL',\n",
       " 'NBL',\n",
       " 'NBL',\n",
       " 'NBL',\n",
       " 'NBL',\n",
       " 'HN',\n",
       " 'HN',\n",
       " 'HN',\n",
       " 'HN',\n",
       " 'HN',\n",
       " 'HN',\n",
       " 'HN',\n",
       " 'HN',\n",
       " 'HN',\n",
       " 'HN',\n",
       " 'HN',\n",
       " 'HN',\n",
       " 'HN',\n",
       " 'HN',\n",
       " 'HN',\n",
       " 'HN',\n",
       " 'NBL',\n",
       " 'HN',\n",
       " 'HN',\n",
       " 'HN',\n",
       " 'HN',\n",
       " 'HN',\n",
       " 'HN',\n",
       " 'HN']"
      ]
     },
     "execution_count": 78,
     "metadata": {},
     "output_type": "execute_result"
    }
   ],
   "source": [
    "print(len(_pred_label))\n",
    "_pred_label"
   ]
  },
  {
   "cell_type": "code",
   "execution_count": 79,
   "id": "sharing-steering",
   "metadata": {},
   "outputs": [
    {
     "data": {
      "text/html": [
       "<div>\n",
       "<style scoped>\n",
       "    .dataframe tbody tr th:only-of-type {\n",
       "        vertical-align: middle;\n",
       "    }\n",
       "\n",
       "    .dataframe tbody tr th {\n",
       "        vertical-align: top;\n",
       "    }\n",
       "\n",
       "    .dataframe thead th {\n",
       "        text-align: right;\n",
       "    }\n",
       "</style>\n",
       "<table border=\"1\" class=\"dataframe\">\n",
       "  <thead>\n",
       "    <tr style=\"text-align: right;\">\n",
       "      <th></th>\n",
       "      <th>Unnamed: 0.5</th>\n",
       "      <th>Unnamed: 0.4</th>\n",
       "      <th>Unnamed: 0.3</th>\n",
       "      <th>Unnamed: 0.2</th>\n",
       "      <th>Unnamed: 0.1</th>\n",
       "      <th>Unnamed: 0</th>\n",
       "      <th>image_name</th>\n",
       "      <th>image_path</th>\n",
       "      <th>image_folder</th>\n",
       "      <th>folder_source</th>\n",
       "      <th>classes</th>\n",
       "      <th>Code</th>\n",
       "      <th>subclass</th>\n",
       "      <th>fold</th>\n",
       "      <th>dt</th>\n",
       "      <th>classes_binary</th>\n",
       "      <th>MCV</th>\n",
       "      <th>MCH</th>\n",
       "      <th>Hb</th>\n",
       "      <th>category</th>\n",
       "    </tr>\n",
       "  </thead>\n",
       "  <tbody>\n",
       "    <tr>\n",
       "      <th>0</th>\n",
       "      <td>144</td>\n",
       "      <td>157.0</td>\n",
       "      <td>157.0</td>\n",
       "      <td>157.0</td>\n",
       "      <td>401.0</td>\n",
       "      <td>401.0</td>\n",
       "      <td>NBL10_D0_30HZ_20XINF_UWELL_25651129_142354_dt2...</td>\n",
       "      <td>/media/tohn/HDD/rheology2023/Blood_Viscosity_2...</td>\n",
       "      <td>NBL10_D0_30HZ_20XINF_UWELL_25651129_142354</td>\n",
       "      <td>SSD_Backup</td>\n",
       "      <td>NBL</td>\n",
       "      <td>NBL10</td>\n",
       "      <td>Normal</td>\n",
       "      <td>6</td>\n",
       "      <td>[2, 5, 7]</td>\n",
       "      <td>0.0</td>\n",
       "      <td>83.5</td>\n",
       "      <td>25.8</td>\n",
       "      <td>13.0</td>\n",
       "      <td>NBL</td>\n",
       "    </tr>\n",
       "    <tr>\n",
       "      <th>1</th>\n",
       "      <td>145</td>\n",
       "      <td>164.0</td>\n",
       "      <td>164.0</td>\n",
       "      <td>164.0</td>\n",
       "      <td>396.0</td>\n",
       "      <td>396.0</td>\n",
       "      <td>NBL10_D0_30HZ_20XINF_UWELL_25651129_141005_dt2...</td>\n",
       "      <td>/media/tohn/HDD/rheology2023/Blood_Viscosity_2...</td>\n",
       "      <td>NBL10_D0_30HZ_20XINF_UWELL_25651129_141005</td>\n",
       "      <td>SSD_Backup</td>\n",
       "      <td>NBL</td>\n",
       "      <td>NBL10</td>\n",
       "      <td>Normal</td>\n",
       "      <td>6</td>\n",
       "      <td>[2, 5, 7]</td>\n",
       "      <td>0.0</td>\n",
       "      <td>83.5</td>\n",
       "      <td>25.8</td>\n",
       "      <td>13.0</td>\n",
       "      <td>NBL</td>\n",
       "    </tr>\n",
       "    <tr>\n",
       "      <th>2</th>\n",
       "      <td>146</td>\n",
       "      <td>167.0</td>\n",
       "      <td>167.0</td>\n",
       "      <td>167.0</td>\n",
       "      <td>399.0</td>\n",
       "      <td>399.0</td>\n",
       "      <td>NBL10_D0_30HZ_20XINF_UWELL_25651129_141915_dt2...</td>\n",
       "      <td>/media/tohn/HDD/rheology2023/Blood_Viscosity_2...</td>\n",
       "      <td>NBL10_D0_30HZ_20XINF_UWELL_25651129_141915</td>\n",
       "      <td>SSD_Backup</td>\n",
       "      <td>NBL</td>\n",
       "      <td>NBL10</td>\n",
       "      <td>Normal</td>\n",
       "      <td>6</td>\n",
       "      <td>[2, 5, 7]</td>\n",
       "      <td>0.0</td>\n",
       "      <td>83.5</td>\n",
       "      <td>25.8</td>\n",
       "      <td>13.0</td>\n",
       "      <td>NBL</td>\n",
       "    </tr>\n",
       "  </tbody>\n",
       "</table>\n",
       "</div>"
      ],
      "text/plain": [
       "   Unnamed: 0.5  Unnamed: 0.4  Unnamed: 0.3  Unnamed: 0.2  Unnamed: 0.1  \\\n",
       "0           144         157.0         157.0         157.0         401.0   \n",
       "1           145         164.0         164.0         164.0         396.0   \n",
       "2           146         167.0         167.0         167.0         399.0   \n",
       "\n",
       "   Unnamed: 0                                         image_name  \\\n",
       "0       401.0  NBL10_D0_30HZ_20XINF_UWELL_25651129_142354_dt2...   \n",
       "1       396.0  NBL10_D0_30HZ_20XINF_UWELL_25651129_141005_dt2...   \n",
       "2       399.0  NBL10_D0_30HZ_20XINF_UWELL_25651129_141915_dt2...   \n",
       "\n",
       "                                          image_path  \\\n",
       "0  /media/tohn/HDD/rheology2023/Blood_Viscosity_2...   \n",
       "1  /media/tohn/HDD/rheology2023/Blood_Viscosity_2...   \n",
       "2  /media/tohn/HDD/rheology2023/Blood_Viscosity_2...   \n",
       "\n",
       "                                 image_folder folder_source classes   Code  \\\n",
       "0  NBL10_D0_30HZ_20XINF_UWELL_25651129_142354    SSD_Backup     NBL  NBL10   \n",
       "1  NBL10_D0_30HZ_20XINF_UWELL_25651129_141005    SSD_Backup     NBL  NBL10   \n",
       "2  NBL10_D0_30HZ_20XINF_UWELL_25651129_141915    SSD_Backup     NBL  NBL10   \n",
       "\n",
       "  subclass  fold         dt  classes_binary   MCV   MCH    Hb category  \n",
       "0   Normal     6  [2, 5, 7]             0.0  83.5  25.8  13.0      NBL  \n",
       "1   Normal     6  [2, 5, 7]             0.0  83.5  25.8  13.0      NBL  \n",
       "2   Normal     6  [2, 5, 7]             0.0  83.5  25.8  13.0      NBL  "
      ]
     },
     "execution_count": 79,
     "metadata": {},
     "output_type": "execute_result"
    }
   ],
   "source": [
    "test_2dFFT[\"category\"] = _pred_label\n",
    "test_2dFFT.head(3)"
   ]
  },
  {
   "cell_type": "code",
   "execution_count": null,
   "id": "specific-cooperative",
   "metadata": {},
   "outputs": [],
   "source": []
  },
  {
   "cell_type": "markdown",
   "id": "right-sleeve",
   "metadata": {},
   "source": [
    "# Evaluation"
   ]
  },
  {
   "cell_type": "code",
   "execution_count": 80,
   "id": "assured-relaxation",
   "metadata": {},
   "outputs": [
    {
     "name": "stdout",
     "output_type": "stream",
     "text": [
      "classifier accuracy = 95.55555555555556%\n",
      "              precision    recall  f1-score   support\n",
      "\n",
      "          HN       0.96      0.96      0.96        24\n",
      "         NBL       0.95      0.95      0.95        21\n",
      "\n",
      "    accuracy                           0.96        45\n",
      "   macro avg       0.96      0.96      0.96        45\n",
      "weighted avg       0.96      0.96      0.96        45\n",
      "\n"
     ]
    }
   ],
   "source": [
    "import numpy as np\n",
    "from sklearn.metrics import confusion_matrix\n",
    "\n",
    "act = test_2dFFT['classes'].array\n",
    "pred = test_2dFFT['category'].array\n",
    "\n",
    "cmat = confusion_matrix(act, pred)\n",
    "print('classifier accuracy = {}%'.format((100.*np.trace(cmat))/(np.sum(cmat))))\n",
    "\n",
    "#Marking the Confusion Matrix\n",
    "from sklearn.metrics import classification_report,confusion_matrix\n",
    "print(classification_report(act, pred))#performance"
   ]
  },
  {
   "cell_type": "markdown",
   "id": "opposite-fight",
   "metadata": {},
   "source": [
    "## Confusion matrix"
   ]
  },
  {
   "cell_type": "code",
   "execution_count": 81,
   "id": "offensive-agent",
   "metadata": {},
   "outputs": [
    {
     "data": {
      "text/plain": [
       "Text(0.5, 21.249999999999993, 'Predicted label')"
      ]
     },
     "execution_count": 81,
     "metadata": {},
     "output_type": "execute_result"
    },
    {
     "data": {
      "image/png": "[encoded data removed]",
      "text/plain": [
       "<Figure size 800x500 with 2 Axes>"
      ]
     },
     "metadata": {},
     "output_type": "display_data"
    }
   ],
   "source": [
    "#create CF \n",
    "data = {'Actual': act,'Predicted' : pred,}\n",
    "df = pd.DataFrame(data, columns=['Actual','Predicted'])\n",
    "conf_mat = pd.crosstab(df['Actual'],df['Predicted'],rownames=['Actual'],colnames=['Predicted'])\n",
    "\n",
    "#Confusion matrix\n",
    "from sklearn.metrics import confusion_matrix\n",
    "import matplotlib.pyplot as plt\n",
    "cm = confusion_matrix(act, pred)\n",
    "\n",
    "#plot Confusion matrix\n",
    "import seaborn as sns\n",
    "sns.set()\n",
    "fig, ax = plt.subplots(figsize=(8, 5))\n",
    "\n",
    "ax = sns.heatmap(conf_mat, annot=True, fmt=\"d\", cmap=\"YlGnBu\") #Blues,Oranges,Reds\n",
    "ax.set_title('Confusion matrix',fontsize=20)\n",
    "ax.set_ylabel('True label',fontsize=18)\n",
    "ax.set_xlabel('Predicted label',fontsize=18)"
   ]
  },
  {
   "cell_type": "markdown",
   "id": "8d4419ce",
   "metadata": {},
   "source": [
    "## Confusion matrix"
   ]
  },
  {
   "cell_type": "code",
   "execution_count": 82,
   "id": "adopted-marina",
   "metadata": {},
   "outputs": [
    {
     "data": {
      "text/plain": [
       "array([[23,  1],\n",
       "       [ 1, 20]])"
      ]
     },
     "execution_count": 82,
     "metadata": {},
     "output_type": "execute_result"
    }
   ],
   "source": [
    "cm"
   ]
  },
  {
   "cell_type": "code",
   "execution_count": 83,
   "id": "accessory-freeze",
   "metadata": {},
   "outputs": [
    {
     "name": "stdout",
     "output_type": "stream",
     "text": [
      "True Negative (TN): 23\n",
      "False Positive (FP): 1\n",
      "False Negative (FN): 1\n",
      "True Positive (TP): 20\n"
     ]
    }
   ],
   "source": [
    "tn, fp, fn, tp = confusion_matrix(act, pred).ravel()\n",
    "print(\"True Negative (TN):\", tn)\n",
    "print(\"False Positive (FP):\", fp)\n",
    "print(\"False Negative (FN):\", fn)\n",
    "print(\"True Positive (TP):\", tp)"
   ]
  },
  {
   "cell_type": "code",
   "execution_count": null,
   "id": "641d1954",
   "metadata": {},
   "outputs": [],
   "source": []
  },
  {
   "cell_type": "code",
   "execution_count": null,
   "id": "d2fa98c9",
   "metadata": {},
   "outputs": [],
   "source": []
  },
  {
   "cell_type": "code",
   "execution_count": null,
   "id": "1b63a71f",
   "metadata": {},
   "outputs": [],
   "source": []
  }
 ],
 "metadata": {
  "kernelspec": {
   "display_name": "tf",
   "language": "python",
   "name": "tf"
  },
  "language_info": {
   "codemirror_mode": {
    "name": "ipython",
    "version": 3
   },
   "file_extension": ".py",
   "mimetype": "text/x-python",
   "name": "python",
   "nbconvert_exporter": "python",
   "pygments_lexer": "ipython3",
   "version": "3.9.13"
  }
 },
 "nbformat": 4,
 "nbformat_minor": 5
}
